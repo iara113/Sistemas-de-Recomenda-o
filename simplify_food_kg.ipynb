{
 "cells": [
  {
   "cell_type": "code",
   "execution_count": null,
   "outputs": [],
   "source": [
    "# enables auto-reload of files (%...function MUST BE WITHOUT SPACE!)\n",
    "%load_ext autoreload\n",
    "%autoreload 2"
   ],
   "metadata": {
    "collapsed": false
   }
  },
  {
   "cell_type": "code",
   "execution_count": null,
   "outputs": [],
   "source": [
    "import pandas as pd\n",
    "import food_KG_simplification.graph_utils as graph_utils\n",
    "import nutrition_scores.score_util as score_util\n",
    "import utils"
   ],
   "metadata": {
    "collapsed": false
   }
  },
  {
   "cell_type": "code",
   "execution_count": null,
   "outputs": [],
   "source": [
    "# Define data locations\n",
    "graph_location = '../../data/food_kg/'\n",
    "data_location = '../../data/hummus_data/'\n",
    "additional_location = '../../data/hummus_data/'"
   ],
   "metadata": {
    "collapsed": false
   }
  },
  {
   "cell_type": "markdown",
   "source": [
    "# 1 FoodKG Graph extraction\n",
    "Construct the FoodKG as described in [1]. We use [GraphDB](https://graphdb.ontotext.com/) to store/visualize/query the KG.\n",
    "Convert graph to single rdf file, in our case download graph from GraphDB.\n",
    "First, open GraphDB and download the following queries to csv files:\n",
    "\n",
    "1. all_entities.csv\n",
    "\n",
    "```sql\n",
    "    SELECT DISTINCT ?subject\n",
    "    WHERE {\n",
    "        {?subject ?predicate ?object} UNION {?object ?inverse_predicate ?subject}\n",
    "    }\n",
    "```\n",
    "\n",
    "2. all_relations.csv\n",
    "\n",
    "```sql\n",
    "    SELECT DISTINCT ?predicate\n",
    "    WHERE {\n",
    "        {?subject ?predicate ?object} UNION {?object ?predicate ?subject}\n",
    "    }\n",
    "```\n",
    "\n",
    "3. kg_data.csv\n",
    "\n",
    "```sql\n",
    "    SELECT DISTINCT ?subject ?predicate ?object\n",
    "    WHERE {\n",
    "        ?subject ?predicate ?object\n",
    "    }\n",
    "```\n",
    "\n",
    "Store all files under the directory '/data/food_kg/'."
   ],
   "metadata": {
    "collapsed": false
   }
  },
  {
   "cell_type": "markdown",
   "source": [
    "# 2 FoodKG simplification"
   ],
   "metadata": {
    "collapsed": false
   }
  },
  {
   "cell_type": "code",
   "execution_count": null,
   "outputs": [],
   "source": [
    "# Load the FoodKG triples\n",
    "kg_data = pd.read_csv(graph_location + 'kg_data.csv', sep=\",\")\n",
    "print(f\"KG #triples: {kg_data.shape[0]}\")\n",
    "kg_data.head()"
   ],
   "metadata": {
    "collapsed": false
   }
  },
  {
   "cell_type": "code",
   "execution_count": null,
   "outputs": [],
   "source": [
    "# Removes all nodes not related directly to recipes (like provenance) or other unwanted ontology classes\n",
    "print(f\"KG #triples before: {kg_data.shape[0]}\")\n",
    "kg_data = graph_utils.reduce_graph(kg_data)\n",
    "print(f\"KG #triples after: {kg_data.shape[0]}\")"
   ],
   "metadata": {
    "collapsed": false
   }
  },
  {
   "cell_type": "markdown",
   "source": [
    "## Merge foodKG_ingredients with foodKG_mapped_ingredients\n",
    "\n",
    "In order to simplify the graph the following SPARQL query must be executed in the GraphDB ot get the required mapping:\n",
    "\n",
    "```sql\n",
    "PREFIX rdfs: <http://www.w3.org/2000/01/rdf-schema#>\n",
    "PREFIX recipe-kb: <http://idea.rpi.edu/heals/kb/>\n",
    "SELECT DISTINCT ?ing_name ?recipe ?foodKG_ingredient ?foodKG_mapped_ingredient\n",
    "WHERE {\n",
    "    ?recipe recipe-kb:uses ?foodKG_ingredient.\n",
    "    ?foodKG_ingredient recipe-kb:ing_name ?foodKG_mapped_ingredient.\n",
    "    ?foodKG_mapped_ingredient rdfs:label ?ing_name.\n",
    "}\n",
    "```\n",
    "\n",
    "Name the file `graph_ingredient_mapping.csv` and put it in the graph folder."
   ],
   "metadata": {
    "collapsed": false
   }
  },
  {
   "cell_type": "code",
   "execution_count": null,
   "outputs": [],
   "source": [
    "# read & display the file\n",
    "graph_ingredient_mapping = pd.read_csv(graph_location + 'graph_ingredient_mapping.csv', sep=',')\n",
    "print(f\"Ingredient mapping size: {len(graph_ingredient_mapping)}\")\n",
    "graph_ingredient_mapping.head()"
   ],
   "metadata": {
    "collapsed": false
   }
  },
  {
   "cell_type": "code",
   "execution_count": null,
   "outputs": [],
   "source": [
    "# Merge FoodKG_ingredients and Mapping_ingredients\n",
    "print(f\"KG #triples before: {kg_data.shape[0]}\")\n",
    "kg_data = graph_utils.merge_ingredient_nodes(kg_data, graph_ingredient_mapping)\n",
    "print(f\"KG #triples after: {kg_data.shape[0]}\")"
   ],
   "metadata": {
    "collapsed": false
   }
  },
  {
   "cell_type": "markdown",
   "source": [
    "# 3 FoodKG extension"
   ],
   "metadata": {
    "collapsed": false
   }
  },
  {
   "cell_type": "code",
   "execution_count": null,
   "outputs": [],
   "source": [
    "#Load recipes and reviews\n",
    "recipes_df, reviews_df, users_df, recipes_dict, user_dict, food_locator_dict, food_com_dict, data= utils.load_and_clean_data(\n",
    "    data_location, additional_location,\n",
    "    add_review_columns=['review_id', 'review_url', 'member_url'],\n",
    "    comment_relations=2.5,\n",
    "    authorship_relations=6,\n",
    "    recipe_tags=True, k_user=1,\n",
    "    k_recipe=1, debug=True, keep_old_ids=True)"
   ],
   "metadata": {
    "collapsed": false
   }
  },
  {
   "cell_type": "code",
   "execution_count": null,
   "outputs": [],
   "source": [
    "# Calculate scores\n",
    "normalized_ingredients = utils.normalize_ingredients(recipes_df)\n",
    "recipes_df = score_util.calculate_food_scores(recipes_df, normalized_ingredients, score_names=['who', 'fsa', 'nutri'])"
   ],
   "metadata": {
    "collapsed": false
   }
  },
  {
   "cell_type": "code",
   "execution_count": null,
   "outputs": [],
   "source": [
    "# Add data\n",
    "print(f\"KG #triples: {kg_data.shape[0]}\")\n",
    "kg_data, user_data, recipe_data, review_data = graph_utils.add_data(recipes_df, reviews_df, users_df, food_locator_dict, kg_data)"
   ],
   "metadata": {
    "collapsed": false
   }
  },
  {
   "cell_type": "markdown",
   "source": [
    "# 4 Storing Results"
   ],
   "metadata": {
    "collapsed": false
   }
  },
  {
   "cell_type": "code",
   "execution_count": null,
   "outputs": [],
   "source": [
    "# Store data\n",
    "kg_data.to_csv(graph_location + 'FoodKG_simplified.csv', sep=',', index=False)\n",
    "user_data.to_csv(graph_location + 'FoodKG_extension_users.csv', sep=',', index=False)\n",
    "recipe_data.to_csv(graph_location + 'FoodKG_extension_recipes.csv', sep=',', index=False)\n",
    "review_data.to_csv(graph_location + 'FoodKG_extension_reviews.csv', sep=',', index=False)"
   ],
   "metadata": {
    "collapsed": false
   }
  },
  {
   "cell_type": "code",
   "execution_count": null,
   "outputs": [],
   "source": [
    "# load csv file\n",
    "#kg_data = pd.read_csv(graph_location + 'simplified_FoodKG.csv', sep=',')\n",
    "#user_data = pd.read_csv(graph_location + 'FoodKG_extension_users.csv', sep=',')\n",
    "#recipe_data = pd.read_csv(graph_location + 'FoodKG_extension_recipes.csv', sep=',')\n",
    "#review_data = pd.read_csv(graph_location + 'FoodKG_extension_reviews.csv', sep=',')"
   ],
   "metadata": {
    "collapsed": false
   }
  },
  {
   "cell_type": "code",
   "execution_count": null,
   "outputs": [],
   "source": [
    "# Transform data to rdf\n",
    "turtle_namespaces, kg_triples, user_triples, recipe_triples, review_triples = graph_utils.convert_to_triples(kg_data, user_data, recipe_data, review_data)"
   ],
   "metadata": {
    "collapsed": false
   }
  },
  {
   "cell_type": "code",
   "execution_count": null,
   "outputs": [],
   "source": [
    "# Write graph\n",
    "skipped_kg = graph_utils.write_triples(turtle_namespaces, kg_triples, 'FoodKG_simplified', graph_location)\n",
    "skipped_users = graph_utils.write_triples(turtle_namespaces, user_triples, 'FoodKG_extension_users', graph_location)\n",
    "skipped_recipes = graph_utils.write_triples(turtle_namespaces, recipe_triples, 'FoodKG_extension_recipes', graph_location)\n",
    "skipped_reviews = graph_utils.write_triples(turtle_namespaces, review_triples, 'FoodKG_extension_reviews', graph_location)"
   ],
   "metadata": {
    "collapsed": false
   }
  },
  {
   "cell_type": "markdown",
   "source": [
    "# References\n",
    "[1] Haussmann, S., Seneviratne, O., Chen, Y., Ne’eman, Y., Codella, J., Chen, C. H., … Zaki, M. J. (2019). FoodKG: A Semantics-Driven Knowledge Graph for Food Recommendation. In Lecture Notes in Computer Science (including subseries Lecture Notes in Artificial Intelligence and Lecture Notes in Bioinformatics) (Vol. 11779 LNCS, pp. 146–162). Springer. https://doi.org/10.1007/978-3-030-30796-7_10"
   ],
   "metadata": {
    "collapsed": false
   }
  },
  {
   "cell_type": "code",
   "execution_count": null,
   "outputs": [],
   "source": [],
   "metadata": {
    "collapsed": false
   }
  }
 ],
 "metadata": {
  "kernelspec": {
   "display_name": "Python 3",
   "language": "python",
   "name": "python3"
  },
  "language_info": {
   "codemirror_mode": {
    "name": "ipython",
    "version": 2
   },
   "file_extension": ".py",
   "mimetype": "text/x-python",
   "name": "python",
   "nbconvert_exporter": "python",
   "pygments_lexer": "ipython2",
   "version": "2.7.6"
  }
 },
 "nbformat": 4,
 "nbformat_minor": 0
}
