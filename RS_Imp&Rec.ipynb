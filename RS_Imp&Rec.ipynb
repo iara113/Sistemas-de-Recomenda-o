{
 "cells": [
  {
   "cell_type": "markdown",
   "id": "9a37c0f2-6c1b-414c-a6ea-3b293db81db1",
   "metadata": {},
   "source": [
    "# Recommender Systems - ImplicitLib and RecommenderLib"
   ]
  },
  {
   "cell_type": "code",
   "execution_count": 1,
   "id": "54d249f1-61ea-438d-b33d-d09eddfa6870",
   "metadata": {},
   "outputs": [
    {
     "name": "stdout",
     "output_type": "stream",
     "text": [
      "3.8.19 (default, Mar 20 2024, 19:58:24) \n",
      "[GCC 11.2.0]\n"
     ]
    }
   ],
   "source": [
    "import sys\n",
    "print(sys.version)"
   ]
  },
  {
   "cell_type": "code",
   "execution_count": 2,
   "id": "30982162-e041-4432-ba95-b82f46598b99",
   "metadata": {},
   "outputs": [
    {
     "name": "stdout",
     "output_type": "stream",
     "text": [
      "/home/beatriziarasilva03/Estagio\n"
     ]
    }
   ],
   "source": [
    "import os\n",
    "print(os.getcwd())"
   ]
  },
  {
   "cell_type": "markdown",
   "id": "0f69b80f-9ca8-4b07-963c-57622682af14",
   "metadata": {
    "jp-MarkdownHeadingCollapsed": true
   },
   "source": [
    "# Requirements"
   ]
  },
  {
   "cell_type": "code",
   "execution_count": 3,
   "id": "484e3383-9147-426a-bbd8-c7497ea2d26e",
   "metadata": {},
   "outputs": [
    {
     "name": "stdout",
     "output_type": "stream",
     "text": [
      "Collecting numpy==1.23.3\n",
      "  Downloading numpy-1.23.3-cp38-cp38-manylinux_2_17_x86_64.manylinux2014_x86_64.whl.metadata (2.3 kB)\n",
      "Downloading numpy-1.23.3-cp38-cp38-manylinux_2_17_x86_64.manylinux2014_x86_64.whl (17.1 MB)\n",
      "\u001b[2K   \u001b[90m━━━━━━━━━━━━━━━━━━━━━━━━━━━━━━━━━━━━━━━━\u001b[0m \u001b[32m17.1/17.1 MB\u001b[0m \u001b[31m54.9 MB/s\u001b[0m eta \u001b[36m0:00:00\u001b[0m00:01\u001b[0m00:01\u001b[0m\n",
      "\u001b[?25hInstalling collected packages: numpy\n",
      "Successfully installed numpy-1.23.3\n",
      "Note: you may need to restart the kernel to use updated packages.\n"
     ]
    }
   ],
   "source": [
    "pip install numpy==1.23.3"
   ]
  },
  {
   "cell_type": "code",
   "execution_count": 4,
   "id": "337836cb-c048-4544-8696-7cec0563eabc",
   "metadata": {},
   "outputs": [
    {
     "name": "stdout",
     "output_type": "stream",
     "text": [
      "Collecting easydict==1.10\n",
      "  Downloading easydict-1.10.tar.gz (6.4 kB)\n",
      "  Preparing metadata (setup.py) ... \u001b[?25ldone\n",
      "\u001b[?25hBuilding wheels for collected packages: easydict\n",
      "  Building wheel for easydict (setup.py) ... \u001b[?25ldone\n",
      "\u001b[?25h  Created wheel for easydict: filename=easydict-1.10-py3-none-any.whl size=6491 sha256=84ffb2a1163fd4321ab5882f2480d330411f64efb5dffd8e11297901ef1dd4ca\n",
      "  Stored in directory: /home/beatriziarasilva03/.cache/pip/wheels/fe/4e/02/c9c3154e4845bfdbf1fdf344f5a89f16dcbb4f627a908c9974\n",
      "Successfully built easydict\n",
      "Installing collected packages: easydict\n",
      "Successfully installed easydict-1.10\n",
      "Note: you may need to restart the kernel to use updated packages.\n"
     ]
    }
   ],
   "source": [
    "pip install easydict==1.10"
   ]
  },
  {
   "cell_type": "code",
   "execution_count": 5,
   "id": "457ca593-8dec-46af-956f-43a281c8611f",
   "metadata": {},
   "outputs": [
    {
     "name": "stdout",
     "output_type": "stream",
     "text": [
      "Collecting implicit==0.6.2\n",
      "  Downloading implicit-0.6.2-cp38-cp38-manylinux2014_x86_64.whl.metadata (6.1 kB)\n",
      "Requirement already satisfied: numpy in /home/beatriziarasilva03/miniconda3/envs/rslib/lib/python3.8/site-packages (from implicit==0.6.2) (1.23.3)\n",
      "Collecting scipy>=0.16 (from implicit==0.6.2)\n",
      "  Downloading scipy-1.10.1-cp38-cp38-manylinux_2_17_x86_64.manylinux2014_x86_64.whl.metadata (58 kB)\n",
      "\u001b[2K     \u001b[90m━━━━━━━━━━━━━━━━━━━━━━━━━━━━━━━━━━━━━━━━\u001b[0m \u001b[32m58.9/58.9 kB\u001b[0m \u001b[31m1.2 MB/s\u001b[0m eta \u001b[36m0:00:00\u001b[0ma \u001b[36m0:00:01\u001b[0m\n",
      "\u001b[?25hCollecting tqdm>=4.27 (from implicit==0.6.2)\n",
      "  Downloading tqdm-4.66.4-py3-none-any.whl.metadata (57 kB)\n",
      "\u001b[2K     \u001b[90m━━━━━━━━━━━━━━━━━━━━━━━━━━━━━━━━━━━━━━━━\u001b[0m \u001b[32m57.6/57.6 kB\u001b[0m \u001b[31m3.2 MB/s\u001b[0m eta \u001b[36m0:00:00\u001b[0m\n",
      "\u001b[?25hDownloading implicit-0.6.2-cp38-cp38-manylinux2014_x86_64.whl (18.6 MB)\n",
      "\u001b[2K   \u001b[90m━━━━━━━━━━━━━━━━━━━━━━━━━━━━━━━━━━━━━━━━\u001b[0m \u001b[32m18.6/18.6 MB\u001b[0m \u001b[31m61.7 MB/s\u001b[0m eta \u001b[36m0:00:00\u001b[0m00:01\u001b[0m00:01\u001b[0m\n",
      "\u001b[?25hDownloading scipy-1.10.1-cp38-cp38-manylinux_2_17_x86_64.manylinux2014_x86_64.whl (34.5 MB)\n",
      "\u001b[2K   \u001b[90m━━━━━━━━━━━━━━━━━━━━━━━━━━━━━━━━━━━━━━━━\u001b[0m \u001b[32m34.5/34.5 MB\u001b[0m \u001b[31m38.8 MB/s\u001b[0m eta \u001b[36m0:00:00\u001b[0m00:01\u001b[0m00:01\u001b[0m\n",
      "\u001b[?25hDownloading tqdm-4.66.4-py3-none-any.whl (78 kB)\n",
      "\u001b[2K   \u001b[90m━━━━━━━━━━━━━━━━━━━━━━━━━━━━━━━━━━━━━━━━\u001b[0m \u001b[32m78.3/78.3 kB\u001b[0m \u001b[31m8.1 MB/s\u001b[0m eta \u001b[36m0:00:00\u001b[0m\n",
      "\u001b[?25hInstalling collected packages: tqdm, scipy, implicit\n",
      "Successfully installed implicit-0.6.2 scipy-1.10.1 tqdm-4.66.4\n",
      "Note: you may need to restart the kernel to use updated packages.\n"
     ]
    }
   ],
   "source": [
    "pip install implicit==0.6.2"
   ]
  },
  {
   "cell_type": "code",
   "execution_count": 6,
   "id": "565ffda3-6f8a-4a52-aa06-3259398786c0",
   "metadata": {},
   "outputs": [
    {
     "name": "stdout",
     "output_type": "stream",
     "text": [
      "Collecting matplotlib==3.6.2\n",
      "  Downloading matplotlib-3.6.2-cp38-cp38-manylinux_2_12_x86_64.manylinux2010_x86_64.whl.metadata (6.8 kB)\n",
      "Collecting contourpy>=1.0.1 (from matplotlib==3.6.2)\n",
      "  Downloading contourpy-1.1.1-cp38-cp38-manylinux_2_17_x86_64.manylinux2014_x86_64.whl.metadata (5.9 kB)\n",
      "Collecting cycler>=0.10 (from matplotlib==3.6.2)\n",
      "  Downloading cycler-0.12.1-py3-none-any.whl.metadata (3.8 kB)\n",
      "Collecting fonttools>=4.22.0 (from matplotlib==3.6.2)\n",
      "  Downloading fonttools-4.53.0-cp38-cp38-manylinux_2_17_x86_64.manylinux2014_x86_64.whl.metadata (162 kB)\n",
      "\u001b[2K     \u001b[90m━━━━━━━━━━━━━━━━━━━━━━━━━━━━━━━━━━━━━━━\u001b[0m \u001b[32m162.2/162.2 kB\u001b[0m \u001b[31m1.9 MB/s\u001b[0m eta \u001b[36m0:00:00\u001b[0ma \u001b[36m0:00:01\u001b[0m\n",
      "\u001b[?25hCollecting kiwisolver>=1.0.1 (from matplotlib==3.6.2)\n",
      "  Downloading kiwisolver-1.4.5-cp38-cp38-manylinux_2_5_x86_64.manylinux1_x86_64.whl.metadata (6.4 kB)\n",
      "Requirement already satisfied: numpy>=1.19 in /home/beatriziarasilva03/miniconda3/envs/rslib/lib/python3.8/site-packages (from matplotlib==3.6.2) (1.23.3)\n",
      "Requirement already satisfied: packaging>=20.0 in /home/beatriziarasilva03/miniconda3/envs/rslib/lib/python3.8/site-packages (from matplotlib==3.6.2) (23.2)\n",
      "Collecting pillow>=6.2.0 (from matplotlib==3.6.2)\n",
      "  Downloading pillow-10.3.0-cp38-cp38-manylinux_2_28_x86_64.whl.metadata (9.2 kB)\n",
      "Collecting pyparsing>=2.2.1 (from matplotlib==3.6.2)\n",
      "  Downloading pyparsing-3.1.2-py3-none-any.whl.metadata (5.1 kB)\n",
      "Requirement already satisfied: python-dateutil>=2.7 in /home/beatriziarasilva03/miniconda3/envs/rslib/lib/python3.8/site-packages (from matplotlib==3.6.2) (2.9.0.post0)\n",
      "Requirement already satisfied: six>=1.5 in /home/beatriziarasilva03/miniconda3/envs/rslib/lib/python3.8/site-packages (from python-dateutil>=2.7->matplotlib==3.6.2) (1.16.0)\n",
      "Downloading matplotlib-3.6.2-cp38-cp38-manylinux_2_12_x86_64.manylinux2010_x86_64.whl (9.4 MB)\n",
      "\u001b[2K   \u001b[90m━━━━━━━━━━━━━━━━━━━━━━━━━━━━━━━━━━━━━━━━\u001b[0m \u001b[32m9.4/9.4 MB\u001b[0m \u001b[31m40.9 MB/s\u001b[0m eta \u001b[36m0:00:00\u001b[0m00:01\u001b[0m00:01\u001b[0m\n",
      "\u001b[?25hDownloading contourpy-1.1.1-cp38-cp38-manylinux_2_17_x86_64.manylinux2014_x86_64.whl (301 kB)\n",
      "\u001b[2K   \u001b[90m━━━━━━━━━━━━━━━━━━━━━━━━━━━━━━━━━━━━━━━━\u001b[0m \u001b[32m301.1/301.1 kB\u001b[0m \u001b[31m33.2 MB/s\u001b[0m eta \u001b[36m0:00:00\u001b[0m\n",
      "\u001b[?25hDownloading cycler-0.12.1-py3-none-any.whl (8.3 kB)\n",
      "Downloading fonttools-4.53.0-cp38-cp38-manylinux_2_17_x86_64.manylinux2014_x86_64.whl (4.7 MB)\n",
      "\u001b[2K   \u001b[90m━━━━━━━━━━━━━━━━━━━━━━━━━━━━━━━━━━━━━━━━\u001b[0m \u001b[32m4.7/4.7 MB\u001b[0m \u001b[31m75.6 MB/s\u001b[0m eta \u001b[36m0:00:00\u001b[0mta \u001b[36m0:00:01\u001b[0m\n",
      "\u001b[?25hDownloading kiwisolver-1.4.5-cp38-cp38-manylinux_2_5_x86_64.manylinux1_x86_64.whl (1.2 MB)\n",
      "\u001b[2K   \u001b[90m━━━━━━━━━━━━━━━━━━━━━━━━━━━━━━━━━━━━━━━━\u001b[0m \u001b[32m1.2/1.2 MB\u001b[0m \u001b[31m66.4 MB/s\u001b[0m eta \u001b[36m0:00:00\u001b[0m\n",
      "\u001b[?25hDownloading pillow-10.3.0-cp38-cp38-manylinux_2_28_x86_64.whl (4.5 MB)\n",
      "\u001b[2K   \u001b[90m━━━━━━━━━━━━━━━━━━━━━━━━━━━━━━━━━━━━━━━━\u001b[0m \u001b[32m4.5/4.5 MB\u001b[0m \u001b[31m70.7 MB/s\u001b[0m eta \u001b[36m0:00:00\u001b[0mta \u001b[36m0:00:01\u001b[0m\n",
      "\u001b[?25hDownloading pyparsing-3.1.2-py3-none-any.whl (103 kB)\n",
      "\u001b[2K   \u001b[90m━━━━━━━━━━━━━━━━━━━━━━━━━━━━━━━━━━━━━━━━\u001b[0m \u001b[32m103.2/103.2 kB\u001b[0m \u001b[31m11.9 MB/s\u001b[0m eta \u001b[36m0:00:00\u001b[0m\n",
      "\u001b[?25hInstalling collected packages: pyparsing, pillow, kiwisolver, fonttools, cycler, contourpy, matplotlib\n",
      "Successfully installed contourpy-1.1.1 cycler-0.12.1 fonttools-4.53.0 kiwisolver-1.4.5 matplotlib-3.6.2 pillow-10.3.0 pyparsing-3.1.2\n",
      "Note: you may need to restart the kernel to use updated packages.\n"
     ]
    }
   ],
   "source": [
    "pip install matplotlib==3.6.2"
   ]
  },
  {
   "cell_type": "code",
   "execution_count": 7,
   "id": "46134f2e-d3e4-4795-a07c-9ab82e8c1c05",
   "metadata": {},
   "outputs": [
    {
     "name": "stdout",
     "output_type": "stream",
     "text": [
      "Collecting nltk==3.8\n",
      "  Downloading nltk-3.8-py3-none-any.whl.metadata (2.8 kB)\n",
      "Collecting click (from nltk==3.8)\n",
      "  Downloading click-8.1.7-py3-none-any.whl.metadata (3.0 kB)\n",
      "Collecting joblib (from nltk==3.8)\n",
      "  Downloading joblib-1.4.2-py3-none-any.whl.metadata (5.4 kB)\n",
      "Collecting regex>=2021.8.3 (from nltk==3.8)\n",
      "  Downloading regex-2024.5.15-cp38-cp38-manylinux_2_17_x86_64.manylinux2014_x86_64.whl.metadata (40 kB)\n",
      "\u001b[2K     \u001b[90m━━━━━━━━━━━━━━━━━━━━━━━━━━━━━━━━━━━━━━━\u001b[0m \u001b[32m40.9/40.9 kB\u001b[0m \u001b[31m696.2 kB/s\u001b[0m eta \u001b[36m0:00:00\u001b[0m \u001b[36m0:00:01\u001b[0m\n",
      "\u001b[?25hRequirement already satisfied: tqdm in /home/beatriziarasilva03/miniconda3/envs/rslib/lib/python3.8/site-packages (from nltk==3.8) (4.66.4)\n",
      "Downloading nltk-3.8-py3-none-any.whl (1.5 MB)\n",
      "\u001b[2K   \u001b[90m━━━━━━━━━━━━━━━━━━━━━━━━━━━━━━━━━━━━━━━━\u001b[0m \u001b[32m1.5/1.5 MB\u001b[0m \u001b[31m8.7 MB/s\u001b[0m eta \u001b[36m0:00:00\u001b[0ma \u001b[36m0:00:01\u001b[0m\n",
      "\u001b[?25hDownloading regex-2024.5.15-cp38-cp38-manylinux_2_17_x86_64.manylinux2014_x86_64.whl (776 kB)\n",
      "\u001b[2K   \u001b[90m━━━━━━━━━━━━━━━━━━━━━━━━━━━━━━━━━━━━━━━━\u001b[0m \u001b[32m776.2/776.2 kB\u001b[0m \u001b[31m47.2 MB/s\u001b[0m eta \u001b[36m0:00:00\u001b[0m\n",
      "\u001b[?25hDownloading click-8.1.7-py3-none-any.whl (97 kB)\n",
      "\u001b[2K   \u001b[90m━━━━━━━━━━━━━━━━━━━━━━━━━━━━━━━━━━━━━━━━\u001b[0m \u001b[32m97.9/97.9 kB\u001b[0m \u001b[31m9.7 MB/s\u001b[0m eta \u001b[36m0:00:00\u001b[0m\n",
      "\u001b[?25hDownloading joblib-1.4.2-py3-none-any.whl (301 kB)\n",
      "\u001b[2K   \u001b[90m━━━━━━━━━━━━━━━━━━━━━━━━━━━━━━━━━━━━━━━━\u001b[0m \u001b[32m301.8/301.8 kB\u001b[0m \u001b[31m28.5 MB/s\u001b[0m eta \u001b[36m0:00:00\u001b[0m\n",
      "\u001b[?25hInstalling collected packages: regex, joblib, click, nltk\n",
      "Successfully installed click-8.1.7 joblib-1.4.2 nltk-3.8 regex-2024.5.15\n",
      "Note: you may need to restart the kernel to use updated packages.\n"
     ]
    }
   ],
   "source": [
    "pip install nltk==3.8"
   ]
  },
  {
   "cell_type": "code",
   "execution_count": 8,
   "id": "577c593c-149b-4671-b8d0-f9a700e84caa",
   "metadata": {},
   "outputs": [
    {
     "name": "stdout",
     "output_type": "stream",
     "text": [
      "Collecting pandas==1.5.0\n",
      "  Downloading pandas-1.5.0-cp38-cp38-manylinux_2_17_x86_64.manylinux2014_x86_64.whl.metadata (11 kB)\n",
      "Requirement already satisfied: python-dateutil>=2.8.1 in /home/beatriziarasilva03/miniconda3/envs/rslib/lib/python3.8/site-packages (from pandas==1.5.0) (2.9.0.post0)\n",
      "Requirement already satisfied: pytz>=2020.1 in /home/beatriziarasilva03/miniconda3/envs/rslib/lib/python3.8/site-packages (from pandas==1.5.0) (2024.1)\n",
      "Requirement already satisfied: numpy>=1.20.3 in /home/beatriziarasilva03/miniconda3/envs/rslib/lib/python3.8/site-packages (from pandas==1.5.0) (1.23.3)\n",
      "Requirement already satisfied: six>=1.5 in /home/beatriziarasilva03/miniconda3/envs/rslib/lib/python3.8/site-packages (from python-dateutil>=2.8.1->pandas==1.5.0) (1.16.0)\n",
      "Downloading pandas-1.5.0-cp38-cp38-manylinux_2_17_x86_64.manylinux2014_x86_64.whl (12.2 MB)\n",
      "\u001b[2K   \u001b[90m━━━━━━━━━━━━━━━━━━━━━━━━━━━━━━━━━━━━━━━━\u001b[0m \u001b[32m12.2/12.2 MB\u001b[0m \u001b[31m64.6 MB/s\u001b[0m eta \u001b[36m0:00:00\u001b[0m00:01\u001b[0m00:01\u001b[0m\n",
      "\u001b[?25hInstalling collected packages: pandas\n",
      "Successfully installed pandas-1.5.0\n",
      "Note: you may need to restart the kernel to use updated packages.\n"
     ]
    }
   ],
   "source": [
    "pip install pandas==1.5.0"
   ]
  },
  {
   "cell_type": "code",
   "execution_count": 9,
   "id": "303f0922-d128-45e5-a401-829b2f99228d",
   "metadata": {},
   "outputs": [
    {
     "name": "stdout",
     "output_type": "stream",
     "text": [
      "Collecting requests==2.28.1\n",
      "  Downloading requests-2.28.1-py3-none-any.whl.metadata (4.6 kB)\n",
      "Requirement already satisfied: charset-normalizer<3,>=2 in /home/beatriziarasilva03/miniconda3/envs/rslib/lib/python3.8/site-packages (from requests==2.28.1) (2.0.4)\n",
      "Requirement already satisfied: idna<4,>=2.5 in /home/beatriziarasilva03/miniconda3/envs/rslib/lib/python3.8/site-packages (from requests==2.28.1) (3.7)\n",
      "Collecting urllib3<1.27,>=1.21.1 (from requests==2.28.1)\n",
      "  Downloading urllib3-1.26.19-py2.py3-none-any.whl.metadata (49 kB)\n",
      "\u001b[2K     \u001b[90m━━━━━━━━━━━━━━━━━━━━━━━━━━━━━━━━━━━━━━━\u001b[0m \u001b[32m49.3/49.3 kB\u001b[0m \u001b[31m895.0 kB/s\u001b[0m eta \u001b[36m0:00:00\u001b[0m \u001b[36m0:00:01\u001b[0m\n",
      "\u001b[?25hRequirement already satisfied: certifi>=2017.4.17 in /home/beatriziarasilva03/miniconda3/envs/rslib/lib/python3.8/site-packages (from requests==2.28.1) (2024.6.2)\n",
      "Downloading requests-2.28.1-py3-none-any.whl (62 kB)\n",
      "\u001b[2K   \u001b[90m━━━━━━━━━━━━━━━━━━━━━━━━━━━━━━━━━━━━━━━━\u001b[0m \u001b[32m62.8/62.8 kB\u001b[0m \u001b[31m2.7 MB/s\u001b[0m eta \u001b[36m0:00:00\u001b[0m\n",
      "\u001b[?25hDownloading urllib3-1.26.19-py2.py3-none-any.whl (143 kB)\n",
      "\u001b[2K   \u001b[90m━━━━━━━━━━━━━━━━━━━━━━━━━━━━━━━━━━━━━━━━\u001b[0m \u001b[32m143.9/143.9 kB\u001b[0m \u001b[31m3.0 MB/s\u001b[0m eta \u001b[36m0:00:00\u001b[0ma \u001b[36m0:00:01\u001b[0m\n",
      "\u001b[?25hInstalling collected packages: urllib3, requests\n",
      "  Attempting uninstall: urllib3\n",
      "    Found existing installation: urllib3 2.2.2\n",
      "    Uninstalling urllib3-2.2.2:\n",
      "      Successfully uninstalled urllib3-2.2.2\n",
      "  Attempting uninstall: requests\n",
      "    Found existing installation: requests 2.32.2\n",
      "    Uninstalling requests-2.32.2:\n",
      "      Successfully uninstalled requests-2.32.2\n",
      "\u001b[31mERROR: pip's dependency resolver does not currently take into account all the packages that are installed. This behaviour is the source of the following dependency conflicts.\n",
      "jupyterlab-server 2.25.1 requires requests>=2.31, but you have requests 2.28.1 which is incompatible.\u001b[0m\u001b[31m\n",
      "\u001b[0mSuccessfully installed requests-2.28.1 urllib3-1.26.19\n",
      "Note: you may need to restart the kernel to use updated packages.\n"
     ]
    }
   ],
   "source": [
    "pip install requests==2.28.1"
   ]
  },
  {
   "cell_type": "code",
   "execution_count": 10,
   "id": "d6645f44-be88-484d-a590-434931f73016",
   "metadata": {},
   "outputs": [
    {
     "name": "stdout",
     "output_type": "stream",
     "text": [
      "Collecting s3fs==2023.1.0\n",
      "  Downloading s3fs-2023.1.0-py3-none-any.whl.metadata (1.5 kB)\n",
      "Collecting aiobotocore~=2.4.2 (from s3fs==2023.1.0)\n",
      "  Downloading aiobotocore-2.4.2-py3-none-any.whl.metadata (19 kB)\n",
      "Collecting fsspec==2023.1.0 (from s3fs==2023.1.0)\n",
      "  Downloading fsspec-2023.1.0-py3-none-any.whl.metadata (5.5 kB)\n",
      "Collecting aiohttp!=4.0.0a0,!=4.0.0a1 (from s3fs==2023.1.0)\n",
      "  Downloading aiohttp-3.9.5-cp38-cp38-manylinux_2_17_x86_64.manylinux2014_x86_64.whl.metadata (7.5 kB)\n",
      "Collecting botocore<1.27.60,>=1.27.59 (from aiobotocore~=2.4.2->s3fs==2023.1.0)\n",
      "  Downloading botocore-1.27.59-py3-none-any.whl.metadata (5.9 kB)\n",
      "Collecting wrapt>=1.10.10 (from aiobotocore~=2.4.2->s3fs==2023.1.0)\n",
      "  Downloading wrapt-1.16.0-cp38-cp38-manylinux_2_5_x86_64.manylinux1_x86_64.manylinux_2_17_x86_64.manylinux2014_x86_64.whl.metadata (6.6 kB)\n",
      "Collecting aioitertools>=0.5.1 (from aiobotocore~=2.4.2->s3fs==2023.1.0)\n",
      "  Downloading aioitertools-0.11.0-py3-none-any.whl.metadata (3.3 kB)\n",
      "Collecting aiosignal>=1.1.2 (from aiohttp!=4.0.0a0,!=4.0.0a1->s3fs==2023.1.0)\n",
      "  Downloading aiosignal-1.3.1-py3-none-any.whl.metadata (4.0 kB)\n",
      "Requirement already satisfied: attrs>=17.3.0 in /home/beatriziarasilva03/miniconda3/envs/rslib/lib/python3.8/site-packages (from aiohttp!=4.0.0a0,!=4.0.0a1->s3fs==2023.1.0) (23.1.0)\n",
      "Collecting frozenlist>=1.1.1 (from aiohttp!=4.0.0a0,!=4.0.0a1->s3fs==2023.1.0)\n",
      "  Downloading frozenlist-1.4.1-cp38-cp38-manylinux_2_5_x86_64.manylinux1_x86_64.manylinux_2_17_x86_64.manylinux2014_x86_64.whl.metadata (12 kB)\n",
      "Collecting multidict<7.0,>=4.5 (from aiohttp!=4.0.0a0,!=4.0.0a1->s3fs==2023.1.0)\n",
      "  Downloading multidict-6.0.5-cp38-cp38-manylinux_2_17_x86_64.manylinux2014_x86_64.whl.metadata (4.2 kB)\n",
      "Collecting yarl<2.0,>=1.0 (from aiohttp!=4.0.0a0,!=4.0.0a1->s3fs==2023.1.0)\n",
      "  Downloading yarl-1.9.4-cp38-cp38-manylinux_2_17_x86_64.manylinux2014_x86_64.whl.metadata (31 kB)\n",
      "Collecting async-timeout<5.0,>=4.0 (from aiohttp!=4.0.0a0,!=4.0.0a1->s3fs==2023.1.0)\n",
      "  Downloading async_timeout-4.0.3-py3-none-any.whl.metadata (4.2 kB)\n",
      "Requirement already satisfied: typing_extensions>=4.0 in /home/beatriziarasilva03/miniconda3/envs/rslib/lib/python3.8/site-packages (from aioitertools>=0.5.1->aiobotocore~=2.4.2->s3fs==2023.1.0) (4.11.0)\n",
      "Collecting jmespath<2.0.0,>=0.7.1 (from botocore<1.27.60,>=1.27.59->aiobotocore~=2.4.2->s3fs==2023.1.0)\n",
      "  Downloading jmespath-1.0.1-py3-none-any.whl.metadata (7.6 kB)\n",
      "Requirement already satisfied: python-dateutil<3.0.0,>=2.1 in /home/beatriziarasilva03/miniconda3/envs/rslib/lib/python3.8/site-packages (from botocore<1.27.60,>=1.27.59->aiobotocore~=2.4.2->s3fs==2023.1.0) (2.9.0.post0)\n",
      "Requirement already satisfied: urllib3<1.27,>=1.25.4 in /home/beatriziarasilva03/miniconda3/envs/rslib/lib/python3.8/site-packages (from botocore<1.27.60,>=1.27.59->aiobotocore~=2.4.2->s3fs==2023.1.0) (1.26.19)\n",
      "Requirement already satisfied: idna>=2.0 in /home/beatriziarasilva03/miniconda3/envs/rslib/lib/python3.8/site-packages (from yarl<2.0,>=1.0->aiohttp!=4.0.0a0,!=4.0.0a1->s3fs==2023.1.0) (3.7)\n",
      "Requirement already satisfied: six>=1.5 in /home/beatriziarasilva03/miniconda3/envs/rslib/lib/python3.8/site-packages (from python-dateutil<3.0.0,>=2.1->botocore<1.27.60,>=1.27.59->aiobotocore~=2.4.2->s3fs==2023.1.0) (1.16.0)\n",
      "Downloading s3fs-2023.1.0-py3-none-any.whl (27 kB)\n",
      "Downloading fsspec-2023.1.0-py3-none-any.whl (143 kB)\n",
      "\u001b[2K   \u001b[90m━━━━━━━━━━━━━━━━━━━━━━━━━━━━━━━━━━━━━━━━\u001b[0m \u001b[32m143.0/143.0 kB\u001b[0m \u001b[31m2.3 MB/s\u001b[0m eta \u001b[36m0:00:00\u001b[0m \u001b[36m0:00:01\u001b[0m\n",
      "\u001b[?25hDownloading aiobotocore-2.4.2-py3-none-any.whl (66 kB)\n",
      "\u001b[2K   \u001b[90m━━━━━━━━━━━━━━━━━━━━━━━━━━━━━━━━━━━━━━━━\u001b[0m \u001b[32m66.8/66.8 kB\u001b[0m \u001b[31m5.9 MB/s\u001b[0m eta \u001b[36m0:00:00\u001b[0m\n",
      "\u001b[?25hDownloading aiohttp-3.9.5-cp38-cp38-manylinux_2_17_x86_64.manylinux2014_x86_64.whl (1.3 MB)\n",
      "\u001b[2K   \u001b[90m━━━━━━━━━━━━━━━━━━━━━━━━━━━━━━━━━━━━━━━━\u001b[0m \u001b[32m1.3/1.3 MB\u001b[0m \u001b[31m11.6 MB/s\u001b[0m eta \u001b[36m0:00:00\u001b[0m00:01\u001b[0m00:01\u001b[0m\n",
      "\u001b[?25hDownloading aioitertools-0.11.0-py3-none-any.whl (23 kB)\n",
      "Downloading aiosignal-1.3.1-py3-none-any.whl (7.6 kB)\n",
      "Downloading async_timeout-4.0.3-py3-none-any.whl (5.7 kB)\n",
      "Downloading botocore-1.27.59-py3-none-any.whl (9.1 MB)\n",
      "\u001b[2K   \u001b[90m━━━━━━━━━━━━━━━━━━━━━━━━━━━━━━━━━━━━━━━━\u001b[0m \u001b[32m9.1/9.1 MB\u001b[0m \u001b[31m58.7 MB/s\u001b[0m eta \u001b[36m0:00:00\u001b[0m00:01\u001b[0m00:01\u001b[0m\n",
      "\u001b[?25hDownloading frozenlist-1.4.1-cp38-cp38-manylinux_2_5_x86_64.manylinux1_x86_64.manylinux_2_17_x86_64.manylinux2014_x86_64.whl (240 kB)\n",
      "\u001b[2K   \u001b[90m━━━━━━━━━━━━━━━━━━━━━━━━━━━━━━━━━━━━━━━━\u001b[0m \u001b[32m240.9/240.9 kB\u001b[0m \u001b[31m25.8 MB/s\u001b[0m eta \u001b[36m0:00:00\u001b[0m\n",
      "\u001b[?25hDownloading multidict-6.0.5-cp38-cp38-manylinux_2_17_x86_64.manylinux2014_x86_64.whl (129 kB)\n",
      "\u001b[2K   \u001b[90m━━━━━━━━━━━━━━━━━━━━━━━━━━━━━━━━━━━━━━━━\u001b[0m \u001b[32m129.3/129.3 kB\u001b[0m \u001b[31m14.3 MB/s\u001b[0m eta \u001b[36m0:00:00\u001b[0m\n",
      "\u001b[?25hDownloading wrapt-1.16.0-cp38-cp38-manylinux_2_5_x86_64.manylinux1_x86_64.manylinux_2_17_x86_64.manylinux2014_x86_64.whl (83 kB)\n",
      "\u001b[2K   \u001b[90m━━━━━━━━━━━━━━━━━━━━━━━━━━━━━━━━━━━━━━━━\u001b[0m \u001b[32m83.4/83.4 kB\u001b[0m \u001b[31m9.4 MB/s\u001b[0m eta \u001b[36m0:00:00\u001b[0m\n",
      "\u001b[?25hDownloading yarl-1.9.4-cp38-cp38-manylinux_2_17_x86_64.manylinux2014_x86_64.whl (308 kB)\n",
      "\u001b[2K   \u001b[90m━━━━━━━━━━━━━━━━━━━━━━━━━━━━━━━━━━━━━━━━\u001b[0m \u001b[32m308.8/308.8 kB\u001b[0m \u001b[31m27.1 MB/s\u001b[0m eta \u001b[36m0:00:00\u001b[0m\n",
      "\u001b[?25hDownloading jmespath-1.0.1-py3-none-any.whl (20 kB)\n",
      "Installing collected packages: wrapt, multidict, jmespath, fsspec, frozenlist, async-timeout, aioitertools, yarl, botocore, aiosignal, aiohttp, aiobotocore, s3fs\n",
      "Successfully installed aiobotocore-2.4.2 aiohttp-3.9.5 aioitertools-0.11.0 aiosignal-1.3.1 async-timeout-4.0.3 botocore-1.27.59 frozenlist-1.4.1 fsspec-2023.1.0 jmespath-1.0.1 multidict-6.0.5 s3fs-2023.1.0 wrapt-1.16.0 yarl-1.9.4\n",
      "Note: you may need to restart the kernel to use updated packages.\n"
     ]
    }
   ],
   "source": [
    "pip install s3fs==2023.1.0"
   ]
  },
  {
   "cell_type": "code",
   "execution_count": 11,
   "id": "5cb65620-6172-4da2-ad70-b502e8e0eaa7",
   "metadata": {},
   "outputs": [
    {
     "name": "stdout",
     "output_type": "stream",
     "text": [
      "Collecting scikit_learn==1.2.1\n",
      "  Downloading scikit_learn-1.2.1-cp38-cp38-manylinux_2_17_x86_64.manylinux2014_x86_64.whl.metadata (11 kB)\n",
      "Requirement already satisfied: numpy>=1.17.3 in /home/beatriziarasilva03/miniconda3/envs/rslib/lib/python3.8/site-packages (from scikit_learn==1.2.1) (1.23.3)\n",
      "Requirement already satisfied: scipy>=1.3.2 in /home/beatriziarasilva03/miniconda3/envs/rslib/lib/python3.8/site-packages (from scikit_learn==1.2.1) (1.10.1)\n",
      "Requirement already satisfied: joblib>=1.1.1 in /home/beatriziarasilva03/miniconda3/envs/rslib/lib/python3.8/site-packages (from scikit_learn==1.2.1) (1.4.2)\n",
      "Collecting threadpoolctl>=2.0.0 (from scikit_learn==1.2.1)\n",
      "  Downloading threadpoolctl-3.5.0-py3-none-any.whl.metadata (13 kB)\n",
      "Downloading scikit_learn-1.2.1-cp38-cp38-manylinux_2_17_x86_64.manylinux2014_x86_64.whl (9.8 MB)\n",
      "\u001b[2K   \u001b[90m━━━━━━━━━━━━━━━━━━━━━━━━━━━━━━━━━━━━━━━━\u001b[0m \u001b[32m9.8/9.8 MB\u001b[0m \u001b[31m27.2 MB/s\u001b[0m eta \u001b[36m0:00:00\u001b[0m00:01\u001b[0m00:01\u001b[0m\n",
      "\u001b[?25hDownloading threadpoolctl-3.5.0-py3-none-any.whl (18 kB)\n",
      "Installing collected packages: threadpoolctl, scikit_learn\n",
      "Successfully installed scikit_learn-1.2.1 threadpoolctl-3.5.0\n",
      "Note: you may need to restart the kernel to use updated packages.\n"
     ]
    }
   ],
   "source": [
    "pip install scikit_learn==1.2.1"
   ]
  },
  {
   "cell_type": "code",
   "execution_count": 12,
   "id": "b5fd3117-c87f-4219-a1f1-8cdb26b9fd9b",
   "metadata": {},
   "outputs": [
    {
     "name": "stdout",
     "output_type": "stream",
     "text": [
      "Collecting scipy==1.10.0\n",
      "  Downloading scipy-1.10.0-cp38-cp38-manylinux_2_17_x86_64.manylinux2014_x86_64.whl.metadata (58 kB)\n",
      "\u001b[2K     \u001b[90m━━━━━━━━━━━━━━━━━━━━━━━━━━━━━━━━━━━━━━━━\u001b[0m \u001b[32m58.9/58.9 kB\u001b[0m \u001b[31m1.2 MB/s\u001b[0m eta \u001b[36m0:00:00\u001b[0ma \u001b[36m0:00:01\u001b[0m\n",
      "\u001b[?25hRequirement already satisfied: numpy<1.27.0,>=1.19.5 in /home/beatriziarasilva03/miniconda3/envs/rslib/lib/python3.8/site-packages (from scipy==1.10.0) (1.23.3)\n",
      "Downloading scipy-1.10.0-cp38-cp38-manylinux_2_17_x86_64.manylinux2014_x86_64.whl (34.5 MB)\n",
      "\u001b[2K   \u001b[90m━━━━━━━━━━━━━━━━━━━━━━━━━━━━━━━━━━━━━━━━\u001b[0m \u001b[32m34.5/34.5 MB\u001b[0m \u001b[31m41.5 MB/s\u001b[0m eta \u001b[36m0:00:00\u001b[0m00:01\u001b[0m00:01\u001b[0m\n",
      "\u001b[?25hInstalling collected packages: scipy\n",
      "  Attempting uninstall: scipy\n",
      "    Found existing installation: scipy 1.10.1\n",
      "    Uninstalling scipy-1.10.1:\n",
      "      Successfully uninstalled scipy-1.10.1\n",
      "Successfully installed scipy-1.10.0\n",
      "Note: you may need to restart the kernel to use updated packages.\n"
     ]
    }
   ],
   "source": [
    "pip install scipy==1.10.0"
   ]
  },
  {
   "cell_type": "code",
   "execution_count": 13,
   "id": "d7ef765d-cdaf-4e03-b345-25a5f9d73765",
   "metadata": {},
   "outputs": [
    {
     "name": "stdout",
     "output_type": "stream",
     "text": [
      "Collecting seaborn==0.12.2\n",
      "  Downloading seaborn-0.12.2-py3-none-any.whl.metadata (5.4 kB)\n",
      "Requirement already satisfied: numpy!=1.24.0,>=1.17 in /home/beatriziarasilva03/miniconda3/envs/rslib/lib/python3.8/site-packages (from seaborn==0.12.2) (1.23.3)\n",
      "Requirement already satisfied: pandas>=0.25 in /home/beatriziarasilva03/miniconda3/envs/rslib/lib/python3.8/site-packages (from seaborn==0.12.2) (1.5.0)\n",
      "Requirement already satisfied: matplotlib!=3.6.1,>=3.1 in /home/beatriziarasilva03/miniconda3/envs/rslib/lib/python3.8/site-packages (from seaborn==0.12.2) (3.6.2)\n",
      "Requirement already satisfied: contourpy>=1.0.1 in /home/beatriziarasilva03/miniconda3/envs/rslib/lib/python3.8/site-packages (from matplotlib!=3.6.1,>=3.1->seaborn==0.12.2) (1.1.1)\n",
      "Requirement already satisfied: cycler>=0.10 in /home/beatriziarasilva03/miniconda3/envs/rslib/lib/python3.8/site-packages (from matplotlib!=3.6.1,>=3.1->seaborn==0.12.2) (0.12.1)\n",
      "Requirement already satisfied: fonttools>=4.22.0 in /home/beatriziarasilva03/miniconda3/envs/rslib/lib/python3.8/site-packages (from matplotlib!=3.6.1,>=3.1->seaborn==0.12.2) (4.53.0)\n",
      "Requirement already satisfied: kiwisolver>=1.0.1 in /home/beatriziarasilva03/miniconda3/envs/rslib/lib/python3.8/site-packages (from matplotlib!=3.6.1,>=3.1->seaborn==0.12.2) (1.4.5)\n",
      "Requirement already satisfied: packaging>=20.0 in /home/beatriziarasilva03/miniconda3/envs/rslib/lib/python3.8/site-packages (from matplotlib!=3.6.1,>=3.1->seaborn==0.12.2) (23.2)\n",
      "Requirement already satisfied: pillow>=6.2.0 in /home/beatriziarasilva03/miniconda3/envs/rslib/lib/python3.8/site-packages (from matplotlib!=3.6.1,>=3.1->seaborn==0.12.2) (10.3.0)\n",
      "Requirement already satisfied: pyparsing>=2.2.1 in /home/beatriziarasilva03/miniconda3/envs/rslib/lib/python3.8/site-packages (from matplotlib!=3.6.1,>=3.1->seaborn==0.12.2) (3.1.2)\n",
      "Requirement already satisfied: python-dateutil>=2.7 in /home/beatriziarasilva03/miniconda3/envs/rslib/lib/python3.8/site-packages (from matplotlib!=3.6.1,>=3.1->seaborn==0.12.2) (2.9.0.post0)\n",
      "Requirement already satisfied: pytz>=2020.1 in /home/beatriziarasilva03/miniconda3/envs/rslib/lib/python3.8/site-packages (from pandas>=0.25->seaborn==0.12.2) (2024.1)\n",
      "Requirement already satisfied: six>=1.5 in /home/beatriziarasilva03/miniconda3/envs/rslib/lib/python3.8/site-packages (from python-dateutil>=2.7->matplotlib!=3.6.1,>=3.1->seaborn==0.12.2) (1.16.0)\n",
      "Downloading seaborn-0.12.2-py3-none-any.whl (293 kB)\n",
      "\u001b[2K   \u001b[90m━━━━━━━━━━━━━━━━━━━━━━━━━━━━━━━━━━━━━━━━\u001b[0m \u001b[32m293.3/293.3 kB\u001b[0m \u001b[31m2.4 MB/s\u001b[0m eta \u001b[36m0:00:00\u001b[0ma \u001b[36m0:00:01\u001b[0m\n",
      "\u001b[?25hInstalling collected packages: seaborn\n",
      "Successfully installed seaborn-0.12.2\n",
      "Note: you may need to restart the kernel to use updated packages.\n"
     ]
    }
   ],
   "source": [
    "pip install seaborn==0.12.2"
   ]
  },
  {
   "cell_type": "code",
   "execution_count": 14,
   "id": "fba6e6dd-d966-49d3-982b-760323003fad",
   "metadata": {},
   "outputs": [
    {
     "name": "stdout",
     "output_type": "stream",
     "text": [
      "Collecting tensorboardX==2.5.1\n",
      "  Downloading tensorboardX-2.5.1-py2.py3-none-any.whl.metadata (5.2 kB)\n",
      "Requirement already satisfied: numpy in /home/beatriziarasilva03/miniconda3/envs/rslib/lib/python3.8/site-packages (from tensorboardX==2.5.1) (1.23.3)\n",
      "Collecting protobuf<=3.20.1,>=3.8.0 (from tensorboardX==2.5.1)\n",
      "  Downloading protobuf-3.20.1-cp38-cp38-manylinux_2_5_x86_64.manylinux1_x86_64.whl.metadata (698 bytes)\n",
      "Downloading tensorboardX-2.5.1-py2.py3-none-any.whl (125 kB)\n",
      "\u001b[2K   \u001b[90m━━━━━━━━━━━━━━━━━━━━━━━━━━━━━━━━━━━━━━━━\u001b[0m \u001b[32m125.4/125.4 kB\u001b[0m \u001b[31m1.6 MB/s\u001b[0m eta \u001b[36m0:00:00\u001b[0ma \u001b[36m0:00:01\u001b[0m\n",
      "\u001b[?25hDownloading protobuf-3.20.1-cp38-cp38-manylinux_2_5_x86_64.manylinux1_x86_64.whl (1.0 MB)\n",
      "\u001b[2K   \u001b[90m━━━━━━━━━━━━━━━━━━━━━━━━━━━━━━━━━━━━━━━━\u001b[0m \u001b[32m1.0/1.0 MB\u001b[0m \u001b[31m9.5 MB/s\u001b[0m eta \u001b[36m0:00:00\u001b[0m:00:01\u001b[0m0:01\u001b[0m\n",
      "\u001b[?25hInstalling collected packages: protobuf, tensorboardX\n",
      "Successfully installed protobuf-3.20.1 tensorboardX-2.5.1\n",
      "Note: you may need to restart the kernel to use updated packages.\n"
     ]
    }
   ],
   "source": [
    "pip install tensorboardX==2.5.1"
   ]
  },
  {
   "cell_type": "code",
   "execution_count": 15,
   "id": "87bb740c-ad17-4263-874d-32d1f8518fe0",
   "metadata": {},
   "outputs": [
    {
     "name": "stdout",
     "output_type": "stream",
     "text": [
      "Collecting torch==1.13.0\n",
      "  Downloading torch-1.13.0-cp38-cp38-manylinux1_x86_64.whl.metadata (23 kB)\n",
      "Requirement already satisfied: typing-extensions in /home/beatriziarasilva03/miniconda3/envs/rslib/lib/python3.8/site-packages (from torch==1.13.0) (4.11.0)\n",
      "Collecting nvidia-cuda-runtime-cu11==11.7.99 (from torch==1.13.0)\n",
      "  Downloading nvidia_cuda_runtime_cu11-11.7.99-py3-none-manylinux1_x86_64.whl.metadata (1.6 kB)\n",
      "Collecting nvidia-cudnn-cu11==8.5.0.96 (from torch==1.13.0)\n",
      "  Downloading nvidia_cudnn_cu11-8.5.0.96-2-py3-none-manylinux1_x86_64.whl.metadata (1.6 kB)\n",
      "Collecting nvidia-cublas-cu11==11.10.3.66 (from torch==1.13.0)\n",
      "  Downloading nvidia_cublas_cu11-11.10.3.66-py3-none-manylinux1_x86_64.whl.metadata (1.6 kB)\n",
      "Collecting nvidia-cuda-nvrtc-cu11==11.7.99 (from torch==1.13.0)\n",
      "  Downloading nvidia_cuda_nvrtc_cu11-11.7.99-2-py3-none-manylinux1_x86_64.whl.metadata (1.5 kB)\n",
      "Requirement already satisfied: setuptools in /home/beatriziarasilva03/miniconda3/envs/rslib/lib/python3.8/site-packages (from nvidia-cublas-cu11==11.10.3.66->torch==1.13.0) (69.5.1)\n",
      "Requirement already satisfied: wheel in /home/beatriziarasilva03/miniconda3/envs/rslib/lib/python3.8/site-packages (from nvidia-cublas-cu11==11.10.3.66->torch==1.13.0) (0.43.0)\n",
      "Downloading torch-1.13.0-cp38-cp38-manylinux1_x86_64.whl (890.2 MB)\n",
      "\u001b[2K   \u001b[90m━━━━━━━━━━━━━━━━━━━━━━━━━━━━━━━━━━━━━━━━\u001b[0m \u001b[32m890.2/890.2 MB\u001b[0m \u001b[31m1.5 MB/s\u001b[0m eta \u001b[36m0:00:00\u001b[0m:00:01\u001b[0m00:01\u001b[0m\n",
      "\u001b[?25hDownloading nvidia_cublas_cu11-11.10.3.66-py3-none-manylinux1_x86_64.whl (317.1 MB)\n",
      "\u001b[2K   \u001b[90m━━━━━━━━━━━━━━━━━━━━━━━━━━━━━━━━━━━━━━━━\u001b[0m \u001b[32m317.1/317.1 MB\u001b[0m \u001b[31m4.0 MB/s\u001b[0m eta \u001b[36m0:00:00\u001b[0m:00:01\u001b[0m00:01\u001b[0m\n",
      "\u001b[?25hDownloading nvidia_cuda_nvrtc_cu11-11.7.99-2-py3-none-manylinux1_x86_64.whl (21.0 MB)\n",
      "\u001b[2K   \u001b[90m━━━━━━━━━━━━━━━━━━━━━━━━━━━━━━━━━━━━━━━━\u001b[0m \u001b[32m21.0/21.0 MB\u001b[0m \u001b[31m22.5 MB/s\u001b[0m eta \u001b[36m0:00:00\u001b[0m00:01\u001b[0m00:01\u001b[0m\n",
      "\u001b[?25hDownloading nvidia_cuda_runtime_cu11-11.7.99-py3-none-manylinux1_x86_64.whl (849 kB)\n",
      "\u001b[2K   \u001b[90m━━━━━━━━━━━━━━━━━━━━━━━━━━━━━━━━━━━━━━━━\u001b[0m \u001b[32m849.3/849.3 kB\u001b[0m \u001b[31m54.5 MB/s\u001b[0m eta \u001b[36m0:00:00\u001b[0m\n",
      "\u001b[?25hDownloading nvidia_cudnn_cu11-8.5.0.96-2-py3-none-manylinux1_x86_64.whl (557.1 MB)\n",
      "\u001b[2K   \u001b[90m━━━━━━━━━━━━━━━━━━━━━━━━━━━━━━━━━━━━━━━━\u001b[0m \u001b[32m557.1/557.1 MB\u001b[0m \u001b[31m2.4 MB/s\u001b[0m eta \u001b[36m0:00:00\u001b[0m:00:01\u001b[0m00:01\u001b[0m\n",
      "\u001b[?25hInstalling collected packages: nvidia-cuda-runtime-cu11, nvidia-cuda-nvrtc-cu11, nvidia-cublas-cu11, nvidia-cudnn-cu11, torch\n",
      "Successfully installed nvidia-cublas-cu11-11.10.3.66 nvidia-cuda-nvrtc-cu11-11.7.99 nvidia-cuda-runtime-cu11-11.7.99 nvidia-cudnn-cu11-8.5.0.96 torch-1.13.0\n",
      "Note: you may need to restart the kernel to use updated packages.\n"
     ]
    }
   ],
   "source": [
    "pip install torch==1.13.0"
   ]
  },
  {
   "cell_type": "code",
   "execution_count": 16,
   "id": "8b812aee-f107-4329-8719-3cc404e7cfa9",
   "metadata": {},
   "outputs": [
    {
     "name": "stdout",
     "output_type": "stream",
     "text": [
      "Collecting tqdm==4.64.1\n",
      "  Downloading tqdm-4.64.1-py2.py3-none-any.whl.metadata (57 kB)\n",
      "\u001b[2K     \u001b[90m━━━━━━━━━━━━━━━━━━━━━━━━━━━━━━━━━━━━━━━━\u001b[0m \u001b[32m57.3/57.3 kB\u001b[0m \u001b[31m1.1 MB/s\u001b[0m eta \u001b[36m0:00:00\u001b[0ma \u001b[36m0:00:01\u001b[0m\n",
      "\u001b[?25hDownloading tqdm-4.64.1-py2.py3-none-any.whl (78 kB)\n",
      "\u001b[2K   \u001b[90m━━━━━━━━━━━━━━━━━━━━━━━━━━━━━━━━━━━━━━━━\u001b[0m \u001b[32m78.5/78.5 kB\u001b[0m \u001b[31m3.8 MB/s\u001b[0m eta \u001b[36m0:00:00\u001b[0m\n",
      "\u001b[?25hInstalling collected packages: tqdm\n",
      "  Attempting uninstall: tqdm\n",
      "    Found existing installation: tqdm 4.66.4\n",
      "    Uninstalling tqdm-4.66.4:\n",
      "      Successfully uninstalled tqdm-4.66.4\n",
      "Successfully installed tqdm-4.64.1\n",
      "Note: you may need to restart the kernel to use updated packages.\n"
     ]
    }
   ],
   "source": [
    "pip install tqdm==4.64.1"
   ]
  },
  {
   "cell_type": "code",
   "execution_count": 17,
   "id": "05052ead-fe38-4f93-b100-afc29753d2e6",
   "metadata": {},
   "outputs": [
    {
     "name": "stdout",
     "output_type": "stream",
     "text": [
      "Collecting nmslib==2.1.1\n",
      "  Downloading nmslib-2.1.1-cp38-cp38-manylinux2010_x86_64.whl.metadata (1.0 kB)\n",
      "Collecting pybind11<2.6.2 (from nmslib==2.1.1)\n",
      "  Downloading pybind11-2.6.1-py2.py3-none-any.whl.metadata (8.7 kB)\n",
      "Requirement already satisfied: psutil in /home/beatriziarasilva03/miniconda3/envs/rslib/lib/python3.8/site-packages (from nmslib==2.1.1) (5.9.0)\n",
      "Requirement already satisfied: numpy>=1.10.0 in /home/beatriziarasilva03/miniconda3/envs/rslib/lib/python3.8/site-packages (from nmslib==2.1.1) (1.23.3)\n",
      "Downloading nmslib-2.1.1-cp38-cp38-manylinux2010_x86_64.whl (13.4 MB)\n",
      "\u001b[2K   \u001b[90m━━━━━━━━━━━━━━━━━━━━━━━━━━━━━━━━━━━━━━━━\u001b[0m \u001b[32m13.4/13.4 MB\u001b[0m \u001b[31m57.6 MB/s\u001b[0m eta \u001b[36m0:00:00\u001b[0m00:01\u001b[0m00:01\u001b[0m\n",
      "\u001b[?25hDownloading pybind11-2.6.1-py2.py3-none-any.whl (188 kB)\n",
      "\u001b[2K   \u001b[90m━━━━━━━━━━━━━━━━━━━━━━━━━━━━━━━━━━━━━━━━\u001b[0m \u001b[32m188.5/188.5 kB\u001b[0m \u001b[31m19.5 MB/s\u001b[0m eta \u001b[36m0:00:00\u001b[0m\n",
      "\u001b[?25hInstalling collected packages: pybind11, nmslib\n",
      "Successfully installed nmslib-2.1.1 pybind11-2.6.1\n",
      "Note: you may need to restart the kernel to use updated packages.\n"
     ]
    }
   ],
   "source": [
    "pip install nmslib==2.1.1"
   ]
  },
  {
   "cell_type": "code",
   "execution_count": 28,
   "id": "df2d8838-a521-4c91-9080-deced1441e7d",
   "metadata": {},
   "outputs": [
    {
     "name": "stdout",
     "output_type": "stream",
     "text": [
      "Reading package lists... Done\n",
      "Building dependency tree... Done\n",
      "Reading state information... Done\n",
      "The following additional packages will be installed:\n",
      "  binutils binutils-common binutils-x86-64-linux-gnu bzip2 cpp cpp-12 dpkg-dev\n",
      "  fakeroot fontconfig-config fonts-dejavu-core g++ g++-12 gcc gcc-12\n",
      "  libabsl20220623 libalgorithm-diff-perl libalgorithm-diff-xs-perl\n",
      "  libalgorithm-merge-perl libaom3 libasan8 libatomic1 libavif15 libbinutils\n",
      "  libc-dev-bin libc-devtools libc6-dev libcc1-0 libcrypt-dev libctf-nobfd0\n",
      "  libctf0 libdav1d6 libde265-0 libdeflate0 libdpkg-perl libfakeroot\n",
      "  libfile-fcntllock-perl libfontconfig1 libgav1-1 libgcc-12-dev libgd3\n",
      "  libgomp1 libgprofng0 libheif1 libisl23 libitm1 libjansson4 libjbig0\n",
      "  libjpeg62-turbo liblerc4 liblocale-gettext-perl liblsan0 libmpc3 libmpfr6\n",
      "  libnsl-dev libnuma1 libquadmath0 librav1e0 libstdc++-12-dev libsvtav1enc1\n",
      "  libtiff6 libtirpc-dev libtsan2 libubsan1 libwebp7 libx11-6 libx11-data\n",
      "  libx265-199 libxau6 libxcb1 libxdmcp6 libxpm4 libyuv0 linux-libc-dev make\n",
      "  manpages-dev patch rpcsvc-proto\n",
      "Suggested packages:\n",
      "  binutils-doc bzip2-doc cpp-doc gcc-12-locales cpp-12-doc debian-keyring\n",
      "  g++-multilib g++-12-multilib gcc-12-doc gcc-multilib autoconf automake\n",
      "  libtool flex bison gdb gcc-doc gcc-12-multilib glibc-doc git bzr libgd-tools\n",
      "  libstdc++-12-doc make-doc ed diffutils-doc\n",
      "The following NEW packages will be installed:\n",
      "  binutils binutils-common binutils-x86-64-linux-gnu build-essential bzip2 cpp\n",
      "  cpp-12 dpkg-dev fakeroot fontconfig-config fonts-dejavu-core g++ g++-12 gcc\n",
      "  gcc-12 libabsl20220623 libalgorithm-diff-perl libalgorithm-diff-xs-perl\n",
      "  libalgorithm-merge-perl libaom3 libasan8 libatomic1 libavif15 libbinutils\n",
      "  libc-dev-bin libc-devtools libc6-dev libcc1-0 libcrypt-dev libctf-nobfd0\n",
      "  libctf0 libdav1d6 libde265-0 libdeflate0 libdpkg-perl libfakeroot\n",
      "  libfile-fcntllock-perl libfontconfig1 libgav1-1 libgcc-12-dev libgd3\n",
      "  libgomp1 libgprofng0 libheif1 libisl23 libitm1 libjansson4 libjbig0\n",
      "  libjpeg62-turbo liblerc4 liblocale-gettext-perl liblsan0 libmpc3 libmpfr6\n",
      "  libnsl-dev libnuma1 libquadmath0 librav1e0 libstdc++-12-dev libsvtav1enc1\n",
      "  libtiff6 libtirpc-dev libtsan2 libubsan1 libwebp7 libx11-6 libx11-data\n",
      "  libx265-199 libxau6 libxcb1 libxdmcp6 libxpm4 libyuv0 linux-libc-dev make\n",
      "  manpages-dev patch rpcsvc-proto\n",
      "0 upgraded, 78 newly installed, 0 to remove and 0 not upgraded.\n",
      "Need to get 79.9 MB of archives.\n",
      "After this operation, 318 MB of additional disk space will be used.\n",
      "Get:1 file:/etc/apt/mirrors/debian.list Mirrorlist [30 B]\n",
      "Get:28 file:/etc/apt/mirrors/debian-security.list Mirrorlist [39 B]\n",
      "Get:2 https://deb.debian.org/debian bookworm/main amd64 liblocale-gettext-perl amd64 1.07-5 [15.4 kB]\n",
      "Get:3 https://deb.debian.org/debian bookworm/main amd64 bzip2 amd64 1.0.8-5+b1 [49.8 kB]\n",
      "Get:4 https://deb.debian.org/debian bookworm/main amd64 binutils-common amd64 2.40-2 [2487 kB]\n",
      "Get:5 https://deb.debian.org/debian bookworm/main amd64 libbinutils amd64 2.40-2 [572 kB]\n",
      "Get:6 https://deb.debian.org/debian bookworm/main amd64 libctf-nobfd0 amd64 2.40-2 [153 kB]\n",
      "Get:7 https://deb.debian.org/debian bookworm/main amd64 libctf0 amd64 2.40-2 [89.8 kB]\n",
      "Get:8 https://deb.debian.org/debian bookworm/main amd64 libgprofng0 amd64 2.40-2 [812 kB]\n",
      "Get:9 https://deb.debian.org/debian bookworm/main amd64 libjansson4 amd64 2.14-2 [40.8 kB]\n",
      "Get:10 https://deb.debian.org/debian bookworm/main amd64 binutils-x86-64-linux-gnu amd64 2.40-2 [2246 kB]\n",
      "Get:11 https://deb.debian.org/debian bookworm/main amd64 binutils amd64 2.40-2 [65.0 kB]\n",
      "Get:12 https://deb.debian.org/debian bookworm/main amd64 libcrypt-dev amd64 1:4.4.33-2 [118 kB]\n",
      "Get:13 https://deb.debian.org/debian bookworm/main amd64 libtirpc-dev amd64 1.3.3+ds-1 [191 kB]\n",
      "Get:14 https://deb.debian.org/debian bookworm/main amd64 libnsl-dev amd64 1.3.0-2 [66.4 kB]\n",
      "Get:15 https://deb.debian.org/debian bookworm/main amd64 rpcsvc-proto amd64 1.4.3-1 [63.3 kB]\n",
      "Get:16 https://deb.debian.org/debian bookworm/main amd64 libisl23 amd64 0.25-1.1 [683 kB]\n",
      "Get:17 https://deb.debian.org/debian bookworm/main amd64 libmpfr6 amd64 4.2.0-1 [701 kB]\n",
      "Get:18 https://deb.debian.org/debian bookworm/main amd64 libmpc3 amd64 1.3.1-1 [51.5 kB]\n",
      "Get:19 https://deb.debian.org/debian bookworm/main amd64 cpp-12 amd64 12.2.0-14 [9764 kB]\n",
      "Get:20 https://deb.debian.org/debian bookworm/main amd64 cpp amd64 4:12.2.0-3 [6836 B]\n",
      "Get:21 https://deb.debian.org/debian bookworm/main amd64 libcc1-0 amd64 12.2.0-14 [41.7 kB]\n",
      "Get:22 https://deb.debian.org/debian bookworm/main amd64 libgomp1 amd64 12.2.0-14 [116 kB]\n",
      "Get:23 https://deb.debian.org/debian bookworm/main amd64 libitm1 amd64 12.2.0-14 [26.1 kB]\n",
      "Get:24 https://deb.debian.org/debian bookworm/main amd64 libatomic1 amd64 12.2.0-14 [9328 B]\n",
      "Get:25 https://deb.debian.org/debian bookworm/main amd64 libasan8 amd64 12.2.0-14 [2195 kB]\n",
      "Get:26 https://deb.debian.org/debian bookworm/main amd64 liblsan0 amd64 12.2.0-14 [969 kB]\n",
      "Get:27 https://deb.debian.org/debian bookworm/main amd64 libtsan2 amd64 12.2.0-14 [2196 kB]\n",
      "Get:29 https://deb.debian.org/debian bookworm/main amd64 libubsan1 amd64 12.2.0-14 [883 kB]\n",
      "Get:30 https://deb.debian.org/debian bookworm/main amd64 libquadmath0 amd64 12.2.0-14 [144 kB]\n",
      "Get:31 https://deb.debian.org/debian bookworm/main amd64 libgcc-12-dev amd64 12.2.0-14 [2437 kB]\n",
      "Get:32 https://deb.debian.org/debian bookworm/main amd64 gcc-12 amd64 12.2.0-14 [19.3 MB]\n",
      "Get:33 https://deb.debian.org/debian bookworm/main amd64 gcc amd64 4:12.2.0-3 [5216 B]\n",
      "Get:34 https://deb.debian.org/debian bookworm/main amd64 libstdc++-12-dev amd64 12.2.0-14 [2046 kB]\n",
      "Get:35 https://deb.debian.org/debian bookworm/main amd64 g++-12 amd64 12.2.0-14 [10.7 MB]\n",
      "Get:36 https://deb.debian.org/debian-security bookworm-security/main amd64 libc-dev-bin amd64 2.36-9+deb12u7 [45.8 kB]\n",
      "Get:37 https://deb.debian.org/debian-security bookworm-security/main amd64 linux-libc-dev amd64 6.1.90-1 [1976 kB]\n",
      "Get:38 https://deb.debian.org/debian-security bookworm-security/main amd64 libc6-dev amd64 2.36-9+deb12u7 [1899 kB]\n",
      "Get:39 https://deb.debian.org/debian bookworm/main amd64 g++ amd64 4:12.2.0-3 [1356 B]\n",
      "Get:40 https://deb.debian.org/debian bookworm/main amd64 make amd64 4.3-4.1 [396 kB]\n",
      "Get:41 https://deb.debian.org/debian bookworm/main amd64 libdpkg-perl all 1.21.22 [603 kB]\n",
      "Get:42 https://deb.debian.org/debian bookworm/main amd64 patch amd64 2.7.6-7 [128 kB]\n",
      "Get:43 https://deb.debian.org/debian bookworm/main amd64 dpkg-dev all 1.21.22 [1353 kB]\n",
      "Get:44 https://deb.debian.org/debian bookworm/main amd64 build-essential amd64 12.9 [7704 B]\n",
      "Get:45 https://deb.debian.org/debian bookworm/main amd64 libfakeroot amd64 1.31-1.2 [28.3 kB]\n",
      "Get:46 https://deb.debian.org/debian bookworm/main amd64 fakeroot amd64 1.31-1.2 [66.9 kB]\n",
      "Get:47 https://deb.debian.org/debian bookworm/main amd64 fonts-dejavu-core all 2.37-6 [1068 kB]\n",
      "Get:48 https://deb.debian.org/debian bookworm/main amd64 fontconfig-config amd64 2.14.1-4 [315 kB]\n",
      "Get:49 https://deb.debian.org/debian bookworm/main amd64 libabsl20220623 amd64 20220623.1-1 [391 kB]\n",
      "Get:50 https://deb.debian.org/debian bookworm/main amd64 libalgorithm-diff-perl all 1.201-1 [43.3 kB]\n",
      "Get:51 https://deb.debian.org/debian bookworm/main amd64 libalgorithm-diff-xs-perl amd64 0.04-8+b1 [11.4 kB]\n",
      "Get:52 https://deb.debian.org/debian bookworm/main amd64 libalgorithm-merge-perl all 0.08-5 [11.8 kB]\n",
      "Get:53 https://deb.debian.org/debian bookworm/main amd64 libaom3 amd64 3.6.0-1 [1851 kB]\n",
      "Get:54 https://deb.debian.org/debian-security bookworm-security/main amd64 libdav1d6 amd64 1.0.0-2+deb12u1 [513 kB]\n",
      "Get:55 https://deb.debian.org/debian bookworm/main amd64 libgav1-1 amd64 0.18.0-1+b1 [332 kB]\n",
      "Get:56 https://deb.debian.org/debian bookworm/main amd64 librav1e0 amd64 0.5.1-6 [763 kB]\n",
      "Get:57 https://deb.debian.org/debian bookworm/main amd64 libsvtav1enc1 amd64 1.4.1+dfsg-1 [2121 kB]\n",
      "Get:58 https://deb.debian.org/debian bookworm/main amd64 libjpeg62-turbo amd64 1:2.1.5-2 [166 kB]\n",
      "Get:59 https://deb.debian.org/debian bookworm/main amd64 libyuv0 amd64 0.0~git20230123.b2528b0-1 [168 kB]\n",
      "Get:60 https://deb.debian.org/debian bookworm/main amd64 libavif15 amd64 0.11.1-1 [93.8 kB]\n",
      "Get:61 https://deb.debian.org/debian bookworm/main amd64 libfontconfig1 amd64 2.14.1-4 [386 kB]\n",
      "Get:62 https://deb.debian.org/debian bookworm/main amd64 libde265-0 amd64 1.0.11-1+deb12u2 [185 kB]\n",
      "Get:63 https://deb.debian.org/debian bookworm/main amd64 libnuma1 amd64 2.0.16-1 [21.0 kB]\n",
      "Get:64 https://deb.debian.org/debian bookworm/main amd64 libx265-199 amd64 3.5-2+b1 [1150 kB]\n",
      "Get:65 https://deb.debian.org/debian bookworm/main amd64 libheif1 amd64 1.15.1-1 [215 kB]\n",
      "Get:66 https://deb.debian.org/debian bookworm/main amd64 libdeflate0 amd64 1.14-1 [61.4 kB]\n",
      "Get:67 https://deb.debian.org/debian bookworm/main amd64 libjbig0 amd64 2.1-6.1 [31.7 kB]\n",
      "Get:68 https://deb.debian.org/debian bookworm/main amd64 liblerc4 amd64 4.0.0+ds-2 [170 kB]\n",
      "Get:69 https://deb.debian.org/debian bookworm/main amd64 libwebp7 amd64 1.2.4-0.2+deb12u1 [286 kB]\n",
      "Get:70 https://deb.debian.org/debian bookworm/main amd64 libtiff6 amd64 4.5.0-6+deb12u1 [316 kB]\n",
      "Get:71 https://deb.debian.org/debian bookworm/main amd64 libxau6 amd64 1:1.0.9-1 [19.7 kB]\n",
      "Get:72 https://deb.debian.org/debian bookworm/main amd64 libxdmcp6 amd64 1:1.1.2-3 [26.3 kB]\n",
      "Get:73 https://deb.debian.org/debian bookworm/main amd64 libxcb1 amd64 1.15-1 [144 kB]\n",
      "Get:74 https://deb.debian.org/debian bookworm/main amd64 libx11-data all 2:1.8.4-2+deb12u2 [292 kB]\n",
      "Get:75 https://deb.debian.org/debian bookworm/main amd64 libx11-6 amd64 2:1.8.4-2+deb12u2 [760 kB]\n",
      "Get:76 https://deb.debian.org/debian bookworm/main amd64 libxpm4 amd64 1:3.5.12-1.1+deb12u1 [48.6 kB]\n",
      "Get:77 https://deb.debian.org/debian bookworm/main amd64 libgd3 amd64 2.3.3-9 [124 kB]\n",
      "Get:78 https://deb.debian.org/debian-security bookworm-security/main amd64 libc-devtools amd64 2.36-9+deb12u7 [53.4 kB]\n",
      "Get:79 https://deb.debian.org/debian bookworm/main amd64 libfile-fcntllock-perl amd64 0.22-4+b1 [34.8 kB]\n",
      "Get:80 https://deb.debian.org/debian bookworm/main amd64 manpages-dev all 6.03-2 [2030 kB]\n",
      "Fetched 79.9 MB in 1s (57.9 MB/s)      \u001b[0m\u001b[33m   \n",
      "Extracting templates from packages: 100%\n",
      "Preconfiguring packages ...\n",
      "\n",
      "\u001b7\u001b[0;23r\u001b8\u001b[1ASelecting previously unselected package liblocale-gettext-perl.\n",
      "(Reading database ... 68526 files and directories currently installed.)\n",
      "Preparing to unpack .../00-liblocale-gettext-perl_1.07-5_amd64.deb ...\n",
      "\u001b7\u001b[24;0f\u001b[42m\u001b[30mProgress: [  0%]\u001b[49m\u001b[39m [..........................................................] \u001b8Unpacking liblocale-gettext-perl (1.07-5) ...\n",
      "Selecting previously unselected package bzip2.\n",
      "Preparing to unpack .../01-bzip2_1.0.8-5+b1_amd64.deb ...\n",
      "Unpacking bzip2 (1.0.8-5+b1) ...\n",
      "\u001b7\u001b[24;0f\u001b[42m\u001b[30mProgress: [  1%]\u001b[49m\u001b[39m [..........................................................] \u001b8Selecting previously unselected package binutils-common:amd64.\n",
      "Preparing to unpack .../02-binutils-common_2.40-2_amd64.deb ...\n",
      "Unpacking binutils-common:amd64 (2.40-2) ...\n",
      "Selecting previously unselected package libbinutils:amd64.\n",
      "Preparing to unpack .../03-libbinutils_2.40-2_amd64.deb ...\n",
      "\u001b7\u001b[24;0f\u001b[42m\u001b[30mProgress: [  2%]\u001b[49m\u001b[39m [#.........................................................] \u001b8Unpacking libbinutils:amd64 (2.40-2) ...\n",
      "Selecting previously unselected package libctf-nobfd0:amd64.\n",
      "Preparing to unpack .../04-libctf-nobfd0_2.40-2_amd64.deb ...\n",
      "Unpacking libctf-nobfd0:amd64 (2.40-2) ...\n",
      "\u001b7\u001b[24;0f\u001b[42m\u001b[30mProgress: [  3%]\u001b[49m\u001b[39m [#.........................................................] \u001b8Selecting previously unselected package libctf0:amd64.\n",
      "Preparing to unpack .../05-libctf0_2.40-2_amd64.deb ...\n",
      "Unpacking libctf0:amd64 (2.40-2) ...\n",
      "Selecting previously unselected package libgprofng0:amd64.\n",
      "Preparing to unpack .../06-libgprofng0_2.40-2_amd64.deb ...\n",
      "\u001b7\u001b[24;0f\u001b[42m\u001b[30mProgress: [  4%]\u001b[49m\u001b[39m [##........................................................] \u001b8Unpacking libgprofng0:amd64 (2.40-2) ...\n",
      "Selecting previously unselected package libjansson4:amd64.\n",
      "Preparing to unpack .../07-libjansson4_2.14-2_amd64.deb ...\n",
      "Unpacking libjansson4:amd64 (2.14-2) ...\n",
      "\u001b7\u001b[24;0f\u001b[42m\u001b[30mProgress: [  5%]\u001b[49m\u001b[39m [##........................................................] \u001b8Selecting previously unselected package binutils-x86-64-linux-gnu.\n",
      "Preparing to unpack .../08-binutils-x86-64-linux-gnu_2.40-2_amd64.deb ...\n",
      "Unpacking binutils-x86-64-linux-gnu (2.40-2) ...\n",
      "Selecting previously unselected package binutils.\n",
      "Preparing to unpack .../09-binutils_2.40-2_amd64.deb ...\n",
      "\u001b7\u001b[24;0f\u001b[42m\u001b[30mProgress: [  6%]\u001b[49m\u001b[39m [###.......................................................] \u001b8Unpacking binutils (2.40-2) ...\n",
      "Selecting previously unselected package libc-dev-bin.\n",
      "Preparing to unpack .../10-libc-dev-bin_2.36-9+deb12u7_amd64.deb ...\n",
      "Unpacking libc-dev-bin (2.36-9+deb12u7) ...\n",
      "\u001b7\u001b[24;0f\u001b[42m\u001b[30mProgress: [  7%]\u001b[49m\u001b[39m [####......................................................] \u001b8Selecting previously unselected package linux-libc-dev:amd64.\n",
      "Preparing to unpack .../11-linux-libc-dev_6.1.90-1_amd64.deb ...\n",
      "Unpacking linux-libc-dev:amd64 (6.1.90-1) ...\n",
      "Selecting previously unselected package libcrypt-dev:amd64.\n",
      "Preparing to unpack .../12-libcrypt-dev_1%3a4.4.33-2_amd64.deb ...\n",
      "Unpacking libcrypt-dev:amd64 (1:4.4.33-2) ...\n",
      "\u001b7\u001b[24;0f\u001b[42m\u001b[30mProgress: [  8%]\u001b[49m\u001b[39m [####......................................................] \u001b8Selecting previously unselected package libtirpc-dev:amd64.\n",
      "Preparing to unpack .../13-libtirpc-dev_1.3.3+ds-1_amd64.deb ...\n",
      "Unpacking libtirpc-dev:amd64 (1.3.3+ds-1) ...\n",
      "Selecting previously unselected package libnsl-dev:amd64.\n",
      "Preparing to unpack .../14-libnsl-dev_1.3.0-2_amd64.deb ...\n",
      "\u001b7\u001b[24;0f\u001b[42m\u001b[30mProgress: [  9%]\u001b[49m\u001b[39m [#####.....................................................] \u001b8Unpacking libnsl-dev:amd64 (1.3.0-2) ...\n",
      "Selecting previously unselected package rpcsvc-proto.\n",
      "Preparing to unpack .../15-rpcsvc-proto_1.4.3-1_amd64.deb ...\n",
      "Unpacking rpcsvc-proto (1.4.3-1) ...\n",
      "\u001b7\u001b[24;0f\u001b[42m\u001b[30mProgress: [ 10%]\u001b[49m\u001b[39m [#####.....................................................] \u001b8Selecting previously unselected package libc6-dev:amd64.\n",
      "Preparing to unpack .../16-libc6-dev_2.36-9+deb12u7_amd64.deb ...\n",
      "Unpacking libc6-dev:amd64 (2.36-9+deb12u7) ...\n",
      "Selecting previously unselected package libisl23:amd64.\n",
      "Preparing to unpack .../17-libisl23_0.25-1.1_amd64.deb ...\n",
      "\u001b7\u001b[24;0f\u001b[42m\u001b[30mProgress: [ 11%]\u001b[49m\u001b[39m [######....................................................] \u001b8Unpacking libisl23:amd64 (0.25-1.1) ...\n",
      "Selecting previously unselected package libmpfr6:amd64.\n",
      "Preparing to unpack .../18-libmpfr6_4.2.0-1_amd64.deb ...\n",
      "Unpacking libmpfr6:amd64 (4.2.0-1) ...\n",
      "\u001b7\u001b[24;0f\u001b[42m\u001b[30mProgress: [ 12%]\u001b[49m\u001b[39m [#######...................................................] \u001b8Selecting previously unselected package libmpc3:amd64.\n",
      "Preparing to unpack .../19-libmpc3_1.3.1-1_amd64.deb ...\n",
      "Unpacking libmpc3:amd64 (1.3.1-1) ...\n",
      "Selecting previously unselected package cpp-12.\n",
      "Preparing to unpack .../20-cpp-12_12.2.0-14_amd64.deb ...\n",
      "\u001b7\u001b[24;0f\u001b[42m\u001b[30mProgress: [ 13%]\u001b[49m\u001b[39m [#######...................................................] \u001b8Unpacking cpp-12 (12.2.0-14) ...\n",
      "Selecting previously unselected package cpp.\n",
      "Preparing to unpack .../21-cpp_4%3a12.2.0-3_amd64.deb ...\n",
      "Unpacking cpp (4:12.2.0-3) ...\n",
      "\u001b7\u001b[24;0f\u001b[42m\u001b[30mProgress: [ 14%]\u001b[49m\u001b[39m [########..................................................] \u001b8Selecting previously unselected package libcc1-0:amd64.\n",
      "Preparing to unpack .../22-libcc1-0_12.2.0-14_amd64.deb ...\n",
      "Unpacking libcc1-0:amd64 (12.2.0-14) ...\n",
      "Selecting previously unselected package libgomp1:amd64.\n",
      "Preparing to unpack .../23-libgomp1_12.2.0-14_amd64.deb ...\n",
      "\u001b7\u001b[24;0f\u001b[42m\u001b[30mProgress: [ 15%]\u001b[49m\u001b[39m [########..................................................] \u001b8Unpacking libgomp1:amd64 (12.2.0-14) ...\n",
      "Selecting previously unselected package libitm1:amd64.\n",
      "Preparing to unpack .../24-libitm1_12.2.0-14_amd64.deb ...\n",
      "Unpacking libitm1:amd64 (12.2.0-14) ...\n",
      "Selecting previously unselected package libatomic1:amd64.\n",
      "Preparing to unpack .../25-libatomic1_12.2.0-14_amd64.deb ...\n",
      "\u001b7\u001b[24;0f\u001b[42m\u001b[30mProgress: [ 16%]\u001b[49m\u001b[39m [#########.................................................] \u001b8Unpacking libatomic1:amd64 (12.2.0-14) ...\n",
      "Selecting previously unselected package libasan8:amd64.\n",
      "Preparing to unpack .../26-libasan8_12.2.0-14_amd64.deb ...\n",
      "Unpacking libasan8:amd64 (12.2.0-14) ...\n",
      "\u001b7\u001b[24;0f\u001b[42m\u001b[30mProgress: [ 17%]\u001b[49m\u001b[39m [##########................................................] \u001b8Selecting previously unselected package liblsan0:amd64.\n",
      "Preparing to unpack .../27-liblsan0_12.2.0-14_amd64.deb ...\n",
      "Unpacking liblsan0:amd64 (12.2.0-14) ...\n",
      "Selecting previously unselected package libtsan2:amd64.\n",
      "Preparing to unpack .../28-libtsan2_12.2.0-14_amd64.deb ...\n",
      "\u001b7\u001b[24;0f\u001b[42m\u001b[30mProgress: [ 18%]\u001b[49m\u001b[39m [##########................................................] \u001b8Unpacking libtsan2:amd64 (12.2.0-14) ...\n",
      "Selecting previously unselected package libubsan1:amd64.\n",
      "Preparing to unpack .../29-libubsan1_12.2.0-14_amd64.deb ...\n",
      "Unpacking libubsan1:amd64 (12.2.0-14) ...\n",
      "\u001b7\u001b[24;0f\u001b[42m\u001b[30mProgress: [ 19%]\u001b[49m\u001b[39m [###########...............................................] \u001b8Selecting previously unselected package libquadmath0:amd64.\n",
      "Preparing to unpack .../30-libquadmath0_12.2.0-14_amd64.deb ...\n",
      "Unpacking libquadmath0:amd64 (12.2.0-14) ...\n",
      "Selecting previously unselected package libgcc-12-dev:amd64.\n",
      "Preparing to unpack .../31-libgcc-12-dev_12.2.0-14_amd64.deb ...\n",
      "\u001b7\u001b[24;0f\u001b[42m\u001b[30mProgress: [ 20%]\u001b[49m\u001b[39m [###########...............................................] \u001b8Unpacking libgcc-12-dev:amd64 (12.2.0-14) ...\n",
      "Selecting previously unselected package gcc-12.\n",
      "Preparing to unpack .../32-gcc-12_12.2.0-14_amd64.deb ...\n",
      "Unpacking gcc-12 (12.2.0-14) ...\n",
      "\u001b7\u001b[24;0f\u001b[42m\u001b[30mProgress: [ 21%]\u001b[49m\u001b[39m [############..............................................] \u001b8Selecting previously unselected package gcc.\n",
      "Preparing to unpack .../33-gcc_4%3a12.2.0-3_amd64.deb ...\n",
      "Unpacking gcc (4:12.2.0-3) ...\n",
      "Selecting previously unselected package libstdc++-12-dev:amd64.\n",
      "Preparing to unpack .../34-libstdc++-12-dev_12.2.0-14_amd64.deb ...\n",
      "\u001b7\u001b[24;0f\u001b[42m\u001b[30mProgress: [ 22%]\u001b[49m\u001b[39m [############..............................................] \u001b8Unpacking libstdc++-12-dev:amd64 (12.2.0-14) ...\n",
      "Selecting previously unselected package g++-12.\n",
      "Preparing to unpack .../35-g++-12_12.2.0-14_amd64.deb ...\n",
      "Unpacking g++-12 (12.2.0-14) ...\n",
      "\u001b7\u001b[24;0f\u001b[42m\u001b[30mProgress: [ 23%]\u001b[49m\u001b[39m [#############.............................................] \u001b8Selecting previously unselected package g++.\n",
      "Preparing to unpack .../36-g++_4%3a12.2.0-3_amd64.deb ...\n",
      "Unpacking g++ (4:12.2.0-3) ...\n",
      "Selecting previously unselected package make.\n",
      "Preparing to unpack .../37-make_4.3-4.1_amd64.deb ...\n",
      "Unpacking make (4.3-4.1) ...\n",
      "\u001b7\u001b[24;0f\u001b[42m\u001b[30mProgress: [ 24%]\u001b[49m\u001b[39m [##############............................................] \u001b8Selecting previously unselected package libdpkg-perl.\n",
      "Preparing to unpack .../38-libdpkg-perl_1.21.22_all.deb ...\n",
      "Unpacking libdpkg-perl (1.21.22) ...\n",
      "Selecting previously unselected package patch.\n",
      "Preparing to unpack .../39-patch_2.7.6-7_amd64.deb ...\n",
      "\u001b7\u001b[24;0f\u001b[42m\u001b[30mProgress: [ 25%]\u001b[49m\u001b[39m [##############............................................] \u001b8Unpacking patch (2.7.6-7) ...\n",
      "Selecting previously unselected package dpkg-dev.\n",
      "Preparing to unpack .../40-dpkg-dev_1.21.22_all.deb ...\n",
      "Unpacking dpkg-dev (1.21.22) ...\n",
      "\u001b7\u001b[24;0f\u001b[42m\u001b[30mProgress: [ 26%]\u001b[49m\u001b[39m [###############...........................................] \u001b8Selecting previously unselected package build-essential.\n",
      "Preparing to unpack .../41-build-essential_12.9_amd64.deb ...\n",
      "Unpacking build-essential (12.9) ...\n",
      "Selecting previously unselected package libfakeroot:amd64.\n",
      "Preparing to unpack .../42-libfakeroot_1.31-1.2_amd64.deb ...\n",
      "\u001b7\u001b[24;0f\u001b[42m\u001b[30mProgress: [ 27%]\u001b[49m\u001b[39m [###############...........................................] \u001b8Unpacking libfakeroot:amd64 (1.31-1.2) ...\n",
      "Selecting previously unselected package fakeroot.\n",
      "Preparing to unpack .../43-fakeroot_1.31-1.2_amd64.deb ...\n",
      "Unpacking fakeroot (1.31-1.2) ...\n",
      "\u001b7\u001b[24;0f\u001b[42m\u001b[30mProgress: [ 28%]\u001b[49m\u001b[39m [################..........................................] \u001b8Selecting previously unselected package fonts-dejavu-core.\n",
      "Preparing to unpack .../44-fonts-dejavu-core_2.37-6_all.deb ...\n",
      "Unpacking fonts-dejavu-core (2.37-6) ...\n",
      "Selecting previously unselected package fontconfig-config.\n",
      "Preparing to unpack .../45-fontconfig-config_2.14.1-4_amd64.deb ...\n",
      "\u001b7\u001b[24;0f\u001b[42m\u001b[30mProgress: [ 29%]\u001b[49m\u001b[39m [################..........................................] \u001b8Unpacking fontconfig-config (2.14.1-4) ...\n",
      "Selecting previously unselected package libabsl20220623:amd64.\n",
      "Preparing to unpack .../46-libabsl20220623_20220623.1-1_amd64.deb ...\n",
      "Unpacking libabsl20220623:amd64 (20220623.1-1) ...\n",
      "\u001b7\u001b[24;0f\u001b[42m\u001b[30mProgress: [ 30%]\u001b[49m\u001b[39m [#################.........................................] \u001b8Selecting previously unselected package libalgorithm-diff-perl.\n",
      "Preparing to unpack .../47-libalgorithm-diff-perl_1.201-1_all.deb ...\n",
      "Unpacking libalgorithm-diff-perl (1.201-1) ...\n",
      "Selecting previously unselected package libalgorithm-diff-xs-perl:amd64.\n",
      "Preparing to unpack .../48-libalgorithm-diff-xs-perl_0.04-8+b1_amd64.deb ...\n",
      "Unpacking libalgorithm-diff-xs-perl:amd64 (0.04-8+b1) ...\n",
      "\u001b7\u001b[24;0f\u001b[42m\u001b[30mProgress: [ 31%]\u001b[49m\u001b[39m [##################........................................] \u001b8Selecting previously unselected package libalgorithm-merge-perl.\n",
      "Preparing to unpack .../49-libalgorithm-merge-perl_0.08-5_all.deb ...\n",
      "Unpacking libalgorithm-merge-perl (0.08-5) ...\n",
      "Selecting previously unselected package libaom3:amd64.\n",
      "Preparing to unpack .../50-libaom3_3.6.0-1_amd64.deb ...\n",
      "\u001b7\u001b[24;0f\u001b[42m\u001b[30mProgress: [ 32%]\u001b[49m\u001b[39m [##################........................................] \u001b8Unpacking libaom3:amd64 (3.6.0-1) ...\n",
      "Selecting previously unselected package libdav1d6:amd64.\n",
      "Preparing to unpack .../51-libdav1d6_1.0.0-2+deb12u1_amd64.deb ...\n",
      "Unpacking libdav1d6:amd64 (1.0.0-2+deb12u1) ...\n",
      "\u001b7\u001b[24;0f\u001b[42m\u001b[30mProgress: [ 33%]\u001b[49m\u001b[39m [###################.......................................] \u001b8Selecting previously unselected package libgav1-1:amd64.\n",
      "Preparing to unpack .../52-libgav1-1_0.18.0-1+b1_amd64.deb ...\n",
      "Unpacking libgav1-1:amd64 (0.18.0-1+b1) ...\n",
      "Selecting previously unselected package librav1e0:amd64.\n",
      "Preparing to unpack .../53-librav1e0_0.5.1-6_amd64.deb ...\n",
      "\u001b7\u001b[24;0f\u001b[42m\u001b[30mProgress: [ 34%]\u001b[49m\u001b[39m [###################.......................................] \u001b8Unpacking librav1e0:amd64 (0.5.1-6) ...\n",
      "Selecting previously unselected package libsvtav1enc1:amd64.\n",
      "Preparing to unpack .../54-libsvtav1enc1_1.4.1+dfsg-1_amd64.deb ...\n",
      "Unpacking libsvtav1enc1:amd64 (1.4.1+dfsg-1) ...\n",
      "\u001b7\u001b[24;0f\u001b[42m\u001b[30mProgress: [ 35%]\u001b[49m\u001b[39m [####################......................................] \u001b8Selecting previously unselected package libjpeg62-turbo:amd64.\n",
      "Preparing to unpack .../55-libjpeg62-turbo_1%3a2.1.5-2_amd64.deb ...\n",
      "Unpacking libjpeg62-turbo:amd64 (1:2.1.5-2) ...\n",
      "Selecting previously unselected package libyuv0:amd64.\n",
      "Preparing to unpack .../56-libyuv0_0.0~git20230123.b2528b0-1_amd64.deb ...\n",
      "\u001b7\u001b[24;0f\u001b[42m\u001b[30mProgress: [ 36%]\u001b[49m\u001b[39m [####################......................................] \u001b8Unpacking libyuv0:amd64 (0.0~git20230123.b2528b0-1) ...\n",
      "Selecting previously unselected package libavif15:amd64.\n",
      "Preparing to unpack .../57-libavif15_0.11.1-1_amd64.deb ...\n",
      "Unpacking libavif15:amd64 (0.11.1-1) ...\n",
      "\u001b7\u001b[24;0f\u001b[42m\u001b[30mProgress: [ 37%]\u001b[49m\u001b[39m [#####################.....................................] \u001b8Selecting previously unselected package libfontconfig1:amd64.\n",
      "Preparing to unpack .../58-libfontconfig1_2.14.1-4_amd64.deb ...\n",
      "Unpacking libfontconfig1:amd64 (2.14.1-4) ...\n",
      "Selecting previously unselected package libde265-0:amd64.\n",
      "Preparing to unpack .../59-libde265-0_1.0.11-1+deb12u2_amd64.deb ...\n",
      "\u001b7\u001b[24;0f\u001b[42m\u001b[30mProgress: [ 38%]\u001b[49m\u001b[39m [######################....................................] \u001b8Unpacking libde265-0:amd64 (1.0.11-1+deb12u2) ...\n",
      "Selecting previously unselected package libnuma1:amd64.\n",
      "Preparing to unpack .../60-libnuma1_2.0.16-1_amd64.deb ...\n",
      "Unpacking libnuma1:amd64 (2.0.16-1) ...\n",
      "Selecting previously unselected package libx265-199:amd64.\n",
      "Preparing to unpack .../61-libx265-199_3.5-2+b1_amd64.deb ...\n",
      "\u001b7\u001b[24;0f\u001b[42m\u001b[30mProgress: [ 39%]\u001b[49m\u001b[39m [######################....................................] \u001b8Unpacking libx265-199:amd64 (3.5-2+b1) ...\n",
      "Selecting previously unselected package libheif1:amd64.\n",
      "Preparing to unpack .../62-libheif1_1.15.1-1_amd64.deb ...\n",
      "Unpacking libheif1:amd64 (1.15.1-1) ...\n",
      "\u001b7\u001b[24;0f\u001b[42m\u001b[30mProgress: [ 40%]\u001b[49m\u001b[39m [#######################...................................] \u001b8Selecting previously unselected package libdeflate0:amd64.\n",
      "Preparing to unpack .../63-libdeflate0_1.14-1_amd64.deb ...\n",
      "Unpacking libdeflate0:amd64 (1.14-1) ...\n",
      "Selecting previously unselected package libjbig0:amd64.\n",
      "Preparing to unpack .../64-libjbig0_2.1-6.1_amd64.deb ...\n",
      "\u001b7\u001b[24;0f\u001b[42m\u001b[30mProgress: [ 41%]\u001b[49m\u001b[39m [#######################...................................] \u001b8Unpacking libjbig0:amd64 (2.1-6.1) ...\n",
      "Selecting previously unselected package liblerc4:amd64.\n",
      "Preparing to unpack .../65-liblerc4_4.0.0+ds-2_amd64.deb ...\n",
      "Unpacking liblerc4:amd64 (4.0.0+ds-2) ...\n",
      "\u001b7\u001b[24;0f\u001b[42m\u001b[30mProgress: [ 42%]\u001b[49m\u001b[39m [########################..................................] \u001b8Selecting previously unselected package libwebp7:amd64.\n",
      "Preparing to unpack .../66-libwebp7_1.2.4-0.2+deb12u1_amd64.deb ...\n",
      "Unpacking libwebp7:amd64 (1.2.4-0.2+deb12u1) ...\n",
      "Selecting previously unselected package libtiff6:amd64.\n",
      "Preparing to unpack .../67-libtiff6_4.5.0-6+deb12u1_amd64.deb ...\n",
      "\u001b7\u001b[24;0f\u001b[42m\u001b[30mProgress: [ 43%]\u001b[49m\u001b[39m [#########################.................................] \u001b8Unpacking libtiff6:amd64 (4.5.0-6+deb12u1) ...\n",
      "Selecting previously unselected package libxau6:amd64.\n",
      "Preparing to unpack .../68-libxau6_1%3a1.0.9-1_amd64.deb ...\n",
      "Unpacking libxau6:amd64 (1:1.0.9-1) ...\n",
      "\u001b7\u001b[24;0f\u001b[42m\u001b[30mProgress: [ 44%]\u001b[49m\u001b[39m [#########################.................................] \u001b8Selecting previously unselected package libxdmcp6:amd64.\n",
      "Preparing to unpack .../69-libxdmcp6_1%3a1.1.2-3_amd64.deb ...\n",
      "Unpacking libxdmcp6:amd64 (1:1.1.2-3) ...\n",
      "Selecting previously unselected package libxcb1:amd64.\n",
      "Preparing to unpack .../70-libxcb1_1.15-1_amd64.deb ...\n",
      "\u001b7\u001b[24;0f\u001b[42m\u001b[30mProgress: [ 45%]\u001b[49m\u001b[39m [##########################................................] \u001b8Unpacking libxcb1:amd64 (1.15-1) ...\n",
      "Selecting previously unselected package libx11-data.\n",
      "Preparing to unpack .../71-libx11-data_2%3a1.8.4-2+deb12u2_all.deb ...\n",
      "Unpacking libx11-data (2:1.8.4-2+deb12u2) ...\n",
      "\u001b7\u001b[24;0f\u001b[42m\u001b[30mProgress: [ 46%]\u001b[49m\u001b[39m [##########################................................] \u001b8Selecting previously unselected package libx11-6:amd64.\n",
      "Preparing to unpack .../72-libx11-6_2%3a1.8.4-2+deb12u2_amd64.deb ...\n",
      "Unpacking libx11-6:amd64 (2:1.8.4-2+deb12u2) ...\n",
      "Selecting previously unselected package libxpm4:amd64.\n",
      "Preparing to unpack .../73-libxpm4_1%3a3.5.12-1.1+deb12u1_amd64.deb ...\n",
      "Unpacking libxpm4:amd64 (1:3.5.12-1.1+deb12u1) ...\n",
      "\u001b7\u001b[24;0f\u001b[42m\u001b[30mProgress: [ 47%]\u001b[49m\u001b[39m [###########################...............................] \u001b8Selecting previously unselected package libgd3:amd64.\n",
      "Preparing to unpack .../74-libgd3_2.3.3-9_amd64.deb ...\n",
      "Unpacking libgd3:amd64 (2.3.3-9) ...\n",
      "Selecting previously unselected package libc-devtools.\n",
      "Preparing to unpack .../75-libc-devtools_2.36-9+deb12u7_amd64.deb ...\n",
      "\u001b7\u001b[24;0f\u001b[42m\u001b[30mProgress: [ 48%]\u001b[49m\u001b[39m [###########################...............................] \u001b8Unpacking libc-devtools (2.36-9+deb12u7) ...\n",
      "Selecting previously unselected package libfile-fcntllock-perl.\n",
      "Preparing to unpack .../76-libfile-fcntllock-perl_0.22-4+b1_amd64.deb ...\n",
      "Unpacking libfile-fcntllock-perl (0.22-4+b1) ...\n",
      "\u001b7\u001b[24;0f\u001b[42m\u001b[30mProgress: [ 49%]\u001b[49m\u001b[39m [############################..............................] \u001b8Selecting previously unselected package manpages-dev.\n",
      "Preparing to unpack .../77-manpages-dev_6.03-2_all.deb ...\n",
      "Unpacking manpages-dev (6.03-2) ...\n",
      "Setting up libaom3:amd64 (3.6.0-1) ...\n",
      "\u001b7\u001b[24;0f\u001b[42m\u001b[30mProgress: [ 50%]\u001b[49m\u001b[39m [#############################.............................] \u001b8Setting up manpages-dev (6.03-2) ...\n",
      "\u001b7\u001b[24;0f\u001b[42m\u001b[30mProgress: [ 51%]\u001b[49m\u001b[39m [#############################.............................] \u001b8Setting up libabsl20220623:amd64 (20220623.1-1) ...\n",
      "Setting up libxau6:amd64 (1:1.0.9-1) ...\n",
      "\u001b7\u001b[24;0f\u001b[42m\u001b[30mProgress: [ 52%]\u001b[49m\u001b[39m [##############################............................] \u001b8Setting up libxdmcp6:amd64 (1:1.1.2-3) ...\n",
      "\u001b7\u001b[24;0f\u001b[42m\u001b[30mProgress: [ 53%]\u001b[49m\u001b[39m [##############################............................] \u001b8Setting up libxcb1:amd64 (1.15-1) ...\n",
      "Setting up liblerc4:amd64 (4.0.0+ds-2) ...\n",
      "\u001b7\u001b[24;0f\u001b[42m\u001b[30mProgress: [ 54%]\u001b[49m\u001b[39m [###############################...........................] \u001b8Setting up libfile-fcntllock-perl (0.22-4+b1) ...\n",
      "Setting up libalgorithm-diff-perl (1.201-1) ...\n",
      "\u001b7\u001b[24;0f\u001b[42m\u001b[30mProgress: [ 55%]\u001b[49m\u001b[39m [################################..........................] \u001b8Setting up binutils-common:amd64 (2.40-2) ...\n",
      "\u001b7\u001b[24;0f\u001b[42m\u001b[30mProgress: [ 56%]\u001b[49m\u001b[39m [################################..........................] \u001b8Setting up libdeflate0:amd64 (1.14-1) ...\n",
      "Setting up linux-libc-dev:amd64 (6.1.90-1) ...\n",
      "\u001b7\u001b[24;0f\u001b[42m\u001b[30mProgress: [ 57%]\u001b[49m\u001b[39m [#################################.........................] \u001b8Setting up libctf-nobfd0:amd64 (2.40-2) ...\n",
      "\u001b7\u001b[24;0f\u001b[42m\u001b[30mProgress: [ 58%]\u001b[49m\u001b[39m [#################################.........................] \u001b8Setting up libsvtav1enc1:amd64 (1.4.1+dfsg-1) ...\n",
      "Setting up libgomp1:amd64 (12.2.0-14) ...\n",
      "\u001b7\u001b[24;0f\u001b[42m\u001b[30mProgress: [ 59%]\u001b[49m\u001b[39m [##################################........................] \u001b8Setting up bzip2 (1.0.8-5+b1) ...\n",
      "\u001b7\u001b[24;0f\u001b[42m\u001b[30mProgress: [ 60%]\u001b[49m\u001b[39m [##################################........................] \u001b8Setting up libjbig0:amd64 (2.1-6.1) ...\n",
      "Setting up librav1e0:amd64 (0.5.1-6) ...\n",
      "\u001b7\u001b[24;0f\u001b[42m\u001b[30mProgress: [ 61%]\u001b[49m\u001b[39m [###################################.......................] \u001b8Setting up libfakeroot:amd64 (1.31-1.2) ...\n",
      "Setting up libjansson4:amd64 (2.14-2) ...\n",
      "\u001b7\u001b[24;0f\u001b[42m\u001b[30mProgress: [ 62%]\u001b[49m\u001b[39m [####################################......................] \u001b8Setting up fakeroot (1.31-1.2) ...\n",
      "update-alternatives: using /usr/bin/fakeroot-sysv to provide /usr/bin/fakeroot (fakeroot) in auto mode\n",
      "\u001b7\u001b[24;0f\u001b[42m\u001b[30mProgress: [ 63%]\u001b[49m\u001b[39m [####################################......................] \u001b8Setting up libtirpc-dev:amd64 (1.3.3+ds-1) ...\n",
      "Setting up rpcsvc-proto (1.4.3-1) ...\n",
      "\u001b7\u001b[24;0f\u001b[42m\u001b[30mProgress: [ 64%]\u001b[49m\u001b[39m [#####################################.....................] \u001b8Setting up libjpeg62-turbo:amd64 (1:2.1.5-2) ...\n",
      "\u001b7\u001b[24;0f\u001b[42m\u001b[30mProgress: [ 65%]\u001b[49m\u001b[39m [#####################################.....................] \u001b8Setting up libx11-data (2:1.8.4-2+deb12u2) ...\n",
      "Setting up make (4.3-4.1) ...\n",
      "\u001b7\u001b[24;0f\u001b[42m\u001b[30mProgress: [ 66%]\u001b[49m\u001b[39m [######################################....................] \u001b8Setting up libmpfr6:amd64 (4.2.0-1) ...\n",
      "\u001b7\u001b[24;0f\u001b[42m\u001b[30mProgress: [ 67%]\u001b[49m\u001b[39m [######################################....................] \u001b8Setting up libquadmath0:amd64 (12.2.0-14) ...\n",
      "Setting up libmpc3:amd64 (1.3.1-1) ...\n",
      "\u001b7\u001b[24;0f\u001b[42m\u001b[30mProgress: [ 68%]\u001b[49m\u001b[39m [#######################################...................] \u001b8Setting up libatomic1:amd64 (12.2.0-14) ...\n",
      "\u001b7\u001b[24;0f\u001b[42m\u001b[30mProgress: [ 69%]\u001b[49m\u001b[39m [########################################..................] \u001b8Setting up patch (2.7.6-7) ...\n",
      "Setting up fonts-dejavu-core (2.37-6) ...\n",
      "\u001b7\u001b[24;0f\u001b[42m\u001b[30mProgress: [ 70%]\u001b[49m\u001b[39m [########################################..................] \u001b8Setting up libgav1-1:amd64 (0.18.0-1+b1) ...\n",
      "Setting up libdav1d6:amd64 (1.0.0-2+deb12u1) ...\n",
      "\u001b7\u001b[24;0f\u001b[42m\u001b[30mProgress: [ 71%]\u001b[49m\u001b[39m [#########################################.................] \u001b8Setting up libdpkg-perl (1.21.22) ...\n",
      "\u001b7\u001b[24;0f\u001b[42m\u001b[30mProgress: [ 72%]\u001b[49m\u001b[39m [#########################################.................] \u001b8Setting up libwebp7:amd64 (1.2.4-0.2+deb12u1) ...\n",
      "Setting up libubsan1:amd64 (12.2.0-14) ...\n",
      "\u001b7\u001b[24;0f\u001b[42m\u001b[30mProgress: [ 73%]\u001b[49m\u001b[39m [##########################################................] \u001b8Setting up libnuma1:amd64 (2.0.16-1) ...\n",
      "\u001b7\u001b[24;0f\u001b[42m\u001b[30mProgress: [ 74%]\u001b[49m\u001b[39m [##########################################................] \u001b8Setting up libnsl-dev:amd64 (1.3.0-2) ...\n",
      "Setting up libcrypt-dev:amd64 (1:4.4.33-2) ...\n",
      "\u001b7\u001b[24;0f\u001b[42m\u001b[30mProgress: [ 75%]\u001b[49m\u001b[39m [###########################################...............] \u001b8Setting up libtiff6:amd64 (4.5.0-6+deb12u1) ...\n",
      "\u001b7\u001b[24;0f\u001b[42m\u001b[30mProgress: [ 76%]\u001b[49m\u001b[39m [############################################..............] \u001b8Setting up libasan8:amd64 (12.2.0-14) ...\n",
      "Setting up libx11-6:amd64 (2:1.8.4-2+deb12u2) ...\n",
      "\u001b7\u001b[24;0f\u001b[42m\u001b[30mProgress: [ 77%]\u001b[49m\u001b[39m [############################################..............] \u001b8Setting up libtsan2:amd64 (12.2.0-14) ...\n",
      "Setting up libbinutils:amd64 (2.40-2) ...\n",
      "\u001b7\u001b[24;0f\u001b[42m\u001b[30mProgress: [ 78%]\u001b[49m\u001b[39m [#############################################.............] \u001b8Setting up libisl23:amd64 (0.25-1.1) ...\n",
      "\u001b7\u001b[24;0f\u001b[42m\u001b[30mProgress: [ 79%]\u001b[49m\u001b[39m [#############################################.............] \u001b8Setting up libde265-0:amd64 (1.0.11-1+deb12u2) ...\n",
      "Setting up libc-dev-bin (2.36-9+deb12u7) ...\n",
      "\u001b7\u001b[24;0f\u001b[42m\u001b[30mProgress: [ 80%]\u001b[49m\u001b[39m [##############################################............] \u001b8Setting up libyuv0:amd64 (0.0~git20230123.b2528b0-1) ...\n",
      "\u001b7\u001b[24;0f\u001b[42m\u001b[30mProgress: [ 81%]\u001b[49m\u001b[39m [###############################################...........] \u001b8Setting up libalgorithm-diff-xs-perl:amd64 (0.04-8+b1) ...\n",
      "Setting up libcc1-0:amd64 (12.2.0-14) ...\n",
      "\u001b7\u001b[24;0f\u001b[42m\u001b[30mProgress: [ 82%]\u001b[49m\u001b[39m [###############################################...........] \u001b8Setting up liblocale-gettext-perl (1.07-5) ...\n",
      "\u001b7\u001b[24;0f\u001b[42m\u001b[30mProgress: [ 83%]\u001b[49m\u001b[39m [################################################..........] \u001b8Setting up liblsan0:amd64 (12.2.0-14) ...\n",
      "Setting up libitm1:amd64 (12.2.0-14) ...\n",
      "\u001b7\u001b[24;0f\u001b[42m\u001b[30mProgress: [ 84%]\u001b[49m\u001b[39m [################################################..........] \u001b8Setting up libalgorithm-merge-perl (0.08-5) ...\n",
      "Setting up libctf0:amd64 (2.40-2) ...\n",
      "\u001b7\u001b[24;0f\u001b[42m\u001b[30mProgress: [ 85%]\u001b[49m\u001b[39m [#################################################.........] \u001b8Setting up cpp-12 (12.2.0-14) ...\n",
      "\u001b7\u001b[24;0f\u001b[42m\u001b[30mProgress: [ 86%]\u001b[49m\u001b[39m [##################################################........] \u001b8Setting up libxpm4:amd64 (1:3.5.12-1.1+deb12u1) ...\n",
      "Setting up libavif15:amd64 (0.11.1-1) ...\n",
      "\u001b7\u001b[24;0f\u001b[42m\u001b[30mProgress: [ 87%]\u001b[49m\u001b[39m [##################################################........] \u001b8Setting up fontconfig-config (2.14.1-4) ...\n",
      "Setting up libgprofng0:amd64 (2.40-2) ...\n",
      "\u001b7\u001b[24;0f\u001b[42m\u001b[30mProgress: [ 88%]\u001b[49m\u001b[39m [###################################################.......] \u001b8Setting up libgcc-12-dev:amd64 (12.2.0-14) ...\n",
      "\u001b7\u001b[24;0f\u001b[42m\u001b[30mProgress: [ 89%]\u001b[49m\u001b[39m [###################################################.......] \u001b8Setting up libx265-199:amd64 (3.5-2+b1) ...\n",
      "Setting up cpp (4:12.2.0-3) ...\n",
      "\u001b7\u001b[24;0f\u001b[42m\u001b[30mProgress: [ 90%]\u001b[49m\u001b[39m [####################################################......] \u001b8Setting up libc6-dev:amd64 (2.36-9+deb12u7) ...\n",
      "\u001b7\u001b[24;0f\u001b[42m\u001b[30mProgress: [ 91%]\u001b[49m\u001b[39m [####################################################......] \u001b8Setting up binutils-x86-64-linux-gnu (2.40-2) ...\n",
      "Setting up libstdc++-12-dev:amd64 (12.2.0-14) ...\n",
      "\u001b7\u001b[24;0f\u001b[42m\u001b[30mProgress: [ 92%]\u001b[49m\u001b[39m [#####################################################.....] \u001b8Setting up libheif1:amd64 (1.15.1-1) ...\n",
      "Setting up binutils (2.40-2) ...\n",
      "\u001b7\u001b[24;0f\u001b[42m\u001b[30mProgress: [ 93%]\u001b[49m\u001b[39m [######################################################....] \u001b8Setting up dpkg-dev (1.21.22) ...\n",
      "\u001b7\u001b[24;0f\u001b[42m\u001b[30mProgress: [ 94%]\u001b[49m\u001b[39m [######################################################....] \u001b8Setting up gcc-12 (12.2.0-14) ...\n",
      "Setting up g++-12 (12.2.0-14) ...\n",
      "\u001b7\u001b[24;0f\u001b[42m\u001b[30mProgress: [ 95%]\u001b[49m\u001b[39m [#######################################################...] \u001b8Setting up gcc (4:12.2.0-3) ...\n",
      "\u001b7\u001b[24;0f\u001b[42m\u001b[30mProgress: [ 96%]\u001b[49m\u001b[39m [#######################################################...] \u001b8Setting up g++ (4:12.2.0-3) ...\n",
      "update-alternatives: using /usr/bin/g++ to provide /usr/bin/c++ (c++) in auto mode\n",
      "Setting up build-essential (12.9) ...\n",
      "\u001b7\u001b[24;0f\u001b[42m\u001b[30mProgress: [ 97%]\u001b[49m\u001b[39m [########################################################..] \u001b8Processing triggers for libc-bin (2.36-9+deb12u7) ...\n",
      "Processing triggers for man-db (2.11.2-2) ...\n",
      "Processing triggers for sgml-base (1.31) ...\n",
      "Setting up libfontconfig1:amd64 (2.14.1-4) ...\n",
      "\u001b7\u001b[24;0f\u001b[42m\u001b[30mProgress: [ 98%]\u001b[49m\u001b[39m [########################################################..] \u001b8Setting up libgd3:amd64 (2.3.3-9) ...\n",
      "\u001b7\u001b[24;0f\u001b[42m\u001b[30mProgress: [ 99%]\u001b[49m\u001b[39m [#########################################################.] \u001b8Setting up libc-devtools (2.36-9+deb12u7) ...\n",
      "Processing triggers for libc-bin (2.36-9+deb12u7) ...\n",
      "\n",
      "\u001b7\u001b[0;24r\u001b8\u001b[1A\u001b[J"
     ]
    }
   ],
   "source": [
    "!sudo apt install -y build-essential"
   ]
  },
  {
   "cell_type": "code",
   "execution_count": 29,
   "id": "bb50b48d-758d-4349-93fe-76540fcbad5c",
   "metadata": {},
   "outputs": [
    {
     "name": "stdout",
     "output_type": "stream",
     "text": [
      "Collecting annoy==1.17.1\n",
      "  Using cached annoy-1.17.1.tar.gz (647 kB)\n",
      "  Preparing metadata (setup.py) ... \u001b[?25ldone\n",
      "\u001b[?25hBuilding wheels for collected packages: annoy\n",
      "  Building wheel for annoy (setup.py) ... \u001b[?25ldone\n",
      "\u001b[?25h  Created wheel for annoy: filename=annoy-1.17.1-cp38-cp38-linux_x86_64.whl size=529650 sha256=a0b47ac5d550fd09fa6b777babd302972f0cbe16dde7ee61b911697c15d00759\n",
      "  Stored in directory: /home/beatriziarasilva03/.cache/pip/wheels/f9/93/19/30511c4a9ae6b4937455a134c34a39e13943e2c6f46fcd2ed2\n",
      "Successfully built annoy\n",
      "Installing collected packages: annoy\n",
      "Successfully installed annoy-1.17.1\n",
      "Note: you may need to restart the kernel to use updated packages.\n"
     ]
    }
   ],
   "source": [
    "pip install annoy==1.17.1"
   ]
  },
  {
   "cell_type": "code",
   "execution_count": 19,
   "id": "d347bd3d-6f59-4d82-b19f-aee1ef72db0f",
   "metadata": {},
   "outputs": [
    {
     "name": "stdout",
     "output_type": "stream",
     "text": [
      "Collecting faiss-cpu\n",
      "  Downloading faiss_cpu-1.8.0-cp38-cp38-manylinux_2_17_x86_64.manylinux2014_x86_64.whl.metadata (3.6 kB)\n",
      "Requirement already satisfied: numpy in /home/beatriziarasilva03/miniconda3/envs/rslib/lib/python3.8/site-packages (from faiss-cpu) (1.23.3)\n",
      "Downloading faiss_cpu-1.8.0-cp38-cp38-manylinux_2_17_x86_64.manylinux2014_x86_64.whl (27.0 MB)\n",
      "\u001b[2K   \u001b[90m━━━━━━━━━━━━━━━━━━━━━━━━━━━━━━━━━━━━━━━━\u001b[0m \u001b[32m27.0/27.0 MB\u001b[0m \u001b[31m13.6 MB/s\u001b[0m eta \u001b[36m0:00:00\u001b[0m00:01\u001b[0m00:01\u001b[0m\n",
      "\u001b[?25hInstalling collected packages: faiss-cpu\n",
      "Successfully installed faiss-cpu-1.8.0\n",
      "Note: you may need to restart the kernel to use updated packages.\n"
     ]
    }
   ],
   "source": [
    "pip install faiss-cpu"
   ]
  },
  {
   "cell_type": "code",
   "execution_count": 20,
   "id": "fd32d51a-aaa5-4172-b16b-8af3cb1931e5",
   "metadata": {},
   "outputs": [
    {
     "name": "stdout",
     "output_type": "stream",
     "text": [
      "Collecting pandarallel==1.6.4\n",
      "  Downloading pandarallel-1.6.4.tar.gz (12 kB)\n",
      "  Preparing metadata (setup.py) ... \u001b[?25ldone\n",
      "\u001b[?25hCollecting dill>=0.3.1 (from pandarallel==1.6.4)\n",
      "  Downloading dill-0.3.8-py3-none-any.whl.metadata (10 kB)\n",
      "Requirement already satisfied: pandas>=1 in /home/beatriziarasilva03/miniconda3/envs/rslib/lib/python3.8/site-packages (from pandarallel==1.6.4) (1.5.0)\n",
      "Requirement already satisfied: psutil in /home/beatriziarasilva03/miniconda3/envs/rslib/lib/python3.8/site-packages (from pandarallel==1.6.4) (5.9.0)\n",
      "Requirement already satisfied: python-dateutil>=2.8.1 in /home/beatriziarasilva03/miniconda3/envs/rslib/lib/python3.8/site-packages (from pandas>=1->pandarallel==1.6.4) (2.9.0.post0)\n",
      "Requirement already satisfied: pytz>=2020.1 in /home/beatriziarasilva03/miniconda3/envs/rslib/lib/python3.8/site-packages (from pandas>=1->pandarallel==1.6.4) (2024.1)\n",
      "Requirement already satisfied: numpy>=1.20.3 in /home/beatriziarasilva03/miniconda3/envs/rslib/lib/python3.8/site-packages (from pandas>=1->pandarallel==1.6.4) (1.23.3)\n",
      "Requirement already satisfied: six>=1.5 in /home/beatriziarasilva03/miniconda3/envs/rslib/lib/python3.8/site-packages (from python-dateutil>=2.8.1->pandas>=1->pandarallel==1.6.4) (1.16.0)\n",
      "Downloading dill-0.3.8-py3-none-any.whl (116 kB)\n",
      "\u001b[2K   \u001b[90m━━━━━━━━━━━━━━━━━━━━━━━━━━━━━━━━━━━━━━━\u001b[0m \u001b[32m116.3/116.3 kB\u001b[0m \u001b[31m331.4 kB/s\u001b[0m eta \u001b[36m0:00:00\u001b[0m \u001b[36m0:00:01\u001b[0m\n",
      "\u001b[?25hBuilding wheels for collected packages: pandarallel\n",
      "  Building wheel for pandarallel (setup.py) ... \u001b[?25ldone\n",
      "\u001b[?25h  Created wheel for pandarallel: filename=pandarallel-1.6.4-py3-none-any.whl size=16661 sha256=d08d4c640a4a6e97940dfa64a181132a795295e313764c3ac8fd7e3d9ce1cbb9\n",
      "  Stored in directory: /home/beatriziarasilva03/.cache/pip/wheels/62/1e/e7/f9ee096e5cc02890a6934a5670ff6e45a3400f330605bd8210\n",
      "Successfully built pandarallel\n",
      "Installing collected packages: dill, pandarallel\n",
      "Successfully installed dill-0.3.8 pandarallel-1.6.4\n",
      "Note: you may need to restart the kernel to use updated packages.\n"
     ]
    }
   ],
   "source": [
    "pip install pandarallel==1.6.4"
   ]
  },
  {
   "cell_type": "code",
   "execution_count": 30,
   "id": "9000c1d0-8263-4d90-aa6c-5d18f17fd567",
   "metadata": {},
   "outputs": [
    {
     "name": "stdout",
     "output_type": "stream",
     "text": [
      "Collecting recommenders[examples]\n",
      "  Using cached recommenders-1.2.0-py3-none-any.whl.metadata (13 kB)\n",
      "\u001b[33mWARNING: recommenders 1.2.0 does not provide the extra 'examples'\u001b[0m\u001b[33m\n",
      "\u001b[0mCollecting category-encoders<3,>=2.6.0 (from recommenders[examples])\n",
      "  Using cached category_encoders-2.6.3-py2.py3-none-any.whl.metadata (8.0 kB)\n",
      "Collecting cornac<2,>=1.15.2 (from recommenders[examples])\n",
      "  Using cached cornac-1.18.0-cp38-cp38-manylinux1_x86_64.whl.metadata (23 kB)\n",
      "Collecting hyperopt<1,>=0.2.7 (from recommenders[examples])\n",
      "  Using cached hyperopt-0.2.7-py2.py3-none-any.whl.metadata (1.7 kB)\n",
      "Collecting lightfm<2,>=1.17 (from recommenders[examples])\n",
      "  Using cached lightfm-1.17.tar.gz (316 kB)\n",
      "  Preparing metadata (setup.py) ... \u001b[?25ldone\n",
      "\u001b[?25hCollecting lightgbm<5,>=4.0.0 (from recommenders[examples])\n",
      "  Using cached lightgbm-4.4.0-py3-none-manylinux_2_28_x86_64.whl.metadata (19 kB)\n",
      "Collecting locust<3,>=2.12.2 (from recommenders[examples])\n",
      "  Using cached locust-2.25.0-py3-none-any.whl.metadata (7.2 kB)\n",
      "Collecting memory-profiler<1,>=0.61.0 (from recommenders[examples])\n",
      "  Using cached memory_profiler-0.61.0-py3-none-any.whl.metadata (20 kB)\n",
      "Collecting nltk<4,>=3.8.1 (from recommenders[examples])\n",
      "  Using cached nltk-3.8.1-py3-none-any.whl.metadata (2.8 kB)\n",
      "Requirement already satisfied: notebook<8,>=7.0.0 in /home/beatriziarasilva03/miniconda3/envs/rslib/lib/python3.8/site-packages (from recommenders[examples]) (7.0.8)\n",
      "Collecting numba<1,>=0.57.0 (from recommenders[examples])\n",
      "  Using cached numba-0.58.1-cp38-cp38-manylinux2014_x86_64.manylinux_2_17_x86_64.whl.metadata (2.7 kB)\n",
      "Collecting pandas<3.0.0,>2.0.0 (from recommenders[examples])\n",
      "  Using cached pandas-2.0.3-cp38-cp38-manylinux_2_17_x86_64.manylinux2014_x86_64.whl.metadata (18 kB)\n",
      "Collecting retrying<2,>=1.3.4 (from recommenders[examples])\n",
      "  Using cached retrying-1.3.4-py3-none-any.whl.metadata (6.9 kB)\n",
      "Requirement already satisfied: scikit-learn<2,>=1.2.0 in /home/beatriziarasilva03/miniconda3/envs/rslib/lib/python3.8/site-packages (from recommenders[examples]) (1.2.1)\n",
      "Collecting scikit-surprise>=1.1.3 (from recommenders[examples])\n",
      "  Using cached scikit_surprise-1.1.4.tar.gz (154 kB)\n",
      "  Installing build dependencies ... \u001b[?25ldone\n",
      "\u001b[?25h  Getting requirements to build wheel ... \u001b[?25ldone\n",
      "\u001b[?25h  Preparing metadata (pyproject.toml) ... \u001b[?25ldone\n",
      "\u001b[?25hCollecting scipy>=1.10.1 (from recommenders[examples])\n",
      "  Using cached scipy-1.10.1-cp38-cp38-manylinux_2_17_x86_64.manylinux2014_x86_64.whl.metadata (58 kB)\n",
      "Collecting seaborn<1,>=0.13.0 (from recommenders[examples])\n",
      "  Using cached seaborn-0.13.2-py3-none-any.whl.metadata (5.4 kB)\n",
      "Collecting transformers<5,>=4.27.0 (from recommenders[examples])\n",
      "  Using cached transformers-4.41.2-py3-none-any.whl.metadata (43 kB)\n",
      "Collecting pandera<0.18,>=0.6.5 (from pandera[strategies]<0.18,>=0.6.5; python_version <= \"3.8\"->recommenders[examples])\n",
      "  Using cached pandera-0.17.2-py3-none-any.whl.metadata (15 kB)\n",
      "Requirement already satisfied: numpy>=1.14.0 in /home/beatriziarasilva03/miniconda3/envs/rslib/lib/python3.8/site-packages (from category-encoders<3,>=2.6.0->recommenders[examples]) (1.23.3)\n",
      "Collecting statsmodels>=0.9.0 (from category-encoders<3,>=2.6.0->recommenders[examples])\n",
      "  Using cached statsmodels-0.14.1-cp38-cp38-manylinux_2_17_x86_64.manylinux2014_x86_64.whl.metadata (9.5 kB)\n",
      "Collecting patsy>=0.5.1 (from category-encoders<3,>=2.6.0->recommenders[examples])\n",
      "  Using cached patsy-0.5.6-py2.py3-none-any.whl.metadata (3.5 kB)\n",
      "Requirement already satisfied: importlib-resources in /home/beatriziarasilva03/miniconda3/envs/rslib/lib/python3.8/site-packages (from category-encoders<3,>=2.6.0->recommenders[examples]) (6.1.1)\n",
      "Requirement already satisfied: tqdm in /home/beatriziarasilva03/miniconda3/envs/rslib/lib/python3.8/site-packages (from cornac<2,>=1.15.2->recommenders[examples]) (4.64.1)\n",
      "Requirement already satisfied: powerlaw in /home/beatriziarasilva03/miniconda3/envs/rslib/lib/python3.8/site-packages (from cornac<2,>=1.15.2->recommenders[examples]) (1.5)\n",
      "Requirement already satisfied: six in /home/beatriziarasilva03/miniconda3/envs/rslib/lib/python3.8/site-packages (from hyperopt<1,>=0.2.7->recommenders[examples]) (1.16.0)\n",
      "Collecting networkx>=2.2 (from hyperopt<1,>=0.2.7->recommenders[examples])\n",
      "  Using cached networkx-3.1-py3-none-any.whl.metadata (5.3 kB)\n",
      "Collecting future (from hyperopt<1,>=0.2.7->recommenders[examples])\n",
      "  Using cached future-1.0.0-py3-none-any.whl.metadata (4.0 kB)\n",
      "Collecting cloudpickle (from hyperopt<1,>=0.2.7->recommenders[examples])\n",
      "  Using cached cloudpickle-3.0.0-py3-none-any.whl.metadata (7.0 kB)\n",
      "Collecting py4j (from hyperopt<1,>=0.2.7->recommenders[examples])\n",
      "  Using cached py4j-0.10.9.7-py2.py3-none-any.whl.metadata (1.5 kB)\n",
      "Requirement already satisfied: requests in /home/beatriziarasilva03/miniconda3/envs/rslib/lib/python3.8/site-packages (from lightfm<2,>=1.17->recommenders[examples]) (2.28.1)\n",
      "Collecting gevent>=22.10.2 (from locust<3,>=2.12.2->recommenders[examples])\n",
      "  Using cached gevent-24.2.1-cp38-cp38-manylinux_2_28_x86_64.whl.metadata (13 kB)\n",
      "Collecting flask>=2.0.0 (from locust<3,>=2.12.2->recommenders[examples])\n",
      "  Using cached flask-3.0.3-py3-none-any.whl.metadata (3.2 kB)\n",
      "Collecting Werkzeug>=2.0.0 (from locust<3,>=2.12.2->recommenders[examples])\n",
      "  Using cached werkzeug-3.0.3-py3-none-any.whl.metadata (3.7 kB)\n",
      "Collecting msgpack>=1.0.0 (from locust<3,>=2.12.2->recommenders[examples])\n",
      "  Using cached msgpack-1.0.8-cp38-cp38-manylinux_2_17_x86_64.manylinux2014_x86_64.whl.metadata (9.1 kB)\n",
      "Requirement already satisfied: pyzmq>=25.0.0 in /home/beatriziarasilva03/miniconda3/envs/rslib/lib/python3.8/site-packages (from locust<3,>=2.12.2->recommenders[examples]) (25.1.2)\n",
      "Collecting geventhttpclient>=2.0.11 (from locust<3,>=2.12.2->recommenders[examples])\n",
      "  Using cached geventhttpclient-2.0.12-cp38-cp38-manylinux_2_5_x86_64.manylinux1_x86_64.manylinux_2_17_x86_64.manylinux2014_x86_64.whl.metadata (1.3 kB)\n",
      "Collecting ConfigArgParse>=1.5.5 (from locust<3,>=2.12.2->recommenders[examples])\n",
      "  Using cached ConfigArgParse-1.7-py3-none-any.whl.metadata (23 kB)\n",
      "Collecting psutil>=5.9.1 (from locust<3,>=2.12.2->recommenders[examples])\n",
      "  Using cached psutil-6.0.0-cp36-abi3-manylinux_2_12_x86_64.manylinux2010_x86_64.manylinux_2_17_x86_64.manylinux2014_x86_64.whl.metadata (21 kB)\n",
      "Collecting Flask-Login>=0.6.3 (from locust<3,>=2.12.2->recommenders[examples])\n",
      "  Using cached Flask_Login-0.6.3-py3-none-any.whl.metadata (5.8 kB)\n",
      "Collecting Flask-Cors>=3.0.10 (from locust<3,>=2.12.2->recommenders[examples])\n",
      "  Using cached Flask_Cors-4.0.1-py2.py3-none-any.whl.metadata (5.5 kB)\n",
      "Collecting roundrobin>=0.0.2 (from locust<3,>=2.12.2->recommenders[examples])\n",
      "  Using cached roundrobin-0.0.4-py3-none-any.whl\n",
      "Requirement already satisfied: tomli>=1.1.0 in /home/beatriziarasilva03/miniconda3/envs/rslib/lib/python3.8/site-packages (from locust<3,>=2.12.2->recommenders[examples]) (2.0.1)\n",
      "Requirement already satisfied: click in /home/beatriziarasilva03/miniconda3/envs/rslib/lib/python3.8/site-packages (from nltk<4,>=3.8.1->recommenders[examples]) (8.1.7)\n",
      "Requirement already satisfied: joblib in /home/beatriziarasilva03/miniconda3/envs/rslib/lib/python3.8/site-packages (from nltk<4,>=3.8.1->recommenders[examples]) (1.4.2)\n",
      "Requirement already satisfied: regex>=2021.8.3 in /home/beatriziarasilva03/miniconda3/envs/rslib/lib/python3.8/site-packages (from nltk<4,>=3.8.1->recommenders[examples]) (2024.5.15)\n",
      "Requirement already satisfied: jupyter-server<3,>=2.4.0 in /home/beatriziarasilva03/miniconda3/envs/rslib/lib/python3.8/site-packages (from notebook<8,>=7.0.0->recommenders[examples]) (2.14.1)\n",
      "Requirement already satisfied: jupyterlab-server<3,>=2.22.1 in /home/beatriziarasilva03/miniconda3/envs/rslib/lib/python3.8/site-packages (from notebook<8,>=7.0.0->recommenders[examples]) (2.25.1)\n",
      "Requirement already satisfied: jupyterlab<4.1,>=4.0.2 in /home/beatriziarasilva03/miniconda3/envs/rslib/lib/python3.8/site-packages (from notebook<8,>=7.0.0->recommenders[examples]) (4.0.11)\n",
      "Requirement already satisfied: notebook-shim<0.3,>=0.2 in /home/beatriziarasilva03/miniconda3/envs/rslib/lib/python3.8/site-packages (from notebook<8,>=7.0.0->recommenders[examples]) (0.2.3)\n",
      "Requirement already satisfied: tornado>=6.2.0 in /home/beatriziarasilva03/miniconda3/envs/rslib/lib/python3.8/site-packages (from notebook<8,>=7.0.0->recommenders[examples]) (6.4.1)\n",
      "Collecting llvmlite<0.42,>=0.41.0dev0 (from numba<1,>=0.57.0->recommenders[examples])\n",
      "  Using cached llvmlite-0.41.1-cp38-cp38-manylinux_2_17_x86_64.manylinux2014_x86_64.whl.metadata (4.8 kB)\n",
      "Requirement already satisfied: importlib-metadata in /home/beatriziarasilva03/miniconda3/envs/rslib/lib/python3.8/site-packages (from numba<1,>=0.57.0->recommenders[examples]) (7.0.1)\n",
      "Requirement already satisfied: python-dateutil>=2.8.2 in /home/beatriziarasilva03/miniconda3/envs/rslib/lib/python3.8/site-packages (from pandas<3.0.0,>2.0.0->recommenders[examples]) (2.9.0.post0)\n",
      "Requirement already satisfied: pytz>=2020.1 in /home/beatriziarasilva03/miniconda3/envs/rslib/lib/python3.8/site-packages (from pandas<3.0.0,>2.0.0->recommenders[examples]) (2024.1)\n",
      "Collecting tzdata>=2022.1 (from pandas<3.0.0,>2.0.0->recommenders[examples])\n",
      "  Using cached tzdata-2024.1-py2.py3-none-any.whl.metadata (1.4 kB)\n",
      "Collecting multimethod (from pandera<0.18,>=0.6.5->pandera[strategies]<0.18,>=0.6.5; python_version <= \"3.8\"->recommenders[examples])\n",
      "  Using cached multimethod-1.10-py3-none-any.whl.metadata (8.2 kB)\n",
      "Requirement already satisfied: packaging>=20.0 in /home/beatriziarasilva03/miniconda3/envs/rslib/lib/python3.8/site-packages (from pandera<0.18,>=0.6.5->pandera[strategies]<0.18,>=0.6.5; python_version <= \"3.8\"->recommenders[examples]) (23.2)\n",
      "Collecting pydantic (from pandera<0.18,>=0.6.5->pandera[strategies]<0.18,>=0.6.5; python_version <= \"3.8\"->recommenders[examples])\n",
      "  Using cached pydantic-2.7.4-py3-none-any.whl.metadata (109 kB)\n",
      "Collecting typeguard>=3.0.2 (from pandera<0.18,>=0.6.5->pandera[strategies]<0.18,>=0.6.5; python_version <= \"3.8\"->recommenders[examples])\n",
      "  Using cached typeguard-4.3.0-py3-none-any.whl.metadata (3.7 kB)\n",
      "Collecting typing-inspect>=0.6.0 (from pandera<0.18,>=0.6.5->pandera[strategies]<0.18,>=0.6.5; python_version <= \"3.8\"->recommenders[examples])\n",
      "  Using cached typing_inspect-0.9.0-py3-none-any.whl.metadata (1.5 kB)\n",
      "Requirement already satisfied: wrapt in /home/beatriziarasilva03/miniconda3/envs/rslib/lib/python3.8/site-packages (from pandera<0.18,>=0.6.5->pandera[strategies]<0.18,>=0.6.5; python_version <= \"3.8\"->recommenders[examples]) (1.16.0)\n",
      "Collecting hypothesis>=5.41.1 (from pandera[strategies]<0.18,>=0.6.5; python_version <= \"3.8\"->recommenders[examples])\n",
      "  Using cached hypothesis-6.103.2-py3-none-any.whl.metadata (6.3 kB)\n",
      "Requirement already satisfied: threadpoolctl>=2.0.0 in /home/beatriziarasilva03/miniconda3/envs/rslib/lib/python3.8/site-packages (from scikit-learn<2,>=1.2.0->recommenders[examples]) (3.5.0)\n",
      "Requirement already satisfied: matplotlib!=3.6.1,>=3.4 in /home/beatriziarasilva03/miniconda3/envs/rslib/lib/python3.8/site-packages (from seaborn<1,>=0.13.0->recommenders[examples]) (3.6.2)\n",
      "Collecting filelock (from transformers<5,>=4.27.0->recommenders[examples])\n",
      "  Using cached filelock-3.15.4-py3-none-any.whl.metadata (2.9 kB)\n",
      "Collecting huggingface-hub<1.0,>=0.23.0 (from transformers<5,>=4.27.0->recommenders[examples])\n",
      "  Using cached huggingface_hub-0.23.4-py3-none-any.whl.metadata (12 kB)\n",
      "Requirement already satisfied: pyyaml>=5.1 in /home/beatriziarasilva03/miniconda3/envs/rslib/lib/python3.8/site-packages (from transformers<5,>=4.27.0->recommenders[examples]) (6.0.1)\n",
      "Collecting tokenizers<0.20,>=0.19 (from transformers<5,>=4.27.0->recommenders[examples])\n",
      "  Using cached tokenizers-0.19.1-cp38-cp38-manylinux_2_17_x86_64.manylinux2014_x86_64.whl.metadata (6.7 kB)\n",
      "Collecting safetensors>=0.4.1 (from transformers<5,>=4.27.0->recommenders[examples])\n",
      "  Using cached safetensors-0.4.3-cp38-cp38-manylinux_2_17_x86_64.manylinux2014_x86_64.whl.metadata (3.8 kB)\n",
      "Requirement already satisfied: Jinja2>=3.1.2 in /home/beatriziarasilva03/miniconda3/envs/rslib/lib/python3.8/site-packages (from flask>=2.0.0->locust<3,>=2.12.2->recommenders[examples]) (3.1.4)\n",
      "Collecting itsdangerous>=2.1.2 (from flask>=2.0.0->locust<3,>=2.12.2->recommenders[examples])\n",
      "  Using cached itsdangerous-2.2.0-py3-none-any.whl.metadata (1.9 kB)\n",
      "Collecting blinker>=1.6.2 (from flask>=2.0.0->locust<3,>=2.12.2->recommenders[examples])\n",
      "  Using cached blinker-1.8.2-py3-none-any.whl.metadata (1.6 kB)\n",
      "Collecting zope.event (from gevent>=22.10.2->locust<3,>=2.12.2->recommenders[examples])\n",
      "  Using cached zope.event-5.0-py3-none-any.whl.metadata (4.4 kB)\n",
      "Collecting zope.interface (from gevent>=22.10.2->locust<3,>=2.12.2->recommenders[examples])\n",
      "  Using cached zope.interface-6.4.post2-cp38-cp38-manylinux_2_5_x86_64.manylinux1_x86_64.manylinux_2_17_x86_64.manylinux2014_x86_64.whl.metadata (42 kB)\n",
      "Collecting greenlet>=2.0.0 (from gevent>=22.10.2->locust<3,>=2.12.2->recommenders[examples])\n",
      "  Using cached greenlet-3.0.3-cp38-cp38-manylinux_2_24_x86_64.manylinux_2_28_x86_64.whl.metadata (3.8 kB)\n",
      "Requirement already satisfied: certifi in /home/beatriziarasilva03/miniconda3/envs/rslib/lib/python3.8/site-packages (from geventhttpclient>=2.0.11->locust<3,>=2.12.2->recommenders[examples]) (2024.6.2)\n",
      "Requirement already satisfied: brotli in /home/beatriziarasilva03/miniconda3/envs/rslib/lib/python3.8/site-packages (from geventhttpclient>=2.0.11->locust<3,>=2.12.2->recommenders[examples]) (1.0.9)\n",
      "Collecting fsspec>=2023.5.0 (from huggingface-hub<1.0,>=0.23.0->transformers<5,>=4.27.0->recommenders[examples])\n",
      "  Using cached fsspec-2024.6.0-py3-none-any.whl.metadata (11 kB)\n",
      "Requirement already satisfied: typing-extensions>=3.7.4.3 in /home/beatriziarasilva03/miniconda3/envs/rslib/lib/python3.8/site-packages (from huggingface-hub<1.0,>=0.23.0->transformers<5,>=4.27.0->recommenders[examples]) (4.11.0)\n",
      "Requirement already satisfied: attrs>=22.2.0 in /home/beatriziarasilva03/miniconda3/envs/rslib/lib/python3.8/site-packages (from hypothesis>=5.41.1->pandera[strategies]<0.18,>=0.6.5; python_version <= \"3.8\"->recommenders[examples]) (23.1.0)\n",
      "Collecting sortedcontainers<3.0.0,>=2.1.0 (from hypothesis>=5.41.1->pandera[strategies]<0.18,>=0.6.5; python_version <= \"3.8\"->recommenders[examples])\n",
      "  Using cached sortedcontainers-2.4.0-py2.py3-none-any.whl.metadata (10 kB)\n",
      "Requirement already satisfied: exceptiongroup>=1.0.0 in /home/beatriziarasilva03/miniconda3/envs/rslib/lib/python3.8/site-packages (from hypothesis>=5.41.1->pandera[strategies]<0.18,>=0.6.5; python_version <= \"3.8\"->recommenders[examples]) (1.2.0)\n",
      "Requirement already satisfied: zipp>=0.5 in /home/beatriziarasilva03/miniconda3/envs/rslib/lib/python3.8/site-packages (from importlib-metadata->numba<1,>=0.57.0->recommenders[examples]) (3.17.0)\n",
      "Requirement already satisfied: anyio>=3.1.0 in /home/beatriziarasilva03/miniconda3/envs/rslib/lib/python3.8/site-packages (from jupyter-server<3,>=2.4.0->notebook<8,>=7.0.0->recommenders[examples]) (4.2.0)\n",
      "Requirement already satisfied: argon2-cffi>=21.1 in /home/beatriziarasilva03/miniconda3/envs/rslib/lib/python3.8/site-packages (from jupyter-server<3,>=2.4.0->notebook<8,>=7.0.0->recommenders[examples]) (21.3.0)\n",
      "Requirement already satisfied: jupyter-client>=7.4.4 in /home/beatriziarasilva03/miniconda3/envs/rslib/lib/python3.8/site-packages (from jupyter-server<3,>=2.4.0->notebook<8,>=7.0.0->recommenders[examples]) (8.6.0)\n",
      "Requirement already satisfied: jupyter-core!=5.0.*,>=4.12 in /home/beatriziarasilva03/miniconda3/envs/rslib/lib/python3.8/site-packages (from jupyter-server<3,>=2.4.0->notebook<8,>=7.0.0->recommenders[examples]) (5.7.2)\n",
      "Requirement already satisfied: jupyter-events>=0.9.0 in /home/beatriziarasilva03/miniconda3/envs/rslib/lib/python3.8/site-packages (from jupyter-server<3,>=2.4.0->notebook<8,>=7.0.0->recommenders[examples]) (0.10.0)\n",
      "Requirement already satisfied: jupyter-server-terminals>=0.4.4 in /home/beatriziarasilva03/miniconda3/envs/rslib/lib/python3.8/site-packages (from jupyter-server<3,>=2.4.0->notebook<8,>=7.0.0->recommenders[examples]) (0.4.4)\n",
      "Requirement already satisfied: nbconvert>=6.4.4 in /home/beatriziarasilva03/miniconda3/envs/rslib/lib/python3.8/site-packages (from jupyter-server<3,>=2.4.0->notebook<8,>=7.0.0->recommenders[examples]) (7.10.0)\n",
      "Requirement already satisfied: nbformat>=5.3.0 in /home/beatriziarasilva03/miniconda3/envs/rslib/lib/python3.8/site-packages (from jupyter-server<3,>=2.4.0->notebook<8,>=7.0.0->recommenders[examples]) (5.9.2)\n",
      "Requirement already satisfied: overrides>=5.0 in /home/beatriziarasilva03/miniconda3/envs/rslib/lib/python3.8/site-packages (from jupyter-server<3,>=2.4.0->notebook<8,>=7.0.0->recommenders[examples]) (7.4.0)\n",
      "Requirement already satisfied: prometheus-client>=0.9 in /home/beatriziarasilva03/miniconda3/envs/rslib/lib/python3.8/site-packages (from jupyter-server<3,>=2.4.0->notebook<8,>=7.0.0->recommenders[examples]) (0.14.1)\n",
      "Requirement already satisfied: send2trash>=1.8.2 in /home/beatriziarasilva03/miniconda3/envs/rslib/lib/python3.8/site-packages (from jupyter-server<3,>=2.4.0->notebook<8,>=7.0.0->recommenders[examples]) (1.8.2)\n",
      "Requirement already satisfied: terminado>=0.8.3 in /home/beatriziarasilva03/miniconda3/envs/rslib/lib/python3.8/site-packages (from jupyter-server<3,>=2.4.0->notebook<8,>=7.0.0->recommenders[examples]) (0.17.1)\n",
      "Requirement already satisfied: traitlets>=5.6.0 in /home/beatriziarasilva03/miniconda3/envs/rslib/lib/python3.8/site-packages (from jupyter-server<3,>=2.4.0->notebook<8,>=7.0.0->recommenders[examples]) (5.14.3)\n",
      "Requirement already satisfied: websocket-client>=1.7 in /home/beatriziarasilva03/miniconda3/envs/rslib/lib/python3.8/site-packages (from jupyter-server<3,>=2.4.0->notebook<8,>=7.0.0->recommenders[examples]) (1.8.0)\n",
      "Requirement already satisfied: async-lru>=1.0.0 in /home/beatriziarasilva03/miniconda3/envs/rslib/lib/python3.8/site-packages (from jupyterlab<4.1,>=4.0.2->notebook<8,>=7.0.0->recommenders[examples]) (2.0.4)\n",
      "Requirement already satisfied: ipykernel in /home/beatriziarasilva03/miniconda3/envs/rslib/lib/python3.8/site-packages (from jupyterlab<4.1,>=4.0.2->notebook<8,>=7.0.0->recommenders[examples]) (6.28.0)\n",
      "Requirement already satisfied: jupyter-lsp>=2.0.0 in /home/beatriziarasilva03/miniconda3/envs/rslib/lib/python3.8/site-packages (from jupyterlab<4.1,>=4.0.2->notebook<8,>=7.0.0->recommenders[examples]) (2.2.0)\n",
      "Requirement already satisfied: babel>=2.10 in /home/beatriziarasilva03/miniconda3/envs/rslib/lib/python3.8/site-packages (from jupyterlab-server<3,>=2.22.1->notebook<8,>=7.0.0->recommenders[examples]) (2.11.0)\n",
      "Requirement already satisfied: json5>=0.9.0 in /home/beatriziarasilva03/miniconda3/envs/rslib/lib/python3.8/site-packages (from jupyterlab-server<3,>=2.22.1->notebook<8,>=7.0.0->recommenders[examples]) (0.9.6)\n",
      "Requirement already satisfied: jsonschema>=4.18.0 in /home/beatriziarasilva03/miniconda3/envs/rslib/lib/python3.8/site-packages (from jupyterlab-server<3,>=2.22.1->notebook<8,>=7.0.0->recommenders[examples]) (4.19.2)\n",
      "Collecting requests (from lightfm<2,>=1.17->recommenders[examples])\n",
      "  Using cached requests-2.32.3-py3-none-any.whl.metadata (4.6 kB)\n",
      "Requirement already satisfied: contourpy>=1.0.1 in /home/beatriziarasilva03/miniconda3/envs/rslib/lib/python3.8/site-packages (from matplotlib!=3.6.1,>=3.4->seaborn<1,>=0.13.0->recommenders[examples]) (1.1.1)\n",
      "Requirement already satisfied: cycler>=0.10 in /home/beatriziarasilva03/miniconda3/envs/rslib/lib/python3.8/site-packages (from matplotlib!=3.6.1,>=3.4->seaborn<1,>=0.13.0->recommenders[examples]) (0.12.1)\n",
      "Requirement already satisfied: fonttools>=4.22.0 in /home/beatriziarasilva03/miniconda3/envs/rslib/lib/python3.8/site-packages (from matplotlib!=3.6.1,>=3.4->seaborn<1,>=0.13.0->recommenders[examples]) (4.53.0)\n",
      "Requirement already satisfied: kiwisolver>=1.0.1 in /home/beatriziarasilva03/miniconda3/envs/rslib/lib/python3.8/site-packages (from matplotlib!=3.6.1,>=3.4->seaborn<1,>=0.13.0->recommenders[examples]) (1.4.5)\n",
      "Requirement already satisfied: pillow>=6.2.0 in /home/beatriziarasilva03/miniconda3/envs/rslib/lib/python3.8/site-packages (from matplotlib!=3.6.1,>=3.4->seaborn<1,>=0.13.0->recommenders[examples]) (10.3.0)\n",
      "Requirement already satisfied: pyparsing>=2.2.1 in /home/beatriziarasilva03/miniconda3/envs/rslib/lib/python3.8/site-packages (from matplotlib!=3.6.1,>=3.4->seaborn<1,>=0.13.0->recommenders[examples]) (3.1.2)\n",
      "Requirement already satisfied: charset-normalizer<4,>=2 in /home/beatriziarasilva03/miniconda3/envs/rslib/lib/python3.8/site-packages (from requests->lightfm<2,>=1.17->recommenders[examples]) (2.0.4)\n",
      "Requirement already satisfied: idna<4,>=2.5 in /home/beatriziarasilva03/miniconda3/envs/rslib/lib/python3.8/site-packages (from requests->lightfm<2,>=1.17->recommenders[examples]) (3.7)\n",
      "Requirement already satisfied: urllib3<3,>=1.21.1 in /home/beatriziarasilva03/miniconda3/envs/rslib/lib/python3.8/site-packages (from requests->lightfm<2,>=1.17->recommenders[examples]) (1.26.19)\n",
      "Collecting mypy-extensions>=0.3.0 (from typing-inspect>=0.6.0->pandera<0.18,>=0.6.5->pandera[strategies]<0.18,>=0.6.5; python_version <= \"3.8\"->recommenders[examples])\n",
      "  Using cached mypy_extensions-1.0.0-py3-none-any.whl.metadata (1.1 kB)\n",
      "Requirement already satisfied: MarkupSafe>=2.1.1 in /home/beatriziarasilva03/miniconda3/envs/rslib/lib/python3.8/site-packages (from Werkzeug>=2.0.0->locust<3,>=2.12.2->recommenders[examples]) (2.1.3)\n",
      "Requirement already satisfied: mpmath in /home/beatriziarasilva03/miniconda3/envs/rslib/lib/python3.8/site-packages (from powerlaw->cornac<2,>=1.15.2->recommenders[examples]) (1.3.0)\n",
      "Collecting annotated-types>=0.4.0 (from pydantic->pandera<0.18,>=0.6.5->pandera[strategies]<0.18,>=0.6.5; python_version <= \"3.8\"->recommenders[examples])\n",
      "  Using cached annotated_types-0.7.0-py3-none-any.whl.metadata (15 kB)\n",
      "Collecting pydantic-core==2.18.4 (from pydantic->pandera<0.18,>=0.6.5->pandera[strategies]<0.18,>=0.6.5; python_version <= \"3.8\"->recommenders[examples])\n",
      "  Using cached pydantic_core-2.18.4-cp38-cp38-manylinux_2_17_x86_64.manylinux2014_x86_64.whl.metadata (6.5 kB)\n",
      "Requirement already satisfied: sniffio>=1.1 in /home/beatriziarasilva03/miniconda3/envs/rslib/lib/python3.8/site-packages (from anyio>=3.1.0->jupyter-server<3,>=2.4.0->notebook<8,>=7.0.0->recommenders[examples]) (1.3.0)\n",
      "Requirement already satisfied: argon2-cffi-bindings in /home/beatriziarasilva03/miniconda3/envs/rslib/lib/python3.8/site-packages (from argon2-cffi>=21.1->jupyter-server<3,>=2.4.0->notebook<8,>=7.0.0->recommenders[examples]) (21.2.0)\n",
      "Requirement already satisfied: jsonschema-specifications>=2023.03.6 in /home/beatriziarasilva03/miniconda3/envs/rslib/lib/python3.8/site-packages (from jsonschema>=4.18.0->jupyterlab-server<3,>=2.22.1->notebook<8,>=7.0.0->recommenders[examples]) (2023.7.1)\n",
      "Requirement already satisfied: pkgutil-resolve-name>=1.3.10 in /home/beatriziarasilva03/miniconda3/envs/rslib/lib/python3.8/site-packages (from jsonschema>=4.18.0->jupyterlab-server<3,>=2.22.1->notebook<8,>=7.0.0->recommenders[examples]) (1.3.10)\n",
      "Requirement already satisfied: referencing>=0.28.4 in /home/beatriziarasilva03/miniconda3/envs/rslib/lib/python3.8/site-packages (from jsonschema>=4.18.0->jupyterlab-server<3,>=2.22.1->notebook<8,>=7.0.0->recommenders[examples]) (0.30.2)\n",
      "Requirement already satisfied: rpds-py>=0.7.1 in /home/beatriziarasilva03/miniconda3/envs/rslib/lib/python3.8/site-packages (from jsonschema>=4.18.0->jupyterlab-server<3,>=2.22.1->notebook<8,>=7.0.0->recommenders[examples]) (0.10.6)\n",
      "Requirement already satisfied: platformdirs>=2.5 in /home/beatriziarasilva03/miniconda3/envs/rslib/lib/python3.8/site-packages (from jupyter-core!=5.0.*,>=4.12->jupyter-server<3,>=2.4.0->notebook<8,>=7.0.0->recommenders[examples]) (3.10.0)\n",
      "Requirement already satisfied: python-json-logger>=2.0.4 in /home/beatriziarasilva03/miniconda3/envs/rslib/lib/python3.8/site-packages (from jupyter-events>=0.9.0->jupyter-server<3,>=2.4.0->notebook<8,>=7.0.0->recommenders[examples]) (2.0.7)\n",
      "Requirement already satisfied: rfc3339-validator in /home/beatriziarasilva03/miniconda3/envs/rslib/lib/python3.8/site-packages (from jupyter-events>=0.9.0->jupyter-server<3,>=2.4.0->notebook<8,>=7.0.0->recommenders[examples]) (0.1.4)\n",
      "Requirement already satisfied: rfc3986-validator>=0.1.1 in /home/beatriziarasilva03/miniconda3/envs/rslib/lib/python3.8/site-packages (from jupyter-events>=0.9.0->jupyter-server<3,>=2.4.0->notebook<8,>=7.0.0->recommenders[examples]) (0.1.1)\n",
      "Requirement already satisfied: beautifulsoup4 in /home/beatriziarasilva03/miniconda3/envs/rslib/lib/python3.8/site-packages (from nbconvert>=6.4.4->jupyter-server<3,>=2.4.0->notebook<8,>=7.0.0->recommenders[examples]) (4.12.3)\n",
      "Requirement already satisfied: bleach!=5.0.0 in /home/beatriziarasilva03/miniconda3/envs/rslib/lib/python3.8/site-packages (from nbconvert>=6.4.4->jupyter-server<3,>=2.4.0->notebook<8,>=7.0.0->recommenders[examples]) (4.1.0)\n",
      "Requirement already satisfied: defusedxml in /home/beatriziarasilva03/miniconda3/envs/rslib/lib/python3.8/site-packages (from nbconvert>=6.4.4->jupyter-server<3,>=2.4.0->notebook<8,>=7.0.0->recommenders[examples]) (0.7.1)\n",
      "Requirement already satisfied: jupyterlab-pygments in /home/beatriziarasilva03/miniconda3/envs/rslib/lib/python3.8/site-packages (from nbconvert>=6.4.4->jupyter-server<3,>=2.4.0->notebook<8,>=7.0.0->recommenders[examples]) (0.1.2)\n",
      "Requirement already satisfied: mistune<4,>=2.0.3 in /home/beatriziarasilva03/miniconda3/envs/rslib/lib/python3.8/site-packages (from nbconvert>=6.4.4->jupyter-server<3,>=2.4.0->notebook<8,>=7.0.0->recommenders[examples]) (2.0.4)\n",
      "Requirement already satisfied: nbclient>=0.5.0 in /home/beatriziarasilva03/miniconda3/envs/rslib/lib/python3.8/site-packages (from nbconvert>=6.4.4->jupyter-server<3,>=2.4.0->notebook<8,>=7.0.0->recommenders[examples]) (0.8.0)\n",
      "Requirement already satisfied: pandocfilters>=1.4.1 in /home/beatriziarasilva03/miniconda3/envs/rslib/lib/python3.8/site-packages (from nbconvert>=6.4.4->jupyter-server<3,>=2.4.0->notebook<8,>=7.0.0->recommenders[examples]) (1.5.0)\n",
      "Requirement already satisfied: pygments>=2.4.1 in /home/beatriziarasilva03/miniconda3/envs/rslib/lib/python3.8/site-packages (from nbconvert>=6.4.4->jupyter-server<3,>=2.4.0->notebook<8,>=7.0.0->recommenders[examples]) (2.15.1)\n",
      "Requirement already satisfied: tinycss2 in /home/beatriziarasilva03/miniconda3/envs/rslib/lib/python3.8/site-packages (from nbconvert>=6.4.4->jupyter-server<3,>=2.4.0->notebook<8,>=7.0.0->recommenders[examples]) (1.2.1)\n",
      "Requirement already satisfied: fastjsonschema in /home/beatriziarasilva03/miniconda3/envs/rslib/lib/python3.8/site-packages (from nbformat>=5.3.0->jupyter-server<3,>=2.4.0->notebook<8,>=7.0.0->recommenders[examples]) (2.16.2)\n",
      "Requirement already satisfied: ptyprocess in /home/beatriziarasilva03/miniconda3/envs/rslib/lib/python3.8/site-packages (from terminado>=0.8.3->jupyter-server<3,>=2.4.0->notebook<8,>=7.0.0->recommenders[examples]) (0.7.0)\n",
      "Requirement already satisfied: comm>=0.1.1 in /home/beatriziarasilva03/miniconda3/envs/rslib/lib/python3.8/site-packages (from ipykernel->jupyterlab<4.1,>=4.0.2->notebook<8,>=7.0.0->recommenders[examples]) (0.2.1)\n",
      "Requirement already satisfied: debugpy>=1.6.5 in /home/beatriziarasilva03/miniconda3/envs/rslib/lib/python3.8/site-packages (from ipykernel->jupyterlab<4.1,>=4.0.2->notebook<8,>=7.0.0->recommenders[examples]) (1.6.7)\n",
      "Requirement already satisfied: ipython>=7.23.1 in /home/beatriziarasilva03/miniconda3/envs/rslib/lib/python3.8/site-packages (from ipykernel->jupyterlab<4.1,>=4.0.2->notebook<8,>=7.0.0->recommenders[examples]) (8.12.2)\n",
      "Requirement already satisfied: matplotlib-inline>=0.1 in /home/beatriziarasilva03/miniconda3/envs/rslib/lib/python3.8/site-packages (from ipykernel->jupyterlab<4.1,>=4.0.2->notebook<8,>=7.0.0->recommenders[examples]) (0.1.6)\n",
      "Requirement already satisfied: nest-asyncio in /home/beatriziarasilva03/miniconda3/envs/rslib/lib/python3.8/site-packages (from ipykernel->jupyterlab<4.1,>=4.0.2->notebook<8,>=7.0.0->recommenders[examples]) (1.6.0)\n",
      "Requirement already satisfied: setuptools in /home/beatriziarasilva03/miniconda3/envs/rslib/lib/python3.8/site-packages (from zope.event->gevent>=22.10.2->locust<3,>=2.12.2->recommenders[examples]) (69.5.1)\n",
      "Requirement already satisfied: webencodings in /home/beatriziarasilva03/miniconda3/envs/rslib/lib/python3.8/site-packages (from bleach!=5.0.0->nbconvert>=6.4.4->jupyter-server<3,>=2.4.0->notebook<8,>=7.0.0->recommenders[examples]) (0.5.1)\n",
      "Requirement already satisfied: backcall in /home/beatriziarasilva03/miniconda3/envs/rslib/lib/python3.8/site-packages (from ipython>=7.23.1->ipykernel->jupyterlab<4.1,>=4.0.2->notebook<8,>=7.0.0->recommenders[examples]) (0.2.0)\n",
      "Requirement already satisfied: decorator in /home/beatriziarasilva03/miniconda3/envs/rslib/lib/python3.8/site-packages (from ipython>=7.23.1->ipykernel->jupyterlab<4.1,>=4.0.2->notebook<8,>=7.0.0->recommenders[examples]) (5.1.1)\n",
      "Requirement already satisfied: jedi>=0.16 in /home/beatriziarasilva03/miniconda3/envs/rslib/lib/python3.8/site-packages (from ipython>=7.23.1->ipykernel->jupyterlab<4.1,>=4.0.2->notebook<8,>=7.0.0->recommenders[examples]) (0.18.1)\n",
      "Requirement already satisfied: pickleshare in /home/beatriziarasilva03/miniconda3/envs/rslib/lib/python3.8/site-packages (from ipython>=7.23.1->ipykernel->jupyterlab<4.1,>=4.0.2->notebook<8,>=7.0.0->recommenders[examples]) (0.7.5)\n",
      "Requirement already satisfied: prompt-toolkit!=3.0.37,<3.1.0,>=3.0.30 in /home/beatriziarasilva03/miniconda3/envs/rslib/lib/python3.8/site-packages (from ipython>=7.23.1->ipykernel->jupyterlab<4.1,>=4.0.2->notebook<8,>=7.0.0->recommenders[examples]) (3.0.43)\n",
      "Requirement already satisfied: stack-data in /home/beatriziarasilva03/miniconda3/envs/rslib/lib/python3.8/site-packages (from ipython>=7.23.1->ipykernel->jupyterlab<4.1,>=4.0.2->notebook<8,>=7.0.0->recommenders[examples]) (0.2.0)\n",
      "Requirement already satisfied: pexpect>4.3 in /home/beatriziarasilva03/miniconda3/envs/rslib/lib/python3.8/site-packages (from ipython>=7.23.1->ipykernel->jupyterlab<4.1,>=4.0.2->notebook<8,>=7.0.0->recommenders[examples]) (4.8.0)\n",
      "Collecting fqdn (from jsonschema[format-nongpl]>=4.18.0->jupyter-events>=0.9.0->jupyter-server<3,>=2.4.0->notebook<8,>=7.0.0->recommenders[examples])\n",
      "  Using cached fqdn-1.5.1-py3-none-any.whl.metadata (1.4 kB)\n",
      "Collecting isoduration (from jsonschema[format-nongpl]>=4.18.0->jupyter-events>=0.9.0->jupyter-server<3,>=2.4.0->notebook<8,>=7.0.0->recommenders[examples])\n",
      "  Using cached isoduration-20.11.0-py3-none-any.whl.metadata (5.7 kB)\n",
      "Collecting jsonpointer>1.13 (from jsonschema[format-nongpl]>=4.18.0->jupyter-events>=0.9.0->jupyter-server<3,>=2.4.0->notebook<8,>=7.0.0->recommenders[examples])\n",
      "  Using cached jsonpointer-3.0.0-py2.py3-none-any.whl.metadata (2.3 kB)\n",
      "Collecting uri-template (from jsonschema[format-nongpl]>=4.18.0->jupyter-events>=0.9.0->jupyter-server<3,>=2.4.0->notebook<8,>=7.0.0->recommenders[examples])\n",
      "  Using cached uri_template-1.3.0-py3-none-any.whl.metadata (8.8 kB)\n",
      "Collecting webcolors>=1.11 (from jsonschema[format-nongpl]>=4.18.0->jupyter-events>=0.9.0->jupyter-server<3,>=2.4.0->notebook<8,>=7.0.0->recommenders[examples])\n",
      "  Using cached webcolors-24.6.0-py3-none-any.whl.metadata (2.6 kB)\n",
      "Requirement already satisfied: cffi>=1.0.1 in /home/beatriziarasilva03/miniconda3/envs/rslib/lib/python3.8/site-packages (from argon2-cffi-bindings->argon2-cffi>=21.1->jupyter-server<3,>=2.4.0->notebook<8,>=7.0.0->recommenders[examples]) (1.16.0)\n",
      "Requirement already satisfied: soupsieve>1.2 in /home/beatriziarasilva03/miniconda3/envs/rslib/lib/python3.8/site-packages (from beautifulsoup4->nbconvert>=6.4.4->jupyter-server<3,>=2.4.0->notebook<8,>=7.0.0->recommenders[examples]) (2.5)\n",
      "Requirement already satisfied: pycparser in /home/beatriziarasilva03/miniconda3/envs/rslib/lib/python3.8/site-packages (from cffi>=1.0.1->argon2-cffi-bindings->argon2-cffi>=21.1->jupyter-server<3,>=2.4.0->notebook<8,>=7.0.0->recommenders[examples]) (2.21)\n",
      "Requirement already satisfied: parso<0.9.0,>=0.8.0 in /home/beatriziarasilva03/miniconda3/envs/rslib/lib/python3.8/site-packages (from jedi>=0.16->ipython>=7.23.1->ipykernel->jupyterlab<4.1,>=4.0.2->notebook<8,>=7.0.0->recommenders[examples]) (0.8.3)\n",
      "Requirement already satisfied: wcwidth in /home/beatriziarasilva03/miniconda3/envs/rslib/lib/python3.8/site-packages (from prompt-toolkit!=3.0.37,<3.1.0,>=3.0.30->ipython>=7.23.1->ipykernel->jupyterlab<4.1,>=4.0.2->notebook<8,>=7.0.0->recommenders[examples]) (0.2.5)\n",
      "Collecting arrow>=0.15.0 (from isoduration->jsonschema[format-nongpl]>=4.18.0->jupyter-events>=0.9.0->jupyter-server<3,>=2.4.0->notebook<8,>=7.0.0->recommenders[examples])\n",
      "  Using cached arrow-1.3.0-py3-none-any.whl.metadata (7.5 kB)\n",
      "Requirement already satisfied: executing in /home/beatriziarasilva03/miniconda3/envs/rslib/lib/python3.8/site-packages (from stack-data->ipython>=7.23.1->ipykernel->jupyterlab<4.1,>=4.0.2->notebook<8,>=7.0.0->recommenders[examples]) (0.8.3)\n",
      "Requirement already satisfied: asttokens in /home/beatriziarasilva03/miniconda3/envs/rslib/lib/python3.8/site-packages (from stack-data->ipython>=7.23.1->ipykernel->jupyterlab<4.1,>=4.0.2->notebook<8,>=7.0.0->recommenders[examples]) (2.0.5)\n",
      "Requirement already satisfied: pure-eval in /home/beatriziarasilva03/miniconda3/envs/rslib/lib/python3.8/site-packages (from stack-data->ipython>=7.23.1->ipykernel->jupyterlab<4.1,>=4.0.2->notebook<8,>=7.0.0->recommenders[examples]) (0.2.2)\n",
      "Collecting types-python-dateutil>=2.8.10 (from arrow>=0.15.0->isoduration->jsonschema[format-nongpl]>=4.18.0->jupyter-events>=0.9.0->jupyter-server<3,>=2.4.0->notebook<8,>=7.0.0->recommenders[examples])\n",
      "  Using cached types_python_dateutil-2.9.0.20240316-py3-none-any.whl.metadata (1.8 kB)\n",
      "Using cached category_encoders-2.6.3-py2.py3-none-any.whl (81 kB)\n",
      "Using cached cornac-1.18.0-cp38-cp38-manylinux1_x86_64.whl (23.1 MB)\n",
      "Using cached hyperopt-0.2.7-py2.py3-none-any.whl (1.6 MB)\n",
      "Using cached lightgbm-4.4.0-py3-none-manylinux_2_28_x86_64.whl (3.6 MB)\n",
      "Using cached locust-2.25.0-py3-none-any.whl (1.4 MB)\n",
      "Using cached memory_profiler-0.61.0-py3-none-any.whl (31 kB)\n",
      "Using cached nltk-3.8.1-py3-none-any.whl (1.5 MB)\n",
      "Using cached numba-0.58.1-cp38-cp38-manylinux2014_x86_64.manylinux_2_17_x86_64.whl (3.7 MB)\n",
      "Using cached pandas-2.0.3-cp38-cp38-manylinux_2_17_x86_64.manylinux2014_x86_64.whl (12.4 MB)\n",
      "Using cached pandera-0.17.2-py3-none-any.whl (203 kB)\n",
      "Using cached retrying-1.3.4-py3-none-any.whl (11 kB)\n",
      "Using cached scipy-1.10.1-cp38-cp38-manylinux_2_17_x86_64.manylinux2014_x86_64.whl (34.5 MB)\n",
      "Using cached seaborn-0.13.2-py3-none-any.whl (294 kB)\n",
      "Using cached transformers-4.41.2-py3-none-any.whl (9.1 MB)\n",
      "Using cached recommenders-1.2.0-py3-none-any.whl (356 kB)\n",
      "Using cached ConfigArgParse-1.7-py3-none-any.whl (25 kB)\n",
      "Using cached flask-3.0.3-py3-none-any.whl (101 kB)\n",
      "Using cached Flask_Cors-4.0.1-py2.py3-none-any.whl (14 kB)\n",
      "Using cached Flask_Login-0.6.3-py3-none-any.whl (17 kB)\n",
      "Using cached gevent-24.2.1-cp38-cp38-manylinux_2_28_x86_64.whl (6.7 MB)\n",
      "Using cached geventhttpclient-2.0.12-cp38-cp38-manylinux_2_5_x86_64.manylinux1_x86_64.manylinux_2_17_x86_64.manylinux2014_x86_64.whl (104 kB)\n",
      "Using cached huggingface_hub-0.23.4-py3-none-any.whl (402 kB)\n",
      "Using cached hypothesis-6.103.2-py3-none-any.whl (461 kB)\n",
      "Using cached llvmlite-0.41.1-cp38-cp38-manylinux_2_17_x86_64.manylinux2014_x86_64.whl (43.6 MB)\n",
      "Using cached msgpack-1.0.8-cp38-cp38-manylinux_2_17_x86_64.manylinux2014_x86_64.whl (390 kB)\n",
      "Using cached networkx-3.1-py3-none-any.whl (2.1 MB)\n",
      "Using cached patsy-0.5.6-py2.py3-none-any.whl (233 kB)\n",
      "Using cached psutil-6.0.0-cp36-abi3-manylinux_2_12_x86_64.manylinux2010_x86_64.manylinux_2_17_x86_64.manylinux2014_x86_64.whl (290 kB)\n",
      "Using cached requests-2.32.3-py3-none-any.whl (64 kB)\n",
      "Using cached safetensors-0.4.3-cp38-cp38-manylinux_2_17_x86_64.manylinux2014_x86_64.whl (1.2 MB)\n",
      "Using cached statsmodels-0.14.1-cp38-cp38-manylinux_2_17_x86_64.manylinux2014_x86_64.whl (10.9 MB)\n",
      "Using cached tokenizers-0.19.1-cp38-cp38-manylinux_2_17_x86_64.manylinux2014_x86_64.whl (3.6 MB)\n",
      "Using cached typeguard-4.3.0-py3-none-any.whl (35 kB)\n",
      "Using cached typing_inspect-0.9.0-py3-none-any.whl (8.8 kB)\n",
      "Using cached tzdata-2024.1-py2.py3-none-any.whl (345 kB)\n",
      "Using cached werkzeug-3.0.3-py3-none-any.whl (227 kB)\n",
      "Using cached cloudpickle-3.0.0-py3-none-any.whl (20 kB)\n",
      "Using cached filelock-3.15.4-py3-none-any.whl (16 kB)\n",
      "Using cached future-1.0.0-py3-none-any.whl (491 kB)\n",
      "Using cached multimethod-1.10-py3-none-any.whl (9.9 kB)\n",
      "Using cached py4j-0.10.9.7-py2.py3-none-any.whl (200 kB)\n",
      "Using cached pydantic-2.7.4-py3-none-any.whl (409 kB)\n",
      "Using cached pydantic_core-2.18.4-cp38-cp38-manylinux_2_17_x86_64.manylinux2014_x86_64.whl (2.0 MB)\n",
      "Using cached annotated_types-0.7.0-py3-none-any.whl (13 kB)\n",
      "Using cached blinker-1.8.2-py3-none-any.whl (9.5 kB)\n",
      "Using cached fsspec-2024.6.0-py3-none-any.whl (176 kB)\n",
      "Using cached greenlet-3.0.3-cp38-cp38-manylinux_2_24_x86_64.manylinux_2_28_x86_64.whl (622 kB)\n",
      "Using cached itsdangerous-2.2.0-py3-none-any.whl (16 kB)\n",
      "Using cached mypy_extensions-1.0.0-py3-none-any.whl (4.7 kB)\n",
      "Using cached sortedcontainers-2.4.0-py2.py3-none-any.whl (29 kB)\n",
      "Using cached zope.event-5.0-py3-none-any.whl (6.8 kB)\n",
      "Using cached zope.interface-6.4.post2-cp38-cp38-manylinux_2_5_x86_64.manylinux1_x86_64.manylinux_2_17_x86_64.manylinux2014_x86_64.whl (250 kB)\n",
      "Using cached jsonpointer-3.0.0-py2.py3-none-any.whl (7.6 kB)\n",
      "Using cached webcolors-24.6.0-py3-none-any.whl (14 kB)\n",
      "Using cached fqdn-1.5.1-py3-none-any.whl (9.1 kB)\n",
      "Using cached isoduration-20.11.0-py3-none-any.whl (11 kB)\n",
      "Using cached uri_template-1.3.0-py3-none-any.whl (11 kB)\n",
      "Using cached arrow-1.3.0-py3-none-any.whl (66 kB)\n",
      "Using cached types_python_dateutil-2.9.0.20240316-py3-none-any.whl (9.7 kB)\n",
      "Building wheels for collected packages: lightfm, scikit-surprise\n",
      "  Building wheel for lightfm (setup.py) ... \u001b[?25ldone\n",
      "\u001b[?25h  Created wheel for lightfm: filename=lightfm-1.17-cp38-cp38-linux_x86_64.whl size=915144 sha256=4f75addc5a1cce3d05fff8dc0388398247f021233aaaea7c6f1311c3fc040a04\n",
      "  Stored in directory: /home/beatriziarasilva03/.cache/pip/wheels/72/da/9d/3c44c37f7f99adc331ded85b386e51ae01c53bcf33c2122317\n",
      "  Building wheel for scikit-surprise (pyproject.toml) ... \u001b[?25ldone\n",
      "\u001b[?25h  Created wheel for scikit-surprise: filename=scikit_surprise-1.1.4-cp38-cp38-linux_x86_64.whl size=2909742 sha256=6c131bdda21c9bdc9272ab1e9e6629c1c2c9e241367f2061a202f27af00aa1d6\n",
      "  Stored in directory: /home/beatriziarasilva03/.cache/pip/wheels/99/34/23/b19f7de7352af5d1913f2654641432d6740c2666eecf2472ea\n",
      "Successfully built lightfm scikit-surprise\n",
      "Installing collected packages: sortedcontainers, roundrobin, py4j, zope.interface, zope.event, Werkzeug, webcolors, uri-template, tzdata, types-python-dateutil, scipy, safetensors, retrying, requests, pydantic-core, psutil, patsy, nltk, networkx, mypy-extensions, multimethod, msgpack, llvmlite, jsonpointer, itsdangerous, hypothesis, greenlet, future, fsspec, fqdn, filelock, ConfigArgParse, cloudpickle, blinker, annotated-types, typing-inspect, typeguard, scikit-surprise, pydantic, pandas, numba, memory-profiler, lightgbm, hyperopt, huggingface-hub, gevent, flask, arrow, tokenizers, statsmodels, seaborn, pandera, lightfm, isoduration, geventhttpclient, Flask-Login, Flask-Cors, transformers, locust, cornac, category-encoders, recommenders\n",
      "  Attempting uninstall: scipy\n",
      "    Found existing installation: scipy 1.10.0\n",
      "    Uninstalling scipy-1.10.0:\n",
      "      Successfully uninstalled scipy-1.10.0\n",
      "  Attempting uninstall: requests\n",
      "    Found existing installation: requests 2.28.1\n",
      "    Uninstalling requests-2.28.1:\n",
      "      Successfully uninstalled requests-2.28.1\n",
      "  Attempting uninstall: psutil\n",
      "    Found existing installation: psutil 5.9.0\n",
      "    Uninstalling psutil-5.9.0:\n",
      "      Successfully uninstalled psutil-5.9.0\n",
      "  Attempting uninstall: nltk\n",
      "    Found existing installation: nltk 3.8\n",
      "    Uninstalling nltk-3.8:\n",
      "      Successfully uninstalled nltk-3.8\n",
      "  Attempting uninstall: fsspec\n",
      "    Found existing installation: fsspec 2023.1.0\n",
      "    Uninstalling fsspec-2023.1.0:\n",
      "      Successfully uninstalled fsspec-2023.1.0\n",
      "  Attempting uninstall: pandas\n",
      "    Found existing installation: pandas 1.5.0\n",
      "    Uninstalling pandas-1.5.0:\n",
      "      Successfully uninstalled pandas-1.5.0\n",
      "  Attempting uninstall: seaborn\n",
      "    Found existing installation: seaborn 0.12.2\n",
      "    Uninstalling seaborn-0.12.2:\n",
      "      Successfully uninstalled seaborn-0.12.2\n",
      "  Attempting uninstall: cornac\n",
      "    Found existing installation: cornac 2.2.1\n",
      "    Uninstalling cornac-2.2.1:\n",
      "      Successfully uninstalled cornac-2.2.1\n",
      "\u001b[31mERROR: pip's dependency resolver does not currently take into account all the packages that are installed. This behaviour is the source of the following dependency conflicts.\n",
      "s3fs 2023.1.0 requires fsspec==2023.1.0, but you have fsspec 2024.6.0 which is incompatible.\u001b[0m\u001b[31m\n",
      "\u001b[0mSuccessfully installed ConfigArgParse-1.7 Flask-Cors-4.0.1 Flask-Login-0.6.3 Werkzeug-3.0.3 annotated-types-0.7.0 arrow-1.3.0 blinker-1.8.2 category-encoders-2.6.3 cloudpickle-3.0.0 cornac-1.18.0 filelock-3.15.4 flask-3.0.3 fqdn-1.5.1 fsspec-2024.6.0 future-1.0.0 gevent-24.2.1 geventhttpclient-2.0.12 greenlet-3.0.3 huggingface-hub-0.23.4 hyperopt-0.2.7 hypothesis-6.103.2 isoduration-20.11.0 itsdangerous-2.2.0 jsonpointer-3.0.0 lightfm-1.17 lightgbm-4.4.0 llvmlite-0.41.1 locust-2.25.0 memory-profiler-0.61.0 msgpack-1.0.8 multimethod-1.10 mypy-extensions-1.0.0 networkx-3.1 nltk-3.8.1 numba-0.58.1 pandas-2.0.3 pandera-0.17.2 patsy-0.5.6 psutil-6.0.0 py4j-0.10.9.7 pydantic-2.7.4 pydantic-core-2.18.4 recommenders-1.2.0 requests-2.32.3 retrying-1.3.4 roundrobin-0.0.4 safetensors-0.4.3 scikit-surprise-1.1.4 scipy-1.10.1 seaborn-0.13.2 sortedcontainers-2.4.0 statsmodels-0.14.1 tokenizers-0.19.1 transformers-4.41.2 typeguard-4.3.0 types-python-dateutil-2.9.0.20240316 typing-inspect-0.9.0 tzdata-2024.1 uri-template-1.3.0 webcolors-24.6.0 zope.event-5.0 zope.interface-6.4.post2\n",
      "Note: you may need to restart the kernel to use updated packages.\n"
     ]
    }
   ],
   "source": [
    "pip install recommenders[examples]"
   ]
  },
  {
   "cell_type": "code",
   "execution_count": 22,
   "id": "f6118aa7-04bd-4b14-896b-374a7b806ba9",
   "metadata": {},
   "outputs": [
    {
     "name": "stdout",
     "output_type": "stream",
     "text": [
      "Collecting cornac\n",
      "  Downloading cornac-2.2.1-cp38-cp38-manylinux1_x86_64.whl.metadata (30 kB)\n",
      "Requirement already satisfied: numpy in /home/beatriziarasilva03/miniconda3/envs/rslib/lib/python3.8/site-packages (from cornac) (1.23.3)\n",
      "Requirement already satisfied: scipy in /home/beatriziarasilva03/miniconda3/envs/rslib/lib/python3.8/site-packages (from cornac) (1.10.0)\n",
      "Requirement already satisfied: tqdm in /home/beatriziarasilva03/miniconda3/envs/rslib/lib/python3.8/site-packages (from cornac) (4.64.1)\n",
      "Collecting powerlaw (from cornac)\n",
      "  Using cached powerlaw-1.5-py3-none-any.whl.metadata (9.3 kB)\n",
      "Requirement already satisfied: matplotlib in /home/beatriziarasilva03/miniconda3/envs/rslib/lib/python3.8/site-packages (from powerlaw->cornac) (3.6.2)\n",
      "Collecting mpmath (from powerlaw->cornac)\n",
      "  Using cached mpmath-1.3.0-py3-none-any.whl.metadata (8.6 kB)\n",
      "Requirement already satisfied: contourpy>=1.0.1 in /home/beatriziarasilva03/miniconda3/envs/rslib/lib/python3.8/site-packages (from matplotlib->powerlaw->cornac) (1.1.1)\n",
      "Requirement already satisfied: cycler>=0.10 in /home/beatriziarasilva03/miniconda3/envs/rslib/lib/python3.8/site-packages (from matplotlib->powerlaw->cornac) (0.12.1)\n",
      "Requirement already satisfied: fonttools>=4.22.0 in /home/beatriziarasilva03/miniconda3/envs/rslib/lib/python3.8/site-packages (from matplotlib->powerlaw->cornac) (4.53.0)\n",
      "Requirement already satisfied: kiwisolver>=1.0.1 in /home/beatriziarasilva03/miniconda3/envs/rslib/lib/python3.8/site-packages (from matplotlib->powerlaw->cornac) (1.4.5)\n",
      "Requirement already satisfied: packaging>=20.0 in /home/beatriziarasilva03/miniconda3/envs/rslib/lib/python3.8/site-packages (from matplotlib->powerlaw->cornac) (23.2)\n",
      "Requirement already satisfied: pillow>=6.2.0 in /home/beatriziarasilva03/miniconda3/envs/rslib/lib/python3.8/site-packages (from matplotlib->powerlaw->cornac) (10.3.0)\n",
      "Requirement already satisfied: pyparsing>=2.2.1 in /home/beatriziarasilva03/miniconda3/envs/rslib/lib/python3.8/site-packages (from matplotlib->powerlaw->cornac) (3.1.2)\n",
      "Requirement already satisfied: python-dateutil>=2.7 in /home/beatriziarasilva03/miniconda3/envs/rslib/lib/python3.8/site-packages (from matplotlib->powerlaw->cornac) (2.9.0.post0)\n",
      "Requirement already satisfied: six>=1.5 in /home/beatriziarasilva03/miniconda3/envs/rslib/lib/python3.8/site-packages (from python-dateutil>=2.7->matplotlib->powerlaw->cornac) (1.16.0)\n",
      "Downloading cornac-2.2.1-cp38-cp38-manylinux1_x86_64.whl (21.9 MB)\n",
      "\u001b[2K   \u001b[90m━━━━━━━━━━━━━━━━━━━━━━━━━━━━━━━━━━━━━━━━\u001b[0m \u001b[32m21.9/21.9 MB\u001b[0m \u001b[31m36.6 MB/s\u001b[0m eta \u001b[36m0:00:00\u001b[0m00:01\u001b[0m00:01\u001b[0m\n",
      "\u001b[?25hUsing cached powerlaw-1.5-py3-none-any.whl (24 kB)\n",
      "Using cached mpmath-1.3.0-py3-none-any.whl (536 kB)\n",
      "Installing collected packages: mpmath, powerlaw, cornac\n",
      "Successfully installed cornac-2.2.1 mpmath-1.3.0 powerlaw-1.5\n",
      "Note: you may need to restart the kernel to use updated packages.\n"
     ]
    }
   ],
   "source": [
    "pip install cornac"
   ]
  },
  {
   "cell_type": "code",
   "execution_count": 23,
   "id": "da068a30-bacf-4769-bc5f-9853c86a5a28",
   "metadata": {},
   "outputs": [
    {
     "name": "stdout",
     "output_type": "stream",
     "text": [
      "Collecting scrapbook\n",
      "  Downloading scrapbook-0.5.0-py3-none-any.whl.metadata (18 kB)\n",
      "Requirement already satisfied: pandas in /home/beatriziarasilva03/miniconda3/envs/rslib/lib/python3.8/site-packages (from scrapbook) (1.5.0)\n",
      "Collecting papermill (from scrapbook)\n",
      "  Downloading papermill-2.6.0-py3-none-any.whl.metadata (13 kB)\n",
      "Requirement already satisfied: jsonschema in /home/beatriziarasilva03/miniconda3/envs/rslib/lib/python3.8/site-packages (from scrapbook) (4.19.2)\n",
      "Requirement already satisfied: ipython in /home/beatriziarasilva03/miniconda3/envs/rslib/lib/python3.8/site-packages (from scrapbook) (8.12.2)\n",
      "Collecting pyarrow (from scrapbook)\n",
      "  Downloading pyarrow-16.1.0-cp38-cp38-manylinux_2_28_x86_64.whl.metadata (3.0 kB)\n",
      "Requirement already satisfied: backcall in /home/beatriziarasilva03/miniconda3/envs/rslib/lib/python3.8/site-packages (from ipython->scrapbook) (0.2.0)\n",
      "Requirement already satisfied: decorator in /home/beatriziarasilva03/miniconda3/envs/rslib/lib/python3.8/site-packages (from ipython->scrapbook) (5.1.1)\n",
      "Requirement already satisfied: jedi>=0.16 in /home/beatriziarasilva03/miniconda3/envs/rslib/lib/python3.8/site-packages (from ipython->scrapbook) (0.18.1)\n",
      "Requirement already satisfied: matplotlib-inline in /home/beatriziarasilva03/miniconda3/envs/rslib/lib/python3.8/site-packages (from ipython->scrapbook) (0.1.6)\n",
      "Requirement already satisfied: pickleshare in /home/beatriziarasilva03/miniconda3/envs/rslib/lib/python3.8/site-packages (from ipython->scrapbook) (0.7.5)\n",
      "Requirement already satisfied: prompt-toolkit!=3.0.37,<3.1.0,>=3.0.30 in /home/beatriziarasilva03/miniconda3/envs/rslib/lib/python3.8/site-packages (from ipython->scrapbook) (3.0.43)\n",
      "Requirement already satisfied: pygments>=2.4.0 in /home/beatriziarasilva03/miniconda3/envs/rslib/lib/python3.8/site-packages (from ipython->scrapbook) (2.15.1)\n",
      "Requirement already satisfied: stack-data in /home/beatriziarasilva03/miniconda3/envs/rslib/lib/python3.8/site-packages (from ipython->scrapbook) (0.2.0)\n",
      "Requirement already satisfied: traitlets>=5 in /home/beatriziarasilva03/miniconda3/envs/rslib/lib/python3.8/site-packages (from ipython->scrapbook) (5.14.3)\n",
      "Requirement already satisfied: typing-extensions in /home/beatriziarasilva03/miniconda3/envs/rslib/lib/python3.8/site-packages (from ipython->scrapbook) (4.11.0)\n",
      "Requirement already satisfied: pexpect>4.3 in /home/beatriziarasilva03/miniconda3/envs/rslib/lib/python3.8/site-packages (from ipython->scrapbook) (4.8.0)\n",
      "Requirement already satisfied: attrs>=22.2.0 in /home/beatriziarasilva03/miniconda3/envs/rslib/lib/python3.8/site-packages (from jsonschema->scrapbook) (23.1.0)\n",
      "Requirement already satisfied: importlib-resources>=1.4.0 in /home/beatriziarasilva03/miniconda3/envs/rslib/lib/python3.8/site-packages (from jsonschema->scrapbook) (6.1.1)\n",
      "Requirement already satisfied: jsonschema-specifications>=2023.03.6 in /home/beatriziarasilva03/miniconda3/envs/rslib/lib/python3.8/site-packages (from jsonschema->scrapbook) (2023.7.1)\n",
      "Requirement already satisfied: pkgutil-resolve-name>=1.3.10 in /home/beatriziarasilva03/miniconda3/envs/rslib/lib/python3.8/site-packages (from jsonschema->scrapbook) (1.3.10)\n",
      "Requirement already satisfied: referencing>=0.28.4 in /home/beatriziarasilva03/miniconda3/envs/rslib/lib/python3.8/site-packages (from jsonschema->scrapbook) (0.30.2)\n",
      "Requirement already satisfied: rpds-py>=0.7.1 in /home/beatriziarasilva03/miniconda3/envs/rslib/lib/python3.8/site-packages (from jsonschema->scrapbook) (0.10.6)\n",
      "Requirement already satisfied: python-dateutil>=2.8.1 in /home/beatriziarasilva03/miniconda3/envs/rslib/lib/python3.8/site-packages (from pandas->scrapbook) (2.9.0.post0)\n",
      "Requirement already satisfied: pytz>=2020.1 in /home/beatriziarasilva03/miniconda3/envs/rslib/lib/python3.8/site-packages (from pandas->scrapbook) (2024.1)\n",
      "Requirement already satisfied: numpy>=1.20.3 in /home/beatriziarasilva03/miniconda3/envs/rslib/lib/python3.8/site-packages (from pandas->scrapbook) (1.23.3)\n",
      "Requirement already satisfied: click in /home/beatriziarasilva03/miniconda3/envs/rslib/lib/python3.8/site-packages (from papermill->scrapbook) (8.1.7)\n",
      "Requirement already satisfied: pyyaml in /home/beatriziarasilva03/miniconda3/envs/rslib/lib/python3.8/site-packages (from papermill->scrapbook) (6.0.1)\n",
      "Requirement already satisfied: nbformat>=5.2.0 in /home/beatriziarasilva03/miniconda3/envs/rslib/lib/python3.8/site-packages (from papermill->scrapbook) (5.9.2)\n",
      "Requirement already satisfied: nbclient>=0.2.0 in /home/beatriziarasilva03/miniconda3/envs/rslib/lib/python3.8/site-packages (from papermill->scrapbook) (0.8.0)\n",
      "Requirement already satisfied: tqdm>=4.32.2 in /home/beatriziarasilva03/miniconda3/envs/rslib/lib/python3.8/site-packages (from papermill->scrapbook) (4.64.1)\n",
      "Requirement already satisfied: requests in /home/beatriziarasilva03/miniconda3/envs/rslib/lib/python3.8/site-packages (from papermill->scrapbook) (2.28.1)\n",
      "Collecting entrypoints (from papermill->scrapbook)\n",
      "  Downloading entrypoints-0.4-py3-none-any.whl.metadata (2.6 kB)\n",
      "Collecting tenacity>=5.0.2 (from papermill->scrapbook)\n",
      "  Downloading tenacity-8.4.1-py3-none-any.whl.metadata (1.2 kB)\n",
      "Collecting ansicolors (from papermill->scrapbook)\n",
      "  Downloading ansicolors-1.1.8-py2.py3-none-any.whl.metadata (9.0 kB)\n",
      "Requirement already satisfied: zipp>=3.1.0 in /home/beatriziarasilva03/miniconda3/envs/rslib/lib/python3.8/site-packages (from importlib-resources>=1.4.0->jsonschema->scrapbook) (3.17.0)\n",
      "Requirement already satisfied: parso<0.9.0,>=0.8.0 in /home/beatriziarasilva03/miniconda3/envs/rslib/lib/python3.8/site-packages (from jedi>=0.16->ipython->scrapbook) (0.8.3)\n",
      "Requirement already satisfied: jupyter-client>=6.1.12 in /home/beatriziarasilva03/miniconda3/envs/rslib/lib/python3.8/site-packages (from nbclient>=0.2.0->papermill->scrapbook) (8.6.0)\n",
      "Requirement already satisfied: jupyter-core!=5.0.*,>=4.12 in /home/beatriziarasilva03/miniconda3/envs/rslib/lib/python3.8/site-packages (from nbclient>=0.2.0->papermill->scrapbook) (5.7.2)\n",
      "Requirement already satisfied: fastjsonschema in /home/beatriziarasilva03/miniconda3/envs/rslib/lib/python3.8/site-packages (from nbformat>=5.2.0->papermill->scrapbook) (2.16.2)\n",
      "Requirement already satisfied: ptyprocess>=0.5 in /home/beatriziarasilva03/miniconda3/envs/rslib/lib/python3.8/site-packages (from pexpect>4.3->ipython->scrapbook) (0.7.0)\n",
      "Requirement already satisfied: wcwidth in /home/beatriziarasilva03/miniconda3/envs/rslib/lib/python3.8/site-packages (from prompt-toolkit!=3.0.37,<3.1.0,>=3.0.30->ipython->scrapbook) (0.2.5)\n",
      "Requirement already satisfied: six>=1.5 in /home/beatriziarasilva03/miniconda3/envs/rslib/lib/python3.8/site-packages (from python-dateutil>=2.8.1->pandas->scrapbook) (1.16.0)\n",
      "Requirement already satisfied: charset-normalizer<3,>=2 in /home/beatriziarasilva03/miniconda3/envs/rslib/lib/python3.8/site-packages (from requests->papermill->scrapbook) (2.0.4)\n",
      "Requirement already satisfied: idna<4,>=2.5 in /home/beatriziarasilva03/miniconda3/envs/rslib/lib/python3.8/site-packages (from requests->papermill->scrapbook) (3.7)\n",
      "Requirement already satisfied: urllib3<1.27,>=1.21.1 in /home/beatriziarasilva03/miniconda3/envs/rslib/lib/python3.8/site-packages (from requests->papermill->scrapbook) (1.26.19)\n",
      "Requirement already satisfied: certifi>=2017.4.17 in /home/beatriziarasilva03/miniconda3/envs/rslib/lib/python3.8/site-packages (from requests->papermill->scrapbook) (2024.6.2)\n",
      "Requirement already satisfied: executing in /home/beatriziarasilva03/miniconda3/envs/rslib/lib/python3.8/site-packages (from stack-data->ipython->scrapbook) (0.8.3)\n",
      "Requirement already satisfied: asttokens in /home/beatriziarasilva03/miniconda3/envs/rslib/lib/python3.8/site-packages (from stack-data->ipython->scrapbook) (2.0.5)\n",
      "Requirement already satisfied: pure-eval in /home/beatriziarasilva03/miniconda3/envs/rslib/lib/python3.8/site-packages (from stack-data->ipython->scrapbook) (0.2.2)\n",
      "Requirement already satisfied: importlib-metadata>=4.8.3 in /home/beatriziarasilva03/miniconda3/envs/rslib/lib/python3.8/site-packages (from jupyter-client>=6.1.12->nbclient>=0.2.0->papermill->scrapbook) (7.0.1)\n",
      "Requirement already satisfied: pyzmq>=23.0 in /home/beatriziarasilva03/miniconda3/envs/rslib/lib/python3.8/site-packages (from jupyter-client>=6.1.12->nbclient>=0.2.0->papermill->scrapbook) (25.1.2)\n",
      "Requirement already satisfied: tornado>=6.2 in /home/beatriziarasilva03/miniconda3/envs/rslib/lib/python3.8/site-packages (from jupyter-client>=6.1.12->nbclient>=0.2.0->papermill->scrapbook) (6.4.1)\n",
      "Requirement already satisfied: platformdirs>=2.5 in /home/beatriziarasilva03/miniconda3/envs/rslib/lib/python3.8/site-packages (from jupyter-core!=5.0.*,>=4.12->nbclient>=0.2.0->papermill->scrapbook) (3.10.0)\n",
      "Downloading scrapbook-0.5.0-py3-none-any.whl (34 kB)\n",
      "Downloading papermill-2.6.0-py3-none-any.whl (38 kB)\n",
      "Downloading pyarrow-16.1.0-cp38-cp38-manylinux_2_28_x86_64.whl (40.9 MB)\n",
      "\u001b[2K   \u001b[90m━━━━━━━━━━━━━━━━━━━━━━━━━━━━━━━━━━━━━━━━\u001b[0m \u001b[32m40.9/40.9 MB\u001b[0m \u001b[31m31.7 MB/s\u001b[0m eta \u001b[36m0:00:00\u001b[0m00:01\u001b[0m00:01\u001b[0m\n",
      "\u001b[?25hDownloading tenacity-8.4.1-py3-none-any.whl (27 kB)\n",
      "Downloading ansicolors-1.1.8-py2.py3-none-any.whl (13 kB)\n",
      "Downloading entrypoints-0.4-py3-none-any.whl (5.3 kB)\n",
      "Installing collected packages: ansicolors, tenacity, pyarrow, entrypoints, papermill, scrapbook\n",
      "Successfully installed ansicolors-1.1.8 entrypoints-0.4 papermill-2.6.0 pyarrow-16.1.0 scrapbook-0.5.0 tenacity-8.4.1\n",
      "Note: you may need to restart the kernel to use updated packages.\n"
     ]
    }
   ],
   "source": [
    "pip install scrapbook"
   ]
  },
  {
   "cell_type": "code",
   "execution_count": 24,
   "id": "ae1e63d6-250b-484c-af4f-0fed0eb55b58",
   "metadata": {},
   "outputs": [
    {
     "name": "stdout",
     "output_type": "stream",
     "text": [
      "Requirement already satisfied: papermill in /home/beatriziarasilva03/miniconda3/envs/rslib/lib/python3.8/site-packages (2.6.0)\n",
      "Requirement already satisfied: click in /home/beatriziarasilva03/miniconda3/envs/rslib/lib/python3.8/site-packages (from papermill) (8.1.7)\n",
      "Requirement already satisfied: pyyaml in /home/beatriziarasilva03/miniconda3/envs/rslib/lib/python3.8/site-packages (from papermill) (6.0.1)\n",
      "Requirement already satisfied: nbformat>=5.2.0 in /home/beatriziarasilva03/miniconda3/envs/rslib/lib/python3.8/site-packages (from papermill) (5.9.2)\n",
      "Requirement already satisfied: nbclient>=0.2.0 in /home/beatriziarasilva03/miniconda3/envs/rslib/lib/python3.8/site-packages (from papermill) (0.8.0)\n",
      "Requirement already satisfied: tqdm>=4.32.2 in /home/beatriziarasilva03/miniconda3/envs/rslib/lib/python3.8/site-packages (from papermill) (4.64.1)\n",
      "Requirement already satisfied: requests in /home/beatriziarasilva03/miniconda3/envs/rslib/lib/python3.8/site-packages (from papermill) (2.28.1)\n",
      "Requirement already satisfied: entrypoints in /home/beatriziarasilva03/miniconda3/envs/rslib/lib/python3.8/site-packages (from papermill) (0.4)\n",
      "Requirement already satisfied: tenacity>=5.0.2 in /home/beatriziarasilva03/miniconda3/envs/rslib/lib/python3.8/site-packages (from papermill) (8.4.1)\n",
      "Requirement already satisfied: ansicolors in /home/beatriziarasilva03/miniconda3/envs/rslib/lib/python3.8/site-packages (from papermill) (1.1.8)\n",
      "Requirement already satisfied: jupyter-client>=6.1.12 in /home/beatriziarasilva03/miniconda3/envs/rslib/lib/python3.8/site-packages (from nbclient>=0.2.0->papermill) (8.6.0)\n",
      "Requirement already satisfied: jupyter-core!=5.0.*,>=4.12 in /home/beatriziarasilva03/miniconda3/envs/rslib/lib/python3.8/site-packages (from nbclient>=0.2.0->papermill) (5.7.2)\n",
      "Requirement already satisfied: traitlets>=5.4 in /home/beatriziarasilva03/miniconda3/envs/rslib/lib/python3.8/site-packages (from nbclient>=0.2.0->papermill) (5.14.3)\n",
      "Requirement already satisfied: fastjsonschema in /home/beatriziarasilva03/miniconda3/envs/rslib/lib/python3.8/site-packages (from nbformat>=5.2.0->papermill) (2.16.2)\n",
      "Requirement already satisfied: jsonschema>=2.6 in /home/beatriziarasilva03/miniconda3/envs/rslib/lib/python3.8/site-packages (from nbformat>=5.2.0->papermill) (4.19.2)\n",
      "Requirement already satisfied: charset-normalizer<3,>=2 in /home/beatriziarasilva03/miniconda3/envs/rslib/lib/python3.8/site-packages (from requests->papermill) (2.0.4)\n",
      "Requirement already satisfied: idna<4,>=2.5 in /home/beatriziarasilva03/miniconda3/envs/rslib/lib/python3.8/site-packages (from requests->papermill) (3.7)\n",
      "Requirement already satisfied: urllib3<1.27,>=1.21.1 in /home/beatriziarasilva03/miniconda3/envs/rslib/lib/python3.8/site-packages (from requests->papermill) (1.26.19)\n",
      "Requirement already satisfied: certifi>=2017.4.17 in /home/beatriziarasilva03/miniconda3/envs/rslib/lib/python3.8/site-packages (from requests->papermill) (2024.6.2)\n",
      "Requirement already satisfied: attrs>=22.2.0 in /home/beatriziarasilva03/miniconda3/envs/rslib/lib/python3.8/site-packages (from jsonschema>=2.6->nbformat>=5.2.0->papermill) (23.1.0)\n",
      "Requirement already satisfied: importlib-resources>=1.4.0 in /home/beatriziarasilva03/miniconda3/envs/rslib/lib/python3.8/site-packages (from jsonschema>=2.6->nbformat>=5.2.0->papermill) (6.1.1)\n",
      "Requirement already satisfied: jsonschema-specifications>=2023.03.6 in /home/beatriziarasilva03/miniconda3/envs/rslib/lib/python3.8/site-packages (from jsonschema>=2.6->nbformat>=5.2.0->papermill) (2023.7.1)\n",
      "Requirement already satisfied: pkgutil-resolve-name>=1.3.10 in /home/beatriziarasilva03/miniconda3/envs/rslib/lib/python3.8/site-packages (from jsonschema>=2.6->nbformat>=5.2.0->papermill) (1.3.10)\n",
      "Requirement already satisfied: referencing>=0.28.4 in /home/beatriziarasilva03/miniconda3/envs/rslib/lib/python3.8/site-packages (from jsonschema>=2.6->nbformat>=5.2.0->papermill) (0.30.2)\n",
      "Requirement already satisfied: rpds-py>=0.7.1 in /home/beatriziarasilva03/miniconda3/envs/rslib/lib/python3.8/site-packages (from jsonschema>=2.6->nbformat>=5.2.0->papermill) (0.10.6)\n",
      "Requirement already satisfied: importlib-metadata>=4.8.3 in /home/beatriziarasilva03/miniconda3/envs/rslib/lib/python3.8/site-packages (from jupyter-client>=6.1.12->nbclient>=0.2.0->papermill) (7.0.1)\n",
      "Requirement already satisfied: python-dateutil>=2.8.2 in /home/beatriziarasilva03/miniconda3/envs/rslib/lib/python3.8/site-packages (from jupyter-client>=6.1.12->nbclient>=0.2.0->papermill) (2.9.0.post0)\n",
      "Requirement already satisfied: pyzmq>=23.0 in /home/beatriziarasilva03/miniconda3/envs/rslib/lib/python3.8/site-packages (from jupyter-client>=6.1.12->nbclient>=0.2.0->papermill) (25.1.2)\n",
      "Requirement already satisfied: tornado>=6.2 in /home/beatriziarasilva03/miniconda3/envs/rslib/lib/python3.8/site-packages (from jupyter-client>=6.1.12->nbclient>=0.2.0->papermill) (6.4.1)\n",
      "Requirement already satisfied: platformdirs>=2.5 in /home/beatriziarasilva03/miniconda3/envs/rslib/lib/python3.8/site-packages (from jupyter-core!=5.0.*,>=4.12->nbclient>=0.2.0->papermill) (3.10.0)\n",
      "Requirement already satisfied: zipp>=0.5 in /home/beatriziarasilva03/miniconda3/envs/rslib/lib/python3.8/site-packages (from importlib-metadata>=4.8.3->jupyter-client>=6.1.12->nbclient>=0.2.0->papermill) (3.17.0)\n",
      "Requirement already satisfied: six>=1.5 in /home/beatriziarasilva03/miniconda3/envs/rslib/lib/python3.8/site-packages (from python-dateutil>=2.8.2->jupyter-client>=6.1.12->nbclient>=0.2.0->papermill) (1.16.0)\n",
      "Note: you may need to restart the kernel to use updated packages.\n"
     ]
    }
   ],
   "source": [
    "pip install papermill"
   ]
  },
  {
   "cell_type": "code",
   "execution_count": 25,
   "id": "4e957489-71ee-4161-bff7-7246bb6b56d1",
   "metadata": {},
   "outputs": [
    {
     "name": "stdout",
     "output_type": "stream",
     "text": [
      "Collecting chardet\n",
      "  Downloading chardet-5.2.0-py3-none-any.whl.metadata (3.4 kB)\n",
      "Downloading chardet-5.2.0-py3-none-any.whl (199 kB)\n",
      "\u001b[2K   \u001b[90m━━━━━━━━━━━━━━━━━━━━━━━━━━━━━━━━━━━━━━━━\u001b[0m \u001b[32m199.4/199.4 kB\u001b[0m \u001b[31m2.4 MB/s\u001b[0m eta \u001b[36m0:00:00\u001b[0ma \u001b[36m0:00:01\u001b[0m\n",
      "\u001b[?25hInstalling collected packages: chardet\n",
      "Successfully installed chardet-5.2.0\n",
      "Note: you may need to restart the kernel to use updated packages.\n"
     ]
    }
   ],
   "source": [
    "pip install chardet"
   ]
  },
  {
   "cell_type": "code",
   "execution_count": 26,
   "id": "76c997a5-01da-46c1-a970-77875fceec3b",
   "metadata": {},
   "outputs": [
    {
     "name": "stdout",
     "output_type": "stream",
     "text": [
      "Collecting rdflib\n",
      "  Downloading rdflib-7.0.0-py3-none-any.whl.metadata (11 kB)\n",
      "Collecting isodate<0.7.0,>=0.6.0 (from rdflib)\n",
      "  Downloading isodate-0.6.1-py2.py3-none-any.whl.metadata (9.6 kB)\n",
      "Requirement already satisfied: pyparsing<4,>=2.1.0 in /home/beatriziarasilva03/miniconda3/envs/rslib/lib/python3.8/site-packages (from rdflib) (3.1.2)\n",
      "Requirement already satisfied: six in /home/beatriziarasilva03/miniconda3/envs/rslib/lib/python3.8/site-packages (from isodate<0.7.0,>=0.6.0->rdflib) (1.16.0)\n",
      "Downloading rdflib-7.0.0-py3-none-any.whl (531 kB)\n",
      "\u001b[2K   \u001b[90m━━━━━━━━━━━━━━━━━━━━━━━━━━━━━━━━━━━━━━━━\u001b[0m \u001b[32m531.9/531.9 kB\u001b[0m \u001b[31m3.2 MB/s\u001b[0m eta \u001b[36m0:00:00\u001b[0ma \u001b[36m0:00:01\u001b[0m\n",
      "\u001b[?25hDownloading isodate-0.6.1-py2.py3-none-any.whl (41 kB)\n",
      "\u001b[2K   \u001b[90m━━━━━━━━━━━━━━━━━━━━━━━━━━━━━━━━━━━━━━━━\u001b[0m \u001b[32m41.7/41.7 kB\u001b[0m \u001b[31m3.5 MB/s\u001b[0m eta \u001b[36m0:00:00\u001b[0m\n",
      "\u001b[?25hInstalling collected packages: isodate, rdflib\n",
      "Successfully installed isodate-0.6.1 rdflib-7.0.0\n",
      "Note: you may need to restart the kernel to use updated packages.\n"
     ]
    }
   ],
   "source": [
    "pip install rdflib"
   ]
  },
  {
   "cell_type": "code",
   "execution_count": null,
   "id": "110423b6-ff0a-4243-9186-799e5b80fe48",
   "metadata": {},
   "outputs": [],
   "source": [
    "pip install tensorflow\n"
   ]
  },
  {
   "cell_type": "code",
   "execution_count": 12,
   "id": "a502251e-60ec-48a6-acb6-09c8dc091d19",
   "metadata": {},
   "outputs": [
    {
     "name": "stdout",
     "output_type": "stream",
     "text": [
      "Collecting tf_slim\n",
      "  Downloading tf_slim-1.1.0-py2.py3-none-any.whl.metadata (1.6 kB)\n",
      "Requirement already satisfied: absl-py>=0.2.2 in /home/beatriziarasilva03/miniconda3/envs/rslib/lib/python3.8/site-packages (from tf_slim) (2.1.0)\n",
      "Downloading tf_slim-1.1.0-py2.py3-none-any.whl (352 kB)\n",
      "\u001b[2K   \u001b[90m━━━━━━━━━━━━━━━━━━━━━━━━━━━━━━━━━━━━━━━━\u001b[0m \u001b[32m352.1/352.1 kB\u001b[0m \u001b[31m2.6 MB/s\u001b[0m eta \u001b[36m0:00:00\u001b[0ma \u001b[36m0:00:01\u001b[0m\n",
      "\u001b[?25hInstalling collected packages: tf_slim\n",
      "Successfully installed tf_slim-1.1.0\n",
      "Note: you may need to restart the kernel to use updated packages.\n"
     ]
    }
   ],
   "source": [
    "pip install tf_slim\n"
   ]
  },
  {
   "cell_type": "markdown",
   "id": "c18d2952-12d5-4d06-9133-c37c73f6631c",
   "metadata": {},
   "source": [
    "# Imports"
   ]
  },
  {
   "cell_type": "code",
   "execution_count": 3,
   "id": "41d7eec8-1f13-489f-a2f8-c8d66df3fbbe",
   "metadata": {},
   "outputs": [],
   "source": [
    "import pandas as pd\n",
    "import warnings\n",
    "import numpy as np\n",
    "import matplotlib.pyplot as plt\n",
    "import matplotlib.ticker as pltt\n",
    "import seaborn as sns\n",
    "from sklearn.model_selection import train_test_split\n",
    "from sklearn.ensemble import RandomForestClassifier\n",
    "from sklearn.metrics import accuracy_score\n",
    "from scipy.sparse import csr_matrix"
   ]
  },
  {
   "cell_type": "code",
   "execution_count": 4,
   "id": "1d64c2c6-2f7e-4360-b269-74848b2e8877",
   "metadata": {},
   "outputs": [],
   "source": [
    "from recommendation import implicit_util\n",
    "import implicit.evaluation\n",
    "from exploration import exploration_util\n",
    "from nutrition_scores import score_util"
   ]
  },
  {
   "cell_type": "code",
   "execution_count": 5,
   "id": "da310e99-d8e7-4688-a527-80f203fdddc7",
   "metadata": {},
   "outputs": [],
   "source": [
    "import utils"
   ]
  },
  {
   "cell_type": "code",
   "execution_count": 6,
   "id": "bf7978c9-0882-4d40-a30f-39ec4c4275e5",
   "metadata": {},
   "outputs": [],
   "source": [
    "import cornac\n",
    "import pickle\n",
    "import recommenders.tuning.parameter_sweep\n",
    "from recommendation import healthy_recommender_util\n",
    "from nutrition_scores import filtering_util\n",
    "from nutrition_scores import tfidf_util\n",
    "from recommenders.datasets.python_splitters import python_random_split\n",
    "from recommenders.utils.constants import SEED"
   ]
  },
  {
   "cell_type": "code",
   "execution_count": 7,
   "id": "2f78f813-5ae4-4994-9ab7-cad582c1ded1",
   "metadata": {},
   "outputs": [],
   "source": [
    "import torch\n",
    "from recommendation import cornac_util"
   ]
  },
  {
   "cell_type": "markdown",
   "id": "c6cffe63-c8aa-4362-9f86-0d4d5252c403",
   "metadata": {},
   "source": [
    "# Hummus Dataset"
   ]
  },
  {
   "cell_type": "markdown",
   "id": "aa3f16a8-84d1-4f0c-803d-f54371cb43fd",
   "metadata": {},
   "source": [
    "## Data Visualization"
   ]
  },
  {
   "cell_type": "code",
   "execution_count": 8,
   "id": "37d8dd13-89be-43aa-8de3-0a29f60529e8",
   "metadata": {},
   "outputs": [],
   "source": [
    "dir = '/home/beatriziarasilva03/Estagio/data/hummus'"
   ]
  },
  {
   "cell_type": "code",
   "execution_count": 8,
   "id": "a5ed315a-cbe1-4187-b8c8-56bd25e7595b",
   "metadata": {},
   "outputs": [],
   "source": [
    "reviews_df= pd.read_csv(dir+'/pp_reviews.csv')\n",
    "recipes_df= pd.read_csv(dir+'/pp_recipes.csv')\n",
    "members_df= pd.read_csv(dir+'/pp_members.csv')"
   ]
  },
  {
   "cell_type": "markdown",
   "id": "014b0fdc-b810-4bd0-9bcd-08526a412276",
   "metadata": {},
   "source": [
    "**Reviews**"
   ]
  },
  {
   "cell_type": "code",
   "execution_count": 7,
   "id": "d27db60e-d715-4a6d-8735-d878b37db04c",
   "metadata": {},
   "outputs": [
    {
     "data": {
      "text/html": [
       "<div>\n",
       "<style scoped>\n",
       "    .dataframe tbody tr th:only-of-type {\n",
       "        vertical-align: middle;\n",
       "    }\n",
       "\n",
       "    .dataframe tbody tr th {\n",
       "        vertical-align: top;\n",
       "    }\n",
       "\n",
       "    .dataframe thead th {\n",
       "        text-align: right;\n",
       "    }\n",
       "</style>\n",
       "<table border=\"1\" class=\"dataframe\">\n",
       "  <thead>\n",
       "    <tr style=\"text-align: right;\">\n",
       "      <th></th>\n",
       "      <th>Unnamed: 0</th>\n",
       "      <th>member_id</th>\n",
       "      <th>recipe_id</th>\n",
       "      <th>rating</th>\n",
       "      <th>text</th>\n",
       "      <th>likes</th>\n",
       "      <th>last_modified_date</th>\n",
       "      <th>review_id</th>\n",
       "      <th>review_url</th>\n",
       "      <th>member_url</th>\n",
       "      <th>new_member_id</th>\n",
       "      <th>new_recipe_id</th>\n",
       "    </tr>\n",
       "  </thead>\n",
       "  <tbody>\n",
       "    <tr>\n",
       "      <th>0</th>\n",
       "      <td>0</td>\n",
       "      <td>192799</td>\n",
       "      <td>96347</td>\n",
       "      <td>5.0</td>\n",
       "      <td>I've never made ham &amp; beans before, but I've a...</td>\n",
       "      <td>0.0</td>\n",
       "      <td>2005-05-02</td>\n",
       "      <td>171462.0</td>\n",
       "      <td>https://www.food.com/recipe/crock-pot-ham-and-...</td>\n",
       "      <td>https://www.food.com/user/192799</td>\n",
       "      <td>0</td>\n",
       "      <td>274797</td>\n",
       "    </tr>\n",
       "    <tr>\n",
       "      <th>1</th>\n",
       "      <td>1</td>\n",
       "      <td>394617</td>\n",
       "      <td>37139</td>\n",
       "      <td>2.5</td>\n",
       "      <td>Great curry.  Will make again.  I was thinking...</td>\n",
       "      <td>0.0</td>\n",
       "      <td>2012-03-25</td>\n",
       "      <td>1296592.0</td>\n",
       "      <td>https://www.food.com/recipe/curry-chicken-with...</td>\n",
       "      <td>https://www.food.com/user/394617</td>\n",
       "      <td>1</td>\n",
       "      <td>274880</td>\n",
       "    </tr>\n",
       "    <tr>\n",
       "      <th>2</th>\n",
       "      <td>2</td>\n",
       "      <td>170674</td>\n",
       "      <td>37139</td>\n",
       "      <td>5.0</td>\n",
       "      <td>This was really good even my picky kid loved i...</td>\n",
       "      <td>0.0</td>\n",
       "      <td>2011-10-03</td>\n",
       "      <td>1254955.0</td>\n",
       "      <td>https://www.food.com/recipe/curry-chicken-with...</td>\n",
       "      <td>https://www.food.com/user/170674</td>\n",
       "      <td>2</td>\n",
       "      <td>274880</td>\n",
       "    </tr>\n",
       "    <tr>\n",
       "      <th>3</th>\n",
       "      <td>3</td>\n",
       "      <td>1800369</td>\n",
       "      <td>37139</td>\n",
       "      <td>5.0</td>\n",
       "      <td>I used chicken base instead of beef bullion an...</td>\n",
       "      <td>0.0</td>\n",
       "      <td>2011-01-20</td>\n",
       "      <td>1184045.0</td>\n",
       "      <td>https://www.food.com/recipe/curry-chicken-with...</td>\n",
       "      <td>https://www.food.com/user/1800369</td>\n",
       "      <td>3</td>\n",
       "      <td>274880</td>\n",
       "    </tr>\n",
       "    <tr>\n",
       "      <th>4</th>\n",
       "      <td>4</td>\n",
       "      <td>126440</td>\n",
       "      <td>37139</td>\n",
       "      <td>5.0</td>\n",
       "      <td>I made half a recipe and it was just right for...</td>\n",
       "      <td>0.0</td>\n",
       "      <td>2010-12-24</td>\n",
       "      <td>1174963.0</td>\n",
       "      <td>https://www.food.com/recipe/curry-chicken-with...</td>\n",
       "      <td>https://www.food.com/user/126440</td>\n",
       "      <td>4</td>\n",
       "      <td>274880</td>\n",
       "    </tr>\n",
       "    <tr>\n",
       "      <th>...</th>\n",
       "      <td>...</td>\n",
       "      <td>...</td>\n",
       "      <td>...</td>\n",
       "      <td>...</td>\n",
       "      <td>...</td>\n",
       "      <td>...</td>\n",
       "      <td>...</td>\n",
       "      <td>...</td>\n",
       "      <td>...</td>\n",
       "      <td>...</td>\n",
       "      <td>...</td>\n",
       "      <td>...</td>\n",
       "    </tr>\n",
       "    <tr>\n",
       "      <th>1916419</th>\n",
       "      <td>1916419</td>\n",
       "      <td>53959</td>\n",
       "      <td>161672</td>\n",
       "      <td>6.0</td>\n",
       "      <td>NaN</td>\n",
       "      <td>NaN</td>\n",
       "      <td>2021-07-20</td>\n",
       "      <td>NaN</td>\n",
       "      <td>NaN</td>\n",
       "      <td>NaN</td>\n",
       "      <td>1118</td>\n",
       "      <td>507330</td>\n",
       "    </tr>\n",
       "    <tr>\n",
       "      <th>1916420</th>\n",
       "      <td>1916420</td>\n",
       "      <td>461724</td>\n",
       "      <td>242936</td>\n",
       "      <td>6.0</td>\n",
       "      <td>NaN</td>\n",
       "      <td>NaN</td>\n",
       "      <td>2009-09-09</td>\n",
       "      <td>NaN</td>\n",
       "      <td>NaN</td>\n",
       "      <td>NaN</td>\n",
       "      <td>878</td>\n",
       "      <td>507331</td>\n",
       "    </tr>\n",
       "    <tr>\n",
       "      <th>1916421</th>\n",
       "      <td>1916421</td>\n",
       "      <td>47175</td>\n",
       "      <td>51384</td>\n",
       "      <td>6.0</td>\n",
       "      <td>NaN</td>\n",
       "      <td>NaN</td>\n",
       "      <td>2012-04-07</td>\n",
       "      <td>NaN</td>\n",
       "      <td>NaN</td>\n",
       "      <td>NaN</td>\n",
       "      <td>12418</td>\n",
       "      <td>507332</td>\n",
       "    </tr>\n",
       "    <tr>\n",
       "      <th>1916422</th>\n",
       "      <td>1916422</td>\n",
       "      <td>335392</td>\n",
       "      <td>406042</td>\n",
       "      <td>6.0</td>\n",
       "      <td>NaN</td>\n",
       "      <td>NaN</td>\n",
       "      <td>2010-06-23</td>\n",
       "      <td>NaN</td>\n",
       "      <td>NaN</td>\n",
       "      <td>NaN</td>\n",
       "      <td>133034</td>\n",
       "      <td>507333</td>\n",
       "    </tr>\n",
       "    <tr>\n",
       "      <th>1916423</th>\n",
       "      <td>1916423</td>\n",
       "      <td>4439</td>\n",
       "      <td>131807</td>\n",
       "      <td>6.0</td>\n",
       "      <td>NaN</td>\n",
       "      <td>NaN</td>\n",
       "      <td>2013-01-31</td>\n",
       "      <td>NaN</td>\n",
       "      <td>NaN</td>\n",
       "      <td>NaN</td>\n",
       "      <td>1342</td>\n",
       "      <td>507334</td>\n",
       "    </tr>\n",
       "  </tbody>\n",
       "</table>\n",
       "<p>1916424 rows × 12 columns</p>\n",
       "</div>"
      ],
      "text/plain": [
       "         Unnamed: 0  member_id  recipe_id  rating  \\\n",
       "0                 0     192799      96347     5.0   \n",
       "1                 1     394617      37139     2.5   \n",
       "2                 2     170674      37139     5.0   \n",
       "3                 3    1800369      37139     5.0   \n",
       "4                 4     126440      37139     5.0   \n",
       "...             ...        ...        ...     ...   \n",
       "1916419     1916419      53959     161672     6.0   \n",
       "1916420     1916420     461724     242936     6.0   \n",
       "1916421     1916421      47175      51384     6.0   \n",
       "1916422     1916422     335392     406042     6.0   \n",
       "1916423     1916423       4439     131807     6.0   \n",
       "\n",
       "                                                      text  likes  \\\n",
       "0        I've never made ham & beans before, but I've a...    0.0   \n",
       "1        Great curry.  Will make again.  I was thinking...    0.0   \n",
       "2        This was really good even my picky kid loved i...    0.0   \n",
       "3        I used chicken base instead of beef bullion an...    0.0   \n",
       "4        I made half a recipe and it was just right for...    0.0   \n",
       "...                                                    ...    ...   \n",
       "1916419                                                NaN    NaN   \n",
       "1916420                                                NaN    NaN   \n",
       "1916421                                                NaN    NaN   \n",
       "1916422                                                NaN    NaN   \n",
       "1916423                                                NaN    NaN   \n",
       "\n",
       "        last_modified_date  review_id  \\\n",
       "0               2005-05-02   171462.0   \n",
       "1               2012-03-25  1296592.0   \n",
       "2               2011-10-03  1254955.0   \n",
       "3               2011-01-20  1184045.0   \n",
       "4               2010-12-24  1174963.0   \n",
       "...                    ...        ...   \n",
       "1916419         2021-07-20        NaN   \n",
       "1916420         2009-09-09        NaN   \n",
       "1916421         2012-04-07        NaN   \n",
       "1916422         2010-06-23        NaN   \n",
       "1916423         2013-01-31        NaN   \n",
       "\n",
       "                                                review_url  \\\n",
       "0        https://www.food.com/recipe/crock-pot-ham-and-...   \n",
       "1        https://www.food.com/recipe/curry-chicken-with...   \n",
       "2        https://www.food.com/recipe/curry-chicken-with...   \n",
       "3        https://www.food.com/recipe/curry-chicken-with...   \n",
       "4        https://www.food.com/recipe/curry-chicken-with...   \n",
       "...                                                    ...   \n",
       "1916419                                                NaN   \n",
       "1916420                                                NaN   \n",
       "1916421                                                NaN   \n",
       "1916422                                                NaN   \n",
       "1916423                                                NaN   \n",
       "\n",
       "                                member_url  new_member_id  new_recipe_id  \n",
       "0         https://www.food.com/user/192799              0         274797  \n",
       "1         https://www.food.com/user/394617              1         274880  \n",
       "2         https://www.food.com/user/170674              2         274880  \n",
       "3        https://www.food.com/user/1800369              3         274880  \n",
       "4         https://www.food.com/user/126440              4         274880  \n",
       "...                                    ...            ...            ...  \n",
       "1916419                                NaN           1118         507330  \n",
       "1916420                                NaN            878         507331  \n",
       "1916421                                NaN          12418         507332  \n",
       "1916422                                NaN         133034         507333  \n",
       "1916423                                NaN           1342         507334  \n",
       "\n",
       "[1916424 rows x 12 columns]"
      ]
     },
     "execution_count": 7,
     "metadata": {},
     "output_type": "execute_result"
    }
   ],
   "source": [
    "reviews_df"
   ]
  },
  {
   "cell_type": "code",
   "execution_count": 8,
   "id": "a78f7ee0-ad98-46b9-8168-61abc4d3ac8f",
   "metadata": {},
   "outputs": [
    {
     "name": "stdout",
     "output_type": "stream",
     "text": [
      "Unnamed: 0                 0\n",
      "member_id                  0\n",
      "recipe_id                  0\n",
      "rating                     0\n",
      "text                  506718\n",
      "likes                 506510\n",
      "last_modified_date         0\n",
      "review_id             506510\n",
      "review_url            506510\n",
      "member_url            506510\n",
      "new_member_id              0\n",
      "new_recipe_id              0\n",
      "dtype: int64\n"
     ]
    }
   ],
   "source": [
    "#missing values\n",
    "missing_values = reviews_df.isnull().sum()\n",
    "print(missing_values)"
   ]
  },
  {
   "cell_type": "code",
   "execution_count": 9,
   "id": "59944cdc-8265-4a53-9ee4-3ef0be211202",
   "metadata": {},
   "outputs": [
    {
     "name": "stdout",
     "output_type": "stream",
     "text": [
      "Unnamed: 0              int64\n",
      "member_id               int64\n",
      "recipe_id               int64\n",
      "rating                float64\n",
      "text                   object\n",
      "likes                 float64\n",
      "last_modified_date     object\n",
      "review_id             float64\n",
      "review_url             object\n",
      "member_url             object\n",
      "new_member_id           int64\n",
      "new_recipe_id           int64\n",
      "dtype: object\n"
     ]
    }
   ],
   "source": [
    "#data type\n",
    "type = reviews_df.dtypes\n",
    "print(type)"
   ]
  },
  {
   "cell_type": "code",
   "execution_count": 10,
   "id": "c0279870-68e1-4bde-bb09-816b24ef48bb",
   "metadata": {},
   "outputs": [
    {
     "name": "stdout",
     "output_type": "stream",
     "text": [
      "False\n"
     ]
    }
   ],
   "source": [
    "duplicates = reviews_df.duplicated().any()\n",
    "print(duplicates)"
   ]
  },
  {
   "cell_type": "markdown",
   "id": "bdd2cc20-8869-42f3-99b8-43863567629d",
   "metadata": {},
   "source": [
    "**Recipes**"
   ]
  },
  {
   "cell_type": "code",
   "execution_count": 11,
   "id": "7d68562b-f6e6-4be2-a580-cee95b31e546",
   "metadata": {},
   "outputs": [
    {
     "data": {
      "text/html": [
       "<div>\n",
       "<style scoped>\n",
       "    .dataframe tbody tr th:only-of-type {\n",
       "        vertical-align: middle;\n",
       "    }\n",
       "\n",
       "    .dataframe tbody tr th {\n",
       "        vertical-align: top;\n",
       "    }\n",
       "\n",
       "    .dataframe thead th {\n",
       "        text-align: right;\n",
       "    }\n",
       "</style>\n",
       "<table border=\"1\" class=\"dataframe\">\n",
       "  <thead>\n",
       "    <tr style=\"text-align: right;\">\n",
       "      <th></th>\n",
       "      <th>Unnamed: 0</th>\n",
       "      <th>recipe_id</th>\n",
       "      <th>title</th>\n",
       "      <th>description</th>\n",
       "      <th>author_id</th>\n",
       "      <th>duration</th>\n",
       "      <th>directions</th>\n",
       "      <th>ingredients</th>\n",
       "      <th>serves</th>\n",
       "      <th>last_changed_date</th>\n",
       "      <th>...</th>\n",
       "      <th>sugars [g]</th>\n",
       "      <th>protein [g]</th>\n",
       "      <th>direction_size</th>\n",
       "      <th>ingredients_sizes</th>\n",
       "      <th>who_score</th>\n",
       "      <th>fsa_score</th>\n",
       "      <th>nutri_score</th>\n",
       "      <th>normalization_comment</th>\n",
       "      <th>ingredient_food_kg_urls</th>\n",
       "      <th>ingredient_food_kg_names</th>\n",
       "    </tr>\n",
       "  </thead>\n",
       "  <tbody>\n",
       "    <tr>\n",
       "      <th>0</th>\n",
       "      <td>0</td>\n",
       "      <td>447642</td>\n",
       "      <td>Cranberry-Orange Caramel Corn</td>\n",
       "      <td>Taken from Beter Homes and Gardens, November 2...</td>\n",
       "      <td>409184</td>\n",
       "      <td>40.0</td>\n",
       "      <td>['Preheat oven to 275 degrees. In a very large...</td>\n",
       "      <td>{'': [('popcorn, popped', '12  time(s) cups ')...</td>\n",
       "      <td>20</td>\n",
       "      <td>2011-01-29</td>\n",
       "      <td>...</td>\n",
       "      <td>6.9</td>\n",
       "      <td>0.8</td>\n",
       "      <td>9</td>\n",
       "      <td>9</td>\n",
       "      <td>0.168254</td>\n",
       "      <td>0.000</td>\n",
       "      <td>0.00</td>\n",
       "      <td>NaN</td>\n",
       "      <td>['http://idea.rpi.edu/heals/kb/ingredientname/...</td>\n",
       "      <td>['baking soda', 'brown sugar', 'butter', 'corn...</td>\n",
       "    </tr>\n",
       "    <tr>\n",
       "      <th>1</th>\n",
       "      <td>1</td>\n",
       "      <td>53662</td>\n",
       "      <td>Cocktail De Camarones</td>\n",
       "      <td>I ordered shrimp cocktail at a Mexican restaur...</td>\n",
       "      <td>64251</td>\n",
       "      <td>20.0</td>\n",
       "      <td>['After you chop the tomatoes, onions and cila...</td>\n",
       "      <td>{'': [('shelled and cooked shrimp (50-60 count...</td>\n",
       "      <td>2-4</td>\n",
       "      <td>2009-06-03</td>\n",
       "      <td>...</td>\n",
       "      <td>6.3</td>\n",
       "      <td>51.3</td>\n",
       "      <td>7</td>\n",
       "      <td>10</td>\n",
       "      <td>0.335455</td>\n",
       "      <td>0.625</td>\n",
       "      <td>0.25</td>\n",
       "      <td>NaN</td>\n",
       "      <td>['http://idea.rpi.edu/heals/kb/ingredientname/...</td>\n",
       "      <td>['avocado', 'cilantro', 'cooked shrimp', 'garl...</td>\n",
       "    </tr>\n",
       "    <tr>\n",
       "      <th>2</th>\n",
       "      <td>2</td>\n",
       "      <td>520465</td>\n",
       "      <td>Inbal Jerusalem Hotel Snowball</td>\n",
       "      <td>This recipe was created in response to a Janua...</td>\n",
       "      <td>1803632771</td>\n",
       "      <td>210.0</td>\n",
       "      <td>['Combine gelatin with cold water', 'Combine c...</td>\n",
       "      <td>{'': [('cream', '200  time(s) g '), ('vanilla ...</td>\n",
       "      <td>5</td>\n",
       "      <td>2015-01-08</td>\n",
       "      <td>...</td>\n",
       "      <td>78.0</td>\n",
       "      <td>87.7</td>\n",
       "      <td>12</td>\n",
       "      <td>17</td>\n",
       "      <td>0.128082</td>\n",
       "      <td>0.000</td>\n",
       "      <td>0.00</td>\n",
       "      <td>NaN</td>\n",
       "      <td>['http://idea.rpi.edu/heals/kb/ingredientname/...</td>\n",
       "      <td>['cold water', 'condensed milk', 'cornflour', ...</td>\n",
       "    </tr>\n",
       "    <tr>\n",
       "      <th>3</th>\n",
       "      <td>3</td>\n",
       "      <td>213601</td>\n",
       "      <td>Santorini Roasted Leg of Lamb</td>\n",
       "      <td>A succulent slow-roasted leg of lamb with herb...</td>\n",
       "      <td>183057</td>\n",
       "      <td>375.0</td>\n",
       "      <td>['Trim excess fat and silver skin from lamb le...</td>\n",
       "      <td>{'': [('of lamb', '6  time(s) lbs leg '), ('dr...</td>\n",
       "      <td>10-12</td>\n",
       "      <td>2009-05-17</td>\n",
       "      <td>...</td>\n",
       "      <td>3.6</td>\n",
       "      <td>51.1</td>\n",
       "      <td>8</td>\n",
       "      <td>8</td>\n",
       "      <td>0.320622</td>\n",
       "      <td>0.375</td>\n",
       "      <td>0.00</td>\n",
       "      <td>NaN</td>\n",
       "      <td>['http://idea.rpi.edu/heals/kb/ingredientname/...</td>\n",
       "      <td>['dried mint flakes', 'dried oregano', 'dried ...</td>\n",
       "    </tr>\n",
       "    <tr>\n",
       "      <th>4</th>\n",
       "      <td>4</td>\n",
       "      <td>67731</td>\n",
       "      <td>Cantonese Chicken Burgers</td>\n",
       "      <td>Adapted from a recipe in BHG's grilling magazine.</td>\n",
       "      <td>37779</td>\n",
       "      <td>38.0</td>\n",
       "      <td>['In a mixing bowl, add the egg, sesame oil, a...</td>\n",
       "      <td>{'': [('egg, beaten', '1  time(s) '), ('toaste...</td>\n",
       "      <td>4</td>\n",
       "      <td>2007-11-21</td>\n",
       "      <td>...</td>\n",
       "      <td>4.2</td>\n",
       "      <td>30.3</td>\n",
       "      <td>6</td>\n",
       "      <td>12</td>\n",
       "      <td>0.254427</td>\n",
       "      <td>0.500</td>\n",
       "      <td>0.25</td>\n",
       "      <td>NaN</td>\n",
       "      <td>['http://idea.rpi.edu/heals/kb/ingredientname/...</td>\n",
       "      <td>['carrots', 'egg', 'fine dry breadcrumbs', 'ga...</td>\n",
       "    </tr>\n",
       "    <tr>\n",
       "      <th>...</th>\n",
       "      <td>...</td>\n",
       "      <td>...</td>\n",
       "      <td>...</td>\n",
       "      <td>...</td>\n",
       "      <td>...</td>\n",
       "      <td>...</td>\n",
       "      <td>...</td>\n",
       "      <td>...</td>\n",
       "      <td>...</td>\n",
       "      <td>...</td>\n",
       "      <td>...</td>\n",
       "      <td>...</td>\n",
       "      <td>...</td>\n",
       "      <td>...</td>\n",
       "      <td>...</td>\n",
       "      <td>...</td>\n",
       "      <td>...</td>\n",
       "      <td>...</td>\n",
       "      <td>...</td>\n",
       "      <td>...</td>\n",
       "      <td>...</td>\n",
       "    </tr>\n",
       "    <tr>\n",
       "      <th>507330</th>\n",
       "      <td>507330</td>\n",
       "      <td>161672</td>\n",
       "      <td>Southern Belle Bars</td>\n",
       "      <td>Pecan pie in an easy bar cookie form.</td>\n",
       "      <td>53959</td>\n",
       "      <td>70.0</td>\n",
       "      <td>['Heat oven to 350°F  ', 'Combine 1 1/4 cups f...</td>\n",
       "      <td>{'filling': [('dark corn syrup', '/ time(s) cu...</td>\n",
       "      <td>6-8</td>\n",
       "      <td>2021-07-20</td>\n",
       "      <td>...</td>\n",
       "      <td>32.0</td>\n",
       "      <td>7.0</td>\n",
       "      <td>4</td>\n",
       "      <td>11</td>\n",
       "      <td>0.122160</td>\n",
       "      <td>NaN</td>\n",
       "      <td>0.00</td>\n",
       "      <td>*</td>\n",
       "      <td>NaN</td>\n",
       "      <td>NaN</td>\n",
       "    </tr>\n",
       "    <tr>\n",
       "      <th>507331</th>\n",
       "      <td>507331</td>\n",
       "      <td>242936</td>\n",
       "      <td>Miriam's Egg Rolls</td>\n",
       "      <td>My sister introduced me to homemade egg rolls ...</td>\n",
       "      <td>461724</td>\n",
       "      <td>50.0</td>\n",
       "      <td>['Heat 2 tablespoons oil in wok or frying pan....</td>\n",
       "      <td>{'': [('oil', '5  time(s) tablespoons '), ('gr...</td>\n",
       "      <td>5</td>\n",
       "      <td>2009-09-09</td>\n",
       "      <td>...</td>\n",
       "      <td>6.5</td>\n",
       "      <td>29.5</td>\n",
       "      <td>8</td>\n",
       "      <td>15</td>\n",
       "      <td>0.123409</td>\n",
       "      <td>0.250</td>\n",
       "      <td>0.00</td>\n",
       "      <td>NaN</td>\n",
       "      <td>NaN</td>\n",
       "      <td>NaN</td>\n",
       "    </tr>\n",
       "    <tr>\n",
       "      <th>507332</th>\n",
       "      <td>507332</td>\n",
       "      <td>51384</td>\n",
       "      <td>Creamy Chicken and Chile Casserole</td>\n",
       "      <td>Yummy, creamy, fast, and easy! This could easi...</td>\n",
       "      <td>47175</td>\n",
       "      <td>40.0</td>\n",
       "      <td>['Heat oven to 400°F.', 'Cook chicken over med...</td>\n",
       "      <td>{'': [('boneless skinless chicken breasts, cub...</td>\n",
       "      <td>NaN</td>\n",
       "      <td>2012-04-07</td>\n",
       "      <td>...</td>\n",
       "      <td>33.6</td>\n",
       "      <td>121.5</td>\n",
       "      <td>12</td>\n",
       "      <td>10</td>\n",
       "      <td>0.161195</td>\n",
       "      <td>0.000</td>\n",
       "      <td>0.00</td>\n",
       "      <td>NaN</td>\n",
       "      <td>NaN</td>\n",
       "      <td>NaN</td>\n",
       "    </tr>\n",
       "    <tr>\n",
       "      <th>507333</th>\n",
       "      <td>507333</td>\n",
       "      <td>406042</td>\n",
       "      <td>Won Ton's</td>\n",
       "      <td>Great as Pot Stickers or in a soup of chicken ...</td>\n",
       "      <td>335392</td>\n",
       "      <td>55.0</td>\n",
       "      <td>['Combine all ingredients.', 'Place Won Ton wr...</td>\n",
       "      <td>{'': [('wonton wrappers (about 48)', '12  time...</td>\n",
       "      <td>6</td>\n",
       "      <td>2010-06-23</td>\n",
       "      <td>...</td>\n",
       "      <td>0.3</td>\n",
       "      <td>19.4</td>\n",
       "      <td>7</td>\n",
       "      <td>11</td>\n",
       "      <td>0.248843</td>\n",
       "      <td>0.375</td>\n",
       "      <td>0.25</td>\n",
       "      <td>NaN</td>\n",
       "      <td>NaN</td>\n",
       "      <td>NaN</td>\n",
       "    </tr>\n",
       "    <tr>\n",
       "      <th>507334</th>\n",
       "      <td>507334</td>\n",
       "      <td>131807</td>\n",
       "      <td>Whole Foods Mediterranean Tuna Salad</td>\n",
       "      <td>This is superb! I could eat buckets of this! T...</td>\n",
       "      <td>4439</td>\n",
       "      <td>65.0</td>\n",
       "      <td>['In a large bowl, combine the tuna, artichoke...</td>\n",
       "      <td>{'': [('chunk light tuna, drained well', '4 ti...</td>\n",
       "      <td>6-8</td>\n",
       "      <td>2013-01-31</td>\n",
       "      <td>...</td>\n",
       "      <td>4.2</td>\n",
       "      <td>31.8</td>\n",
       "      <td>1</td>\n",
       "      <td>12</td>\n",
       "      <td>0.329156</td>\n",
       "      <td>0.625</td>\n",
       "      <td>0.25</td>\n",
       "      <td>NaN</td>\n",
       "      <td>NaN</td>\n",
       "      <td>NaN</td>\n",
       "    </tr>\n",
       "  </tbody>\n",
       "</table>\n",
       "<p>507335 rows × 37 columns</p>\n",
       "</div>"
      ],
      "text/plain": [
       "        Unnamed: 0  recipe_id                                 title  \\\n",
       "0                0     447642         Cranberry-Orange Caramel Corn   \n",
       "1                1      53662                 Cocktail De Camarones   \n",
       "2                2     520465        Inbal Jerusalem Hotel Snowball   \n",
       "3                3     213601         Santorini Roasted Leg of Lamb   \n",
       "4                4      67731             Cantonese Chicken Burgers   \n",
       "...            ...        ...                                   ...   \n",
       "507330      507330     161672                   Southern Belle Bars   \n",
       "507331      507331     242936                    Miriam's Egg Rolls   \n",
       "507332      507332      51384    Creamy Chicken and Chile Casserole   \n",
       "507333      507333     406042                             Won Ton's   \n",
       "507334      507334     131807  Whole Foods Mediterranean Tuna Salad   \n",
       "\n",
       "                                              description   author_id  \\\n",
       "0       Taken from Beter Homes and Gardens, November 2...      409184   \n",
       "1       I ordered shrimp cocktail at a Mexican restaur...       64251   \n",
       "2       This recipe was created in response to a Janua...  1803632771   \n",
       "3       A succulent slow-roasted leg of lamb with herb...      183057   \n",
       "4       Adapted from a recipe in BHG's grilling magazine.       37779   \n",
       "...                                                   ...         ...   \n",
       "507330              Pecan pie in an easy bar cookie form.       53959   \n",
       "507331  My sister introduced me to homemade egg rolls ...      461724   \n",
       "507332  Yummy, creamy, fast, and easy! This could easi...       47175   \n",
       "507333  Great as Pot Stickers or in a soup of chicken ...      335392   \n",
       "507334  This is superb! I could eat buckets of this! T...        4439   \n",
       "\n",
       "        duration                                         directions  \\\n",
       "0           40.0  ['Preheat oven to 275 degrees. In a very large...   \n",
       "1           20.0  ['After you chop the tomatoes, onions and cila...   \n",
       "2          210.0  ['Combine gelatin with cold water', 'Combine c...   \n",
       "3          375.0  ['Trim excess fat and silver skin from lamb le...   \n",
       "4           38.0  ['In a mixing bowl, add the egg, sesame oil, a...   \n",
       "...          ...                                                ...   \n",
       "507330      70.0  ['Heat oven to 350°F  ', 'Combine 1 1/4 cups f...   \n",
       "507331      50.0  ['Heat 2 tablespoons oil in wok or frying pan....   \n",
       "507332      40.0  ['Heat oven to 400°F.', 'Cook chicken over med...   \n",
       "507333      55.0  ['Combine all ingredients.', 'Place Won Ton wr...   \n",
       "507334      65.0  ['In a large bowl, combine the tuna, artichoke...   \n",
       "\n",
       "                                              ingredients serves  \\\n",
       "0       {'': [('popcorn, popped', '12  time(s) cups ')...     20   \n",
       "1       {'': [('shelled and cooked shrimp (50-60 count...    2-4   \n",
       "2       {'': [('cream', '200  time(s) g '), ('vanilla ...      5   \n",
       "3       {'': [('of lamb', '6  time(s) lbs leg '), ('dr...  10-12   \n",
       "4       {'': [('egg, beaten', '1  time(s) '), ('toaste...      4   \n",
       "...                                                   ...    ...   \n",
       "507330  {'filling': [('dark corn syrup', '/ time(s) cu...    6-8   \n",
       "507331  {'': [('oil', '5  time(s) tablespoons '), ('gr...      5   \n",
       "507332  {'': [('boneless skinless chicken breasts, cub...    NaN   \n",
       "507333  {'': [('wonton wrappers (about 48)', '12  time...      6   \n",
       "507334  {'': [('chunk light tuna, drained well', '4 ti...    6-8   \n",
       "\n",
       "       last_changed_date  ... sugars [g] protein [g] direction_size  \\\n",
       "0             2011-01-29  ...        6.9         0.8              9   \n",
       "1             2009-06-03  ...        6.3        51.3              7   \n",
       "2             2015-01-08  ...       78.0        87.7             12   \n",
       "3             2009-05-17  ...        3.6        51.1              8   \n",
       "4             2007-11-21  ...        4.2        30.3              6   \n",
       "...                  ...  ...        ...         ...            ...   \n",
       "507330        2021-07-20  ...       32.0         7.0              4   \n",
       "507331        2009-09-09  ...        6.5        29.5              8   \n",
       "507332        2012-04-07  ...       33.6       121.5             12   \n",
       "507333        2010-06-23  ...        0.3        19.4              7   \n",
       "507334        2013-01-31  ...        4.2        31.8              1   \n",
       "\n",
       "        ingredients_sizes  who_score  fsa_score  nutri_score  \\\n",
       "0                       9   0.168254      0.000         0.00   \n",
       "1                      10   0.335455      0.625         0.25   \n",
       "2                      17   0.128082      0.000         0.00   \n",
       "3                       8   0.320622      0.375         0.00   \n",
       "4                      12   0.254427      0.500         0.25   \n",
       "...                   ...        ...        ...          ...   \n",
       "507330                 11   0.122160        NaN         0.00   \n",
       "507331                 15   0.123409      0.250         0.00   \n",
       "507332                 10   0.161195      0.000         0.00   \n",
       "507333                 11   0.248843      0.375         0.25   \n",
       "507334                 12   0.329156      0.625         0.25   \n",
       "\n",
       "        normalization_comment  \\\n",
       "0                         NaN   \n",
       "1                         NaN   \n",
       "2                         NaN   \n",
       "3                         NaN   \n",
       "4                         NaN   \n",
       "...                       ...   \n",
       "507330                      *   \n",
       "507331                    NaN   \n",
       "507332                    NaN   \n",
       "507333                    NaN   \n",
       "507334                    NaN   \n",
       "\n",
       "                                  ingredient_food_kg_urls  \\\n",
       "0       ['http://idea.rpi.edu/heals/kb/ingredientname/...   \n",
       "1       ['http://idea.rpi.edu/heals/kb/ingredientname/...   \n",
       "2       ['http://idea.rpi.edu/heals/kb/ingredientname/...   \n",
       "3       ['http://idea.rpi.edu/heals/kb/ingredientname/...   \n",
       "4       ['http://idea.rpi.edu/heals/kb/ingredientname/...   \n",
       "...                                                   ...   \n",
       "507330                                                NaN   \n",
       "507331                                                NaN   \n",
       "507332                                                NaN   \n",
       "507333                                                NaN   \n",
       "507334                                                NaN   \n",
       "\n",
       "                                 ingredient_food_kg_names  \n",
       "0       ['baking soda', 'brown sugar', 'butter', 'corn...  \n",
       "1       ['avocado', 'cilantro', 'cooked shrimp', 'garl...  \n",
       "2       ['cold water', 'condensed milk', 'cornflour', ...  \n",
       "3       ['dried mint flakes', 'dried oregano', 'dried ...  \n",
       "4       ['carrots', 'egg', 'fine dry breadcrumbs', 'ga...  \n",
       "...                                                   ...  \n",
       "507330                                                NaN  \n",
       "507331                                                NaN  \n",
       "507332                                                NaN  \n",
       "507333                                                NaN  \n",
       "507334                                                NaN  \n",
       "\n",
       "[507335 rows x 37 columns]"
      ]
     },
     "execution_count": 11,
     "metadata": {},
     "output_type": "execute_result"
    }
   ],
   "source": [
    "recipes_df"
   ]
  },
  {
   "cell_type": "code",
   "execution_count": 12,
   "id": "dcb4aa82-c2b2-42af-b767-4763b1e786fc",
   "metadata": {},
   "outputs": [
    {
     "name": "stdout",
     "output_type": "stream",
     "text": [
      "Unnamed: 0                       0\n",
      "recipe_id                        0\n",
      "title                            0\n",
      "description                  10107\n",
      "author_id                        0\n",
      "duration                      7338\n",
      "directions                       0\n",
      "ingredients                      2\n",
      "serves                       71398\n",
      "last_changed_date                0\n",
      "food_kg_locator                  0\n",
      "recipe_url                       0\n",
      "tags                        276686\n",
      "new_recipe_id                    0\n",
      "new_author_id                    0\n",
      "average_rating                   0\n",
      "number_of_ratings                0\n",
      "servingsPerRecipe                0\n",
      "servingSize [g]                  0\n",
      "calories [cal]                   0\n",
      "caloriesFromFat [cal]            0\n",
      "totalFat [g]                     0\n",
      "saturatedFat [g]                 0\n",
      "cholesterol [mg]                 0\n",
      "sodium [mg]                      0\n",
      "totalCarbohydrate [g]            0\n",
      "dietaryFiber [g]                 0\n",
      "sugars [g]                       0\n",
      "protein [g]                      0\n",
      "direction_size                   0\n",
      "ingredients_sizes                0\n",
      "who_score                     1127\n",
      "fsa_score                    15504\n",
      "nutri_score                      0\n",
      "normalization_comment       492958\n",
      "ingredient_food_kg_urls      85085\n",
      "ingredient_food_kg_names     85085\n",
      "dtype: int64\n"
     ]
    }
   ],
   "source": [
    "#missing values\n",
    "missing_values = recipes_df.isnull().sum()\n",
    "print(missing_values)"
   ]
  },
  {
   "cell_type": "code",
   "execution_count": 13,
   "id": "83411102-260c-402c-adc5-35d0b491fc39",
   "metadata": {},
   "outputs": [
    {
     "name": "stdout",
     "output_type": "stream",
     "text": [
      "Unnamed: 0                    int64\n",
      "recipe_id                     int64\n",
      "title                        object\n",
      "description                  object\n",
      "author_id                     int64\n",
      "duration                    float64\n",
      "directions                   object\n",
      "ingredients                  object\n",
      "serves                       object\n",
      "last_changed_date            object\n",
      "food_kg_locator              object\n",
      "recipe_url                   object\n",
      "tags                         object\n",
      "new_recipe_id                 int64\n",
      "new_author_id                 int64\n",
      "average_rating              float64\n",
      "number_of_ratings             int64\n",
      "servingsPerRecipe             int64\n",
      "servingSize [g]             float64\n",
      "calories [cal]              float64\n",
      "caloriesFromFat [cal]       float64\n",
      "totalFat [g]                float64\n",
      "saturatedFat [g]            float64\n",
      "cholesterol [mg]            float64\n",
      "sodium [mg]                 float64\n",
      "totalCarbohydrate [g]       float64\n",
      "dietaryFiber [g]            float64\n",
      "sugars [g]                  float64\n",
      "protein [g]                 float64\n",
      "direction_size                int64\n",
      "ingredients_sizes             int64\n",
      "who_score                   float64\n",
      "fsa_score                   float64\n",
      "nutri_score                 float64\n",
      "normalization_comment        object\n",
      "ingredient_food_kg_urls      object\n",
      "ingredient_food_kg_names     object\n",
      "dtype: object\n"
     ]
    }
   ],
   "source": [
    "#data type\n",
    "type = recipes_df.dtypes\n",
    "print(type)"
   ]
  },
  {
   "cell_type": "code",
   "execution_count": 14,
   "id": "f4f3e25c-5a9c-4657-ba3a-c26c8334541a",
   "metadata": {},
   "outputs": [
    {
     "name": "stdout",
     "output_type": "stream",
     "text": [
      "False\n"
     ]
    }
   ],
   "source": [
    "duplicates = recipes_df.duplicated().any()\n",
    "print(duplicates)"
   ]
  },
  {
   "cell_type": "markdown",
   "id": "86c7e656-f3e1-4657-a582-ab8327f345af",
   "metadata": {},
   "source": [
    "**Members**"
   ]
  },
  {
   "cell_type": "code",
   "execution_count": 15,
   "id": "3c3602a9-c053-4a96-bd0a-496e1fb848a8",
   "metadata": {},
   "outputs": [
    {
     "name": "stdout",
     "output_type": "stream",
     "text": [
      "Unnamed: 0                 0\n",
      "member_id                  0\n",
      "member_url                 0\n",
      "member_name                0\n",
      "member_description    260268\n",
      "member_status         230424\n",
      "member_avg_rating     268799\n",
      "member_map_pin        267185\n",
      "member_joined              0\n",
      "follows_count              0\n",
      "follow_me_count            0\n",
      "avatar_url                 0\n",
      "new_member_id              0\n",
      "dtype: int64\n"
     ]
    }
   ],
   "source": [
    "#missing values\n",
    "missing_values = members_df.isnull().sum()\n",
    "print(missing_values)"
   ]
  },
  {
   "cell_type": "code",
   "execution_count": 16,
   "id": "fcec78ba-176c-4015-b247-ce713452cff4",
   "metadata": {},
   "outputs": [
    {
     "name": "stdout",
     "output_type": "stream",
     "text": [
      "Unnamed: 0              int64\n",
      "member_id               int64\n",
      "member_url             object\n",
      "member_name            object\n",
      "member_description     object\n",
      "member_status          object\n",
      "member_avg_rating     float64\n",
      "member_map_pin         object\n",
      "member_joined          object\n",
      "follows_count           int64\n",
      "follow_me_count         int64\n",
      "avatar_url             object\n",
      "new_member_id           int64\n",
      "dtype: object\n"
     ]
    }
   ],
   "source": [
    "#data type\n",
    "type = members_df.dtypes\n",
    "print(type)"
   ]
  },
  {
   "cell_type": "code",
   "execution_count": 17,
   "id": "855aea58-67b7-4cdd-818d-0d3b1992f244",
   "metadata": {},
   "outputs": [
    {
     "name": "stdout",
     "output_type": "stream",
     "text": [
      "False\n"
     ]
    }
   ],
   "source": [
    "duplicates = members_df.duplicated().any()\n",
    "print(duplicates)"
   ]
  },
  {
   "cell_type": "markdown",
   "id": "c4d43507-7432-482e-99b1-47d68e086fe3",
   "metadata": {},
   "source": [
    "## Food Scores"
   ]
  },
  {
   "cell_type": "code",
   "execution_count": 19,
   "id": "600bce4e-294b-45e0-8738-7120a766f381",
   "metadata": {},
   "outputs": [
    {
     "data": {
      "image/png": "[encoded data removed]",
      "text/plain": [
       "<Figure size 640x480 with 1 Axes>"
      ]
     },
     "metadata": {},
     "output_type": "display_data"
    }
   ],
   "source": [
    "# Plot the score distribution histogram\n",
    "plt.hist(recipes_df['who_score'], bins=10)\n",
    "# Add labels and title\n",
    "plt.xlabel('Healthiness Score')\n",
    "plt.ylabel('Count')\n",
    "plt.title('Healthiness Score Distribution')\n",
    "# Show the plot\n",
    "plt.show()"
   ]
  },
  {
   "cell_type": "markdown",
   "id": "ef7fee01-ef22-4850-9215-39bf30b1d405",
   "metadata": {},
   "source": [
    "## Explore DataSet"
   ]
  },
  {
   "cell_type": "code",
   "execution_count": 10,
   "id": "0378ae2a-2f90-4933-88f7-bec40d7618b7",
   "metadata": {
    "scrolled": true
   },
   "outputs": [
    {
     "name": "stdout",
     "output_type": "stream",
     "text": [
      "Removed 0 outliers of duration.\n",
      "Removed 60059 outliers of direction_size.\n",
      "Removed 129546 outliers of totalFat [g].\n",
      "Removed 47705 outliers of calories [cal].\n",
      "Removed 53860 outliers of totalCarbohydrate [g].\n",
      "Removed 138141 outliers of sugars [g].\n"
     ]
    }
   ],
   "source": [
    "# Merge data\n",
    "data_scores = pd.merge(recipes_df, reviews_df, right_on='new_recipe_id', left_on='new_recipe_id')\n",
    "\n",
    "# Copy data set for exploration and remove ingredient/duration/direction_size outliers\n",
    "data_vis = exploration_util.remove_outliers(data_scores, [\"duration\", \"direction_size\", \"totalFat [g]\", \"calories [cal]\", \"totalCarbohydrate [g]\", \"sugars [g]\"])"
   ]
  },
  {
   "cell_type": "code",
   "execution_count": 13,
   "id": "ff206adc-1a03-415f-8dff-6f4b6b957b43",
   "metadata": {},
   "outputs": [
    {
     "data": {
      "text/plain": [
       "(0.0, 20.0)"
      ]
     },
     "execution_count": 13,
     "metadata": {},
     "output_type": "execute_result"
    },
    {
     "data": {
      "image/png": "[encoded data removed]",
      "text/plain": [
       "<Figure size 1500x600 with 2 Axes>"
      ]
     },
     "metadata": {},
     "output_type": "display_data"
    }
   ],
   "source": [
    "# Plot duration & direction_size distribution\n",
    "fig, ax = plt.subplots(1, 2, figsize=(15, 6))\n",
    "sns.distplot(data_vis[\"duration\"], ax=ax[0]).set_xlim(0, 600)\n",
    "ax[1].xaxis.set_major_formatter(pltt.FuncFormatter(lambda x, _: int(x)))\n",
    "sns.distplot(data_vis[\"direction_size\"], ax=ax[1]).set_xlim(0, 20)"
   ]
  },
  {
   "cell_type": "code",
   "execution_count": 14,
   "id": "ab6f52ed-55b9-48cd-b41b-dfeff30cd31e",
   "metadata": {},
   "outputs": [
    {
     "data": {
      "text/plain": [
       "<AxesSubplot: xlabel='totalFat [g]', ylabel='Density'>"
      ]
     },
     "execution_count": 14,
     "metadata": {},
     "output_type": "execute_result"
    },
    {
     "data": {
      "image/png": "[encoded data removed]",
      "text/plain": [
       "<Figure size 3000x1000 with 4 Axes>"
      ]
     },
     "metadata": {},
     "output_type": "display_data"
    }
   ],
   "source": [
    "# Plot ingredient distribution\n",
    "plt.rcParams.update({'font.size': 18})\n",
    "fig, ax = plt.subplots(1, 4, figsize=(30, 10))\n",
    "ax[0].set_ylabel('Density', fontsize = 20)\n",
    "ax[0].set_xlabel('calories [cal]', fontsize = 20)\n",
    "sns.distplot(data_vis[\"calories [cal]\"].to_numpy(), ax=ax[0])\n",
    "ax[1].set_ylabel('', fontsize = 0)\n",
    "ax[1].set_xlabel('totalCarbohydrate [g]', fontsize = 20)\n",
    "sns.distplot(data_vis[\"totalCarbohydrate [g]\"].to_numpy(), ax=ax[1])\n",
    "ax[2].set_ylabel('', fontsize = 0)\n",
    "ax[2].set_xlabel('sugars [g]', fontsize = 20)\n",
    "sns.distplot(data_vis[\"sugars [g]\"].to_numpy(), ax=ax[2])\n",
    "ax[3].set_ylabel('', fontsize = 0)\n",
    "ax[3].set_xlabel('totalFat [g]', fontsize = 20)\n",
    "sns.distplot(data_vis[\"totalFat [g]\"].to_numpy(), ax=ax[3])"
   ]
  },
  {
   "cell_type": "code",
   "execution_count": 15,
   "id": "49dfa28a-61aa-40e8-b02f-7ee48347ae9c",
   "metadata": {},
   "outputs": [],
   "source": [
    "# Format data for heatmap\n",
    "data_vis = data_vis.rename(columns={'servingSize [g]':'serSize', 'calories [cal]':'calories', 'caloriesFromFat [cal]':'calFromFat', 'totalFat [g]':'totalFat', 'cholesterol [mg]':'cholesterol', 'sodium [mg]':'sodium', 'dietaryFiber [g]':'dietaryFiber', 'sugars [g]':'sugars', 'protein [g]':'protein', 'saturatedFat [g]': 'satFat', 'totalCarbohydrate [g]': 'totalCarbs', 'direction_size': '#steps', 'ingredients_sizes': '#ingred', 'rating_y': 'rating'})\n",
    "data_vis.drop([\"new_recipe_id\"], axis=1, inplace=True)\n",
    "data_vis.drop([\"servingsPerRecipe\"], axis=1, inplace=True)\n",
    "data_vis.drop([\"new_member_id\"], axis=1, inplace=True)\n",
    "data_vis.drop([\"new_author_id\"], axis=1, inplace=True)"
   ]
  },
  {
   "cell_type": "code",
   "execution_count": 18,
   "id": "3ed4a567-169c-40a7-bc9f-599811121e73",
   "metadata": {},
   "outputs": [
    {
     "data": {
      "image/png": "[encoded data removed]",
      "text/plain": [
       "<Figure size 1400x1000 with 2 Axes>"
      ]
     },
     "metadata": {},
     "output_type": "display_data"
    }
   ],
   "source": [
    "# Plot heatmap of nutrients, direction_size, ingredient_size and ratings to show correlations\n",
    "# Seleciona apenas as colunas numéricas\n",
    "data_vis_numeric = data_vis.select_dtypes(include=[np.number])\n",
    "\n",
    "plt.rcParams.update({'font.size': 8})\n",
    "plt.figure(figsize=(14, 10))\n",
    "sns.heatmap(data_vis_numeric.corr(), annot=True, fmt='.2f')\n",
    "plt.show()"
   ]
  },
  {
   "cell_type": "markdown",
   "id": "e30b97bf-a867-4f64-a4f3-4ee584e856a8",
   "metadata": {
    "jp-MarkdownHeadingCollapsed": true
   },
   "source": [
    "## RS - Implici Lib"
   ]
  },
  {
   "cell_type": "code",
   "execution_count": 9,
   "id": "c4fb8d09-01a6-424d-9705-dfb6d17570d9",
   "metadata": {},
   "outputs": [],
   "source": [
    "# Build a sparse matrix (user x recipe x ratings)\n",
    "user_recipe_matrix = csr_matrix((reviews_df['rating'], (reviews_df['new_member_id'], reviews_df['new_recipe_id'])))\n",
    "\n",
    "# Test/train split #Alternatively use implicit.evaluation.leave_k_out_split to force each user being in both sets\n",
    "train_matrix, test_matrix = implicit.evaluation.train_test_split(user_recipe_matrix.tocsr().tocoo())\n",
    "\n",
    "# Get users/recipes in the train set (or test set respectively)\n",
    "train_user, train_recipe = implicit_util.tuple_to_unique(train_matrix.tocsr().nonzero())\n",
    "test_user, test_recipe = implicit_util.tuple_to_unique(test_matrix.tocsr().nonzero())"
   ]
  },
  {
   "cell_type": "code",
   "execution_count": 10,
   "id": "4a9bc1a6-e0f1-4961-807d-33d57b97bf7a",
   "metadata": {},
   "outputs": [
    {
     "name": "stdout",
     "output_type": "stream",
     "text": [
      "99.99875089842432\n"
     ]
    }
   ],
   "source": [
    "# Calculate the sparsity [in %]\n",
    "A = user_recipe_matrix.toarray()\n",
    "sparsity = 1.0 - (np.count_nonzero(A) / float(A.size) )\n",
    "print(sparsity * 100)"
   ]
  },
  {
   "cell_type": "code",
   "execution_count": 11,
   "id": "f08c97bb-0861-48c9-bcce-b46db88c40f3",
   "metadata": {},
   "outputs": [
    {
     "name": "stdout",
     "output_type": "stream",
     "text": [
      "getting model als\n"
     ]
    },
    {
     "data": {
      "application/vnd.jupyter.widget-view+json": {
       "model_id": "2989156d9d8c4574972cadbe04a8b38a",
       "version_major": 2,
       "version_minor": 0
      },
      "text/plain": [
       "  0%|          | 0/30 [00:00<?, ?it/s]"
      ]
     },
     "metadata": {},
     "output_type": "display_data"
    },
    {
     "data": {
      "application/vnd.jupyter.widget-view+json": {
       "model_id": "cfe752dd94854bc6a80ca57e08291bc3",
       "version_major": 2,
       "version_minor": 0
      },
      "text/plain": [
       "  0%|          | 0/257749 [00:00<?, ?it/s]"
      ]
     },
     "metadata": {},
     "output_type": "display_data"
    },
    {
     "data": {
      "application/vnd.jupyter.widget-view+json": {
       "model_id": "12bcb01ed896428fbeb4ebce2ddfd449",
       "version_major": 2,
       "version_minor": 0
      },
      "text/plain": [
       "  0%|          | 0/455202 [00:00<?, ?it/s]"
      ]
     },
     "metadata": {},
     "output_type": "display_data"
    },
    {
     "data": {
      "application/vnd.jupyter.widget-view+json": {
       "model_id": "b05cf4882ba945cfbfa697cef449403f",
       "version_major": 2,
       "version_minor": 0
      },
      "text/plain": [
       "  0%|          | 0/257749 [00:00<?, ?it/s]"
      ]
     },
     "metadata": {},
     "output_type": "display_data"
    },
    {
     "name": "stdout",
     "output_type": "stream",
     "text": [
      "getting model annoy_als\n"
     ]
    },
    {
     "data": {
      "application/vnd.jupyter.widget-view+json": {
       "model_id": "46049cacfc934f52a5bb655804f601c7",
       "version_major": 2,
       "version_minor": 0
      },
      "text/plain": [
       "  0%|          | 0/15 [00:00<?, ?it/s]"
      ]
     },
     "metadata": {},
     "output_type": "display_data"
    },
    {
     "data": {
      "application/vnd.jupyter.widget-view+json": {
       "model_id": "a3c99d4c9b8c4ee6b02070d24a02b0e1",
       "version_major": 2,
       "version_minor": 0
      },
      "text/plain": [
       "  0%|          | 0/257749 [00:00<?, ?it/s]"
      ]
     },
     "metadata": {},
     "output_type": "display_data"
    },
    {
     "data": {
      "application/vnd.jupyter.widget-view+json": {
       "model_id": "dbfd887919574cbb86f67742658dfceb",
       "version_major": 2,
       "version_minor": 0
      },
      "text/plain": [
       "  0%|          | 0/455202 [00:00<?, ?it/s]"
      ]
     },
     "metadata": {},
     "output_type": "display_data"
    },
    {
     "data": {
      "application/vnd.jupyter.widget-view+json": {
       "model_id": "f1f6dca7be5b418f8623b1d57f304a53",
       "version_major": 2,
       "version_minor": 0
      },
      "text/plain": [
       "  0%|          | 0/257749 [00:00<?, ?it/s]"
      ]
     },
     "metadata": {},
     "output_type": "display_data"
    },
    {
     "name": "stdout",
     "output_type": "stream",
     "text": [
      "Current model does not support the method similar_users()\n",
      "getting model tfidf\n"
     ]
    },
    {
     "data": {
      "application/vnd.jupyter.widget-view+json": {
       "model_id": "1fd10655d4bd4a13a8f10cead17e26c8",
       "version_major": 2,
       "version_minor": 0
      },
      "text/plain": [
       "  0%|          | 0/507335 [00:00<?, ?it/s]"
      ]
     },
     "metadata": {},
     "output_type": "display_data"
    },
    {
     "data": {
      "application/vnd.jupyter.widget-view+json": {
       "model_id": "979f685d38f344c685d9f505491ff66e",
       "version_major": 2,
       "version_minor": 0
      },
      "text/plain": [
       "  0%|          | 0/257749 [00:00<?, ?it/s]"
      ]
     },
     "metadata": {},
     "output_type": "display_data"
    },
    {
     "data": {
      "application/vnd.jupyter.widget-view+json": {
       "model_id": "a1d94fe47cd741e38bcc31a8e4c3f2f1",
       "version_major": 2,
       "version_minor": 0
      },
      "text/plain": [
       "  0%|          | 0/455202 [00:00<?, ?it/s]"
      ]
     },
     "metadata": {},
     "output_type": "display_data"
    },
    {
     "data": {
      "application/vnd.jupyter.widget-view+json": {
       "model_id": "83771cb7c9314d1580d656181fdab197",
       "version_major": 2,
       "version_minor": 0
      },
      "text/plain": [
       "  0%|          | 0/257749 [00:00<?, ?it/s]"
      ]
     },
     "metadata": {},
     "output_type": "display_data"
    },
    {
     "name": "stdout",
     "output_type": "stream",
     "text": [
      "Current model does not support the method similar_users()\n",
      "getting model cosine\n"
     ]
    },
    {
     "data": {
      "application/vnd.jupyter.widget-view+json": {
       "model_id": "56722e18ce8a45fdb0345113f419da79",
       "version_major": 2,
       "version_minor": 0
      },
      "text/plain": [
       "  0%|          | 0/507335 [00:00<?, ?it/s]"
      ]
     },
     "metadata": {},
     "output_type": "display_data"
    },
    {
     "data": {
      "application/vnd.jupyter.widget-view+json": {
       "model_id": "04b706d8743c4c6abee121ad71bd55a0",
       "version_major": 2,
       "version_minor": 0
      },
      "text/plain": [
       "  0%|          | 0/257749 [00:00<?, ?it/s]"
      ]
     },
     "metadata": {},
     "output_type": "display_data"
    },
    {
     "data": {
      "application/vnd.jupyter.widget-view+json": {
       "model_id": "f032e0515e674273a64d5620e435abb3",
       "version_major": 2,
       "version_minor": 0
      },
      "text/plain": [
       "  0%|          | 0/455202 [00:00<?, ?it/s]"
      ]
     },
     "metadata": {},
     "output_type": "display_data"
    },
    {
     "data": {
      "application/vnd.jupyter.widget-view+json": {
       "model_id": "8006f80139f64175a63f7838945dd064",
       "version_major": 2,
       "version_minor": 0
      },
      "text/plain": [
       "  0%|          | 0/257749 [00:00<?, ?it/s]"
      ]
     },
     "metadata": {},
     "output_type": "display_data"
    },
    {
     "name": "stdout",
     "output_type": "stream",
     "text": [
      "Current model does not support the method similar_users()\n",
      "getting model bpr\n"
     ]
    },
    {
     "data": {
      "application/vnd.jupyter.widget-view+json": {
       "model_id": "c058b8a917cf452a9780d352800039e4",
       "version_major": 2,
       "version_minor": 0
      },
      "text/plain": [
       "  0%|          | 0/100 [00:00<?, ?it/s]"
      ]
     },
     "metadata": {},
     "output_type": "display_data"
    },
    {
     "data": {
      "application/vnd.jupyter.widget-view+json": {
       "model_id": "fcf757b89b464c819e6bfc494c832e12",
       "version_major": 2,
       "version_minor": 0
      },
      "text/plain": [
       "  0%|          | 0/257749 [00:00<?, ?it/s]"
      ]
     },
     "metadata": {},
     "output_type": "display_data"
    },
    {
     "data": {
      "application/vnd.jupyter.widget-view+json": {
       "model_id": "bf515a10eabd4a71b90ddc7504c2caee",
       "version_major": 2,
       "version_minor": 0
      },
      "text/plain": [
       "  0%|          | 0/455202 [00:00<?, ?it/s]"
      ]
     },
     "metadata": {},
     "output_type": "display_data"
    },
    {
     "data": {
      "application/vnd.jupyter.widget-view+json": {
       "model_id": "80f038c11c1d40149333ada4177798e5",
       "version_major": 2,
       "version_minor": 0
      },
      "text/plain": [
       "  0%|          | 0/257749 [00:00<?, ?it/s]"
      ]
     },
     "metadata": {},
     "output_type": "display_data"
    },
    {
     "name": "stdout",
     "output_type": "stream",
     "text": [
      "getting model lmf\n"
     ]
    },
    {
     "data": {
      "application/vnd.jupyter.widget-view+json": {
       "model_id": "f0009dde4bd84d49aaa6f7bfbcb858e3",
       "version_major": 2,
       "version_minor": 0
      },
      "text/plain": [
       "  0%|          | 0/40 [00:00<?, ?it/s]"
      ]
     },
     "metadata": {},
     "output_type": "display_data"
    },
    {
     "data": {
      "application/vnd.jupyter.widget-view+json": {
       "model_id": "2b938b08730141b9823d674ac8d6510a",
       "version_major": 2,
       "version_minor": 0
      },
      "text/plain": [
       "  0%|          | 0/257749 [00:00<?, ?it/s]"
      ]
     },
     "metadata": {},
     "output_type": "display_data"
    },
    {
     "data": {
      "application/vnd.jupyter.widget-view+json": {
       "model_id": "50e5660312654a5996eec175dfb2e748",
       "version_major": 2,
       "version_minor": 0
      },
      "text/plain": [
       "  0%|          | 0/455202 [00:00<?, ?it/s]"
      ]
     },
     "metadata": {},
     "output_type": "display_data"
    },
    {
     "data": {
      "application/vnd.jupyter.widget-view+json": {
       "model_id": "95cd6c39a386492498761886d23a848a",
       "version_major": 2,
       "version_minor": 0
      },
      "text/plain": [
       "  0%|          | 0/257749 [00:00<?, ?it/s]"
      ]
     },
     "metadata": {},
     "output_type": "display_data"
    },
    {
     "name": "stdout",
     "output_type": "stream",
     "text": [
      "getting model bm25\n"
     ]
    },
    {
     "data": {
      "application/vnd.jupyter.widget-view+json": {
       "model_id": "258e4645df164afd8ceafe62d4ea00d1",
       "version_major": 2,
       "version_minor": 0
      },
      "text/plain": [
       "  0%|          | 0/507335 [00:00<?, ?it/s]"
      ]
     },
     "metadata": {},
     "output_type": "display_data"
    },
    {
     "data": {
      "application/vnd.jupyter.widget-view+json": {
       "model_id": "43d774a0233c43088b45342b4d793351",
       "version_major": 2,
       "version_minor": 0
      },
      "text/plain": [
       "  0%|          | 0/257749 [00:00<?, ?it/s]"
      ]
     },
     "metadata": {},
     "output_type": "display_data"
    },
    {
     "data": {
      "application/vnd.jupyter.widget-view+json": {
       "model_id": "a7001c81e2524dbaa6da94fbe5d47c59",
       "version_major": 2,
       "version_minor": 0
      },
      "text/plain": [
       "  0%|          | 0/455202 [00:00<?, ?it/s]"
      ]
     },
     "metadata": {},
     "output_type": "display_data"
    },
    {
     "data": {
      "application/vnd.jupyter.widget-view+json": {
       "model_id": "b956ed38310f4ea3bd205f2f63d82234",
       "version_major": 2,
       "version_minor": 0
      },
      "text/plain": [
       "  0%|          | 0/257749 [00:00<?, ?it/s]"
      ]
     },
     "metadata": {},
     "output_type": "display_data"
    },
    {
     "name": "stdout",
     "output_type": "stream",
     "text": [
      "Current model does not support the method similar_users()\n",
      "getting model ii\n"
     ]
    },
    {
     "data": {
      "application/vnd.jupyter.widget-view+json": {
       "model_id": "fd6aec3140a5423e9358ad915920fe75",
       "version_major": 2,
       "version_minor": 0
      },
      "text/plain": [
       "  0%|          | 0/507335 [00:00<?, ?it/s]"
      ]
     },
     "metadata": {},
     "output_type": "display_data"
    },
    {
     "data": {
      "application/vnd.jupyter.widget-view+json": {
       "model_id": "33437ed95b3e4b4787cd43ed1740960f",
       "version_major": 2,
       "version_minor": 0
      },
      "text/plain": [
       "  0%|          | 0/257749 [00:00<?, ?it/s]"
      ]
     },
     "metadata": {},
     "output_type": "display_data"
    },
    {
     "data": {
      "application/vnd.jupyter.widget-view+json": {
       "model_id": "d2df70a1c73045358bc565007de13ede",
       "version_major": 2,
       "version_minor": 0
      },
      "text/plain": [
       "  0%|          | 0/455202 [00:00<?, ?it/s]"
      ]
     },
     "metadata": {},
     "output_type": "display_data"
    },
    {
     "data": {
      "application/vnd.jupyter.widget-view+json": {
       "model_id": "04f75a198b864f779d3b619300f4d9ab",
       "version_major": 2,
       "version_minor": 0
      },
      "text/plain": [
       "  0%|          | 0/257749 [00:00<?, ?it/s]"
      ]
     },
     "metadata": {},
     "output_type": "display_data"
    },
    {
     "name": "stdout",
     "output_type": "stream",
     "text": [
      "Current model does not support the method similar_users()\n"
     ]
    }
   ],
   "source": [
    "# Executes all models, exception on Windows/Python3.10: nmslib_als, faiss_als\n",
    "evaluation, recommendations, similar_items, similar_users = implicit_util.train_and_execute_all(train_matrix, test_matrix, train_user, train_recipe, ['nmslib_als', 'faiss_als'], K=10)"
   ]
  },
  {
   "cell_type": "code",
   "execution_count": 12,
   "id": "eb5ce20d-21b5-48e6-9650-3422065035d7",
   "metadata": {},
   "outputs": [
    {
     "data": {
      "text/html": [
       "<div>\n",
       "<style scoped>\n",
       "    .dataframe tbody tr th:only-of-type {\n",
       "        vertical-align: middle;\n",
       "    }\n",
       "\n",
       "    .dataframe tbody tr th {\n",
       "        vertical-align: top;\n",
       "    }\n",
       "\n",
       "    .dataframe thead th {\n",
       "        text-align: right;\n",
       "    }\n",
       "</style>\n",
       "<table border=\"1\" class=\"dataframe\">\n",
       "  <thead>\n",
       "    <tr style=\"text-align: right;\">\n",
       "      <th></th>\n",
       "      <th>ndcg@10</th>\n",
       "      <th>map@10</th>\n",
       "      <th>p@10</th>\n",
       "      <th>auc@10</th>\n",
       "    </tr>\n",
       "    <tr>\n",
       "      <th>model</th>\n",
       "      <th></th>\n",
       "      <th></th>\n",
       "      <th></th>\n",
       "      <th></th>\n",
       "    </tr>\n",
       "  </thead>\n",
       "  <tbody>\n",
       "    <tr>\n",
       "      <th>als</th>\n",
       "      <td>0.005977</td>\n",
       "      <td>0.003447</td>\n",
       "      <td>0.013514</td>\n",
       "      <td>0.503658</td>\n",
       "    </tr>\n",
       "    <tr>\n",
       "      <th>annoy_als</th>\n",
       "      <td>0.005804</td>\n",
       "      <td>0.003242</td>\n",
       "      <td>0.013981</td>\n",
       "      <td>0.503545</td>\n",
       "    </tr>\n",
       "    <tr>\n",
       "      <th>tfidf</th>\n",
       "      <td>0.004260</td>\n",
       "      <td>0.003286</td>\n",
       "      <td>0.006036</td>\n",
       "      <td>0.502384</td>\n",
       "    </tr>\n",
       "    <tr>\n",
       "      <th>cosine</th>\n",
       "      <td>0.003646</td>\n",
       "      <td>0.002941</td>\n",
       "      <td>0.004548</td>\n",
       "      <td>0.502126</td>\n",
       "    </tr>\n",
       "    <tr>\n",
       "      <th>bpr</th>\n",
       "      <td>0.001618</td>\n",
       "      <td>0.000839</td>\n",
       "      <td>0.004698</td>\n",
       "      <td>0.500775</td>\n",
       "    </tr>\n",
       "    <tr>\n",
       "      <th>lmf</th>\n",
       "      <td>0.006415</td>\n",
       "      <td>0.003949</td>\n",
       "      <td>0.008987</td>\n",
       "      <td>0.506478</td>\n",
       "    </tr>\n",
       "    <tr>\n",
       "      <th>bm25</th>\n",
       "      <td>0.003740</td>\n",
       "      <td>0.002839</td>\n",
       "      <td>0.005435</td>\n",
       "      <td>0.502081</td>\n",
       "    </tr>\n",
       "    <tr>\n",
       "      <th>ii</th>\n",
       "      <td>0.008753</td>\n",
       "      <td>0.005928</td>\n",
       "      <td>0.016278</td>\n",
       "      <td>0.505215</td>\n",
       "    </tr>\n",
       "  </tbody>\n",
       "</table>\n",
       "</div>"
      ],
      "text/plain": [
       "            ndcg@10    map@10      p@10    auc@10\n",
       "model                                            \n",
       "als        0.005977  0.003447  0.013514  0.503658\n",
       "annoy_als  0.005804  0.003242  0.013981  0.503545\n",
       "tfidf      0.004260  0.003286  0.006036  0.502384\n",
       "cosine     0.003646  0.002941  0.004548  0.502126\n",
       "bpr        0.001618  0.000839  0.004698  0.500775\n",
       "lmf        0.006415  0.003949  0.008987  0.506478\n",
       "bm25       0.003740  0.002839  0.005435  0.502081\n",
       "ii         0.008753  0.005928  0.016278  0.505215"
      ]
     },
     "execution_count": 12,
     "metadata": {},
     "output_type": "execute_result"
    }
   ],
   "source": [
    "# Show evaluation results\n",
    "evaluation"
   ]
  },
  {
   "cell_type": "code",
   "execution_count": 13,
   "id": "5e1ad81a-3c1d-4d77-a43d-0405e8ccb28e",
   "metadata": {},
   "outputs": [
    {
     "data": {
      "text/plain": [
       "{'als':          user_id  item_id         score\n",
       " 0              0   205530  1.377395e-01\n",
       " 1              0   373713  9.816767e-02\n",
       " 2              0    94958  9.205101e-02\n",
       " 3              0   378770  8.828967e-02\n",
       " 4              0    34821  8.442179e-02\n",
       " ...          ...      ...           ...\n",
       " 2577485   302409   214485  8.040163e-14\n",
       " 2577486   302409    53754  8.021841e-14\n",
       " 2577487   302409   182625  7.995904e-14\n",
       " 2577488   302409    46113  7.992892e-14\n",
       " 2577489   302409   199326  7.887431e-14\n",
       " \n",
       " [2577490 rows x 3 columns],\n",
       " 'annoy_als':          user_id  item_id         score\n",
       " 0              0   358362  1.630869e-01\n",
       " 1              0    94958  1.321275e-01\n",
       " 2              0   157053  1.145341e-01\n",
       " 3              0   503873  1.125318e-01\n",
       " 4              0   347197  1.056263e-01\n",
       " ...          ...      ...           ...\n",
       " 2577485   302409   188825  1.296456e-13\n",
       " 2577486   302409   168632  1.191618e-13\n",
       " 2577487   302409   136287  1.110987e-13\n",
       " 2577488   302409   331526  1.073824e-13\n",
       " 2577489   302409   116025  1.038506e-13\n",
       " \n",
       " [2577490 rows x 3 columns],\n",
       " 'tfidf':          user_id  item_id         score\n",
       " 0              0   500128  3.935509e+00\n",
       " 1              0   489501  3.935509e+00\n",
       " 2              0   411674  3.935509e+00\n",
       " 3              0   236126  3.935509e+00\n",
       " 4              0   214042  3.935509e+00\n",
       " ...          ...      ...           ...\n",
       " 2577485   302409       -1 -3.402823e+38\n",
       " 2577486   302409       -1 -3.402823e+38\n",
       " 2577487   302409       -1 -3.402823e+38\n",
       " 2577488   302409       -1 -3.402823e+38\n",
       " 2577489   302409       -1 -3.402823e+38\n",
       " \n",
       " [2577490 rows x 3 columns],\n",
       " 'cosine':          user_id  item_id         score\n",
       " 0              0   487542  3.930987e+00\n",
       " 1              0   335940  3.661460e+00\n",
       " 2              0   484990  3.606438e+00\n",
       " 3              0    56559  3.606438e+00\n",
       " 4              0   311951  3.585915e+00\n",
       " ...          ...      ...           ...\n",
       " 2577485   302409       -1 -3.402823e+38\n",
       " 2577486   302409       -1 -3.402823e+38\n",
       " 2577487   302409       -1 -3.402823e+38\n",
       " 2577488   302409       -1 -3.402823e+38\n",
       " 2577489   302409       -1 -3.402823e+38\n",
       " \n",
       " [2577490 rows x 3 columns],\n",
       " 'bpr':          user_id  item_id     score\n",
       " 0              0   486585  2.488213\n",
       " 1              0   232661  2.088574\n",
       " 2              0    22306  2.045537\n",
       " 3              0    71761  2.045392\n",
       " 4              0    46737  1.997765\n",
       " ...          ...      ...       ...\n",
       " 2577485   302409   250234  0.673473\n",
       " 2577486   302409    40212  0.671872\n",
       " 2577487   302409   438012  0.663063\n",
       " 2577488   302409     5735  0.660296\n",
       " 2577489   302409   288661  0.656270\n",
       " \n",
       " [2577490 rows x 3 columns],\n",
       " 'lmf':          user_id  item_id      score\n",
       " 0              0   207782  18.983154\n",
       " 1              0   139653  15.364449\n",
       " 2              0   448211  13.545671\n",
       " 3              0    94958  13.074997\n",
       " 4              0   463761  12.886173\n",
       " ...          ...      ...        ...\n",
       " 2577485   302409   258229   5.938752\n",
       " 2577486   302409   191494   5.839920\n",
       " 2577487   302409   386121   5.685217\n",
       " 2577488   302409   186596   5.529814\n",
       " 2577489   302409   340745   5.469533\n",
       " \n",
       " [2577490 rows x 3 columns],\n",
       " 'bm25':          user_id  item_id         score\n",
       " 0              0   487542  2.309600e+04\n",
       " 1              0   146177  2.133334e+04\n",
       " 2              0   335940  2.113413e+04\n",
       " 3              0   500128  2.088476e+04\n",
       " 4              0   489501  2.088476e+04\n",
       " ...          ...      ...           ...\n",
       " 2577485   302409       -1 -3.402823e+38\n",
       " 2577486   302409       -1 -3.402823e+38\n",
       " 2577487   302409       -1 -3.402823e+38\n",
       " 2577488   302409       -1 -3.402823e+38\n",
       " 2577489   302409       -1 -3.402823e+38\n",
       " \n",
       " [2577490 rows x 3 columns],\n",
       " 'ii':          user_id  item_id         score\n",
       " 0              0   205530  2.603250e+04\n",
       " 1              0   373713  1.588150e+04\n",
       " 2              0   331526  1.264000e+04\n",
       " 3              0   378770  1.034250e+04\n",
       " 4              0   257493  1.025750e+04\n",
       " ...          ...      ...           ...\n",
       " 2577485   302409       -1 -3.402823e+38\n",
       " 2577486   302409       -1 -3.402823e+38\n",
       " 2577487   302409       -1 -3.402823e+38\n",
       " 2577488   302409       -1 -3.402823e+38\n",
       " 2577489   302409       -1 -3.402823e+38\n",
       " \n",
       " [2577490 rows x 3 columns]}"
      ]
     },
     "execution_count": 13,
     "metadata": {},
     "output_type": "execute_result"
    }
   ],
   "source": [
    "recommendations"
   ]
  },
  {
   "cell_type": "code",
   "execution_count": 14,
   "id": "4af781df-2c79-4599-ba40-05887faab5b4",
   "metadata": {},
   "outputs": [
    {
     "data": {
      "text/plain": [
       "{'als':          item_id  other_item_id     score\n",
       " 0              0         119579  1.000000\n",
       " 1              0         132770  1.000000\n",
       " 2              0          92030  1.000000\n",
       " 3              0          86133  1.000000\n",
       " 4              0          71134  1.000000\n",
       " ...          ...            ...       ...\n",
       " 5007217   507334         404454  0.986811\n",
       " 5007218   507334         420108  0.986386\n",
       " 5007219   507334         380703  0.985710\n",
       " 5007220   507334          80012  0.983688\n",
       " 5007221   507334         207559  0.982298\n",
       " \n",
       " [5007222 rows x 3 columns],\n",
       " 'annoy_als':          item_id  other_item_id     score\n",
       " 0              0         278172  1.000000\n",
       " 1              0          39027  1.000000\n",
       " 2              0         119359  1.000000\n",
       " 3              0         115674  1.000000\n",
       " 4              0          74619  1.000000\n",
       " ...          ...            ...       ...\n",
       " 5007217   507334         257535  0.729042\n",
       " 5007218   507334         389433  0.727885\n",
       " 5007219   507334         280827  0.727855\n",
       " 5007220   507334           3176  0.725947\n",
       " 5007221   507334         207559  0.725597\n",
       " \n",
       " [5007222 rows x 3 columns],\n",
       " 'tfidf':          item_id  other_item_id     score\n",
       " 0              0         503725  1.000000\n",
       " 1              0         462900  1.000000\n",
       " 2              0         433293  1.000000\n",
       " 3              0         440230  1.000000\n",
       " 4              0         442607  1.000000\n",
       " ...          ...            ...       ...\n",
       " 5007217   507334         354695  0.310894\n",
       " 5007218   507334         446133  0.310894\n",
       " 5007219   507334         334528  0.310894\n",
       " 5007220   507334         292359  0.310894\n",
       " 5007221   507334         491156  0.310894\n",
       " \n",
       " [5007222 rows x 3 columns],\n",
       " 'cosine':          item_id  other_item_id     score\n",
       " 0              0         503725  1.000000\n",
       " 1              0         462900  1.000000\n",
       " 2              0         433293  1.000000\n",
       " 3              0         440230  1.000000\n",
       " 4              0         442607  1.000000\n",
       " ...          ...            ...       ...\n",
       " 5007217   507334         480059  0.476957\n",
       " 5007218   507334         480165  0.476957\n",
       " 5007219   507334         481685  0.476957\n",
       " 5007220   507334         485116  0.476957\n",
       " 5007221   507334         485576  0.476957\n",
       " \n",
       " [5007222 rows x 3 columns],\n",
       " 'bpr':          item_id  other_item_id     score\n",
       " 0              0              0  1.000000\n",
       " 1              0         466089  0.987726\n",
       " 2              0         430939  0.987326\n",
       " 3              0         177198  0.987090\n",
       " 4              0         478753  0.986631\n",
       " ...          ...            ...       ...\n",
       " 5007217   507334          97311  0.714966\n",
       " 5007218   507334          76720  0.711639\n",
       " 5007219   507334         219846  0.708335\n",
       " 5007220   507334          14711  0.708071\n",
       " 5007221   507334         479593  0.706377\n",
       " \n",
       " [5007222 rows x 3 columns],\n",
       " 'lmf':          item_id  other_item_id     score\n",
       " 0              0              0  1.000000\n",
       " 1              0         252063  0.987533\n",
       " 2              0         371816  0.987023\n",
       " 3              0         465576  0.986598\n",
       " 4              0         459494  0.985815\n",
       " ...          ...            ...       ...\n",
       " 5007217   507334         475392  0.930991\n",
       " 5007218   507334           4087  0.929643\n",
       " 5007219   507334          22782  0.928944\n",
       " 5007220   507334         502589  0.928657\n",
       " 5007221   507334         430678  0.927404\n",
       " \n",
       " [5007222 rows x 3 columns],\n",
       " 'bm25':          item_id  other_item_id        score\n",
       " 0              0         503725  3239.075928\n",
       " 1              0         462900  3239.075928\n",
       " 2              0         433293  3239.075928\n",
       " 3              0         440230  3239.075928\n",
       " 4              0         442607  3239.075928\n",
       " ...          ...            ...          ...\n",
       " 5007217   507334          68282  1296.948608\n",
       " 5007218   507334          76549  1296.948608\n",
       " 5007219   507334          81332  1296.948608\n",
       " 5007220   507334         117229  1296.948608\n",
       " 5007221   507334         213405  1296.948608\n",
       " \n",
       " [5007222 rows x 3 columns],\n",
       " 'ii':          item_id  other_item_id  score\n",
       " 0              0         503725   36.0\n",
       " 1              0         471420   36.0\n",
       " 2              0         453504   36.0\n",
       " 3              0         459092   36.0\n",
       " 4              0         459149   36.0\n",
       " ...          ...            ...    ...\n",
       " 5007217   507334         320636   50.0\n",
       " 5007218   507334          54066   49.0\n",
       " 5007219   507334         404092   43.0\n",
       " 5007220   507334          94958   37.0\n",
       " 5007221   507334         500895   36.0\n",
       " \n",
       " [5007222 rows x 3 columns]}"
      ]
     },
     "execution_count": 14,
     "metadata": {},
     "output_type": "execute_result"
    }
   ],
   "source": [
    "similar_items"
   ]
  },
  {
   "cell_type": "code",
   "execution_count": 15,
   "id": "fdfe0811-0633-47e9-9cdf-35ccb95fb3ab",
   "metadata": {},
   "outputs": [
    {
     "data": {
      "text/plain": [
       "{'als':          user_id  other_user_id     score\n",
       " 0              0              0  1.000000\n",
       " 1              0          63792  0.999636\n",
       " 2              0          69150  0.999086\n",
       " 3              0          90209  0.999086\n",
       " 4              0          60619  0.998314\n",
       " ...          ...            ...       ...\n",
       " 2835234   302409         186372  0.999305\n",
       " 2835235   302409         252668  0.999292\n",
       " 2835236   302409          78583  0.999231\n",
       " 2835237   302409         298823  0.999211\n",
       " 2835238   302409         236266  0.999099\n",
       " \n",
       " [2835239 rows x 3 columns],\n",
       " 'annoy_als': Empty DataFrame\n",
       " Columns: [user_id, other_user_id, score]\n",
       " Index: [],\n",
       " 'tfidf': Empty DataFrame\n",
       " Columns: [user_id, other_user_id, score]\n",
       " Index: [],\n",
       " 'cosine': Empty DataFrame\n",
       " Columns: [user_id, other_user_id, score]\n",
       " Index: [],\n",
       " 'bpr':          user_id  other_user_id     score\n",
       " 0              0              0  1.000000\n",
       " 1              0          49491  0.687110\n",
       " 2              0           1520  0.662207\n",
       " 3              0          48365  0.657719\n",
       " 4              0         110744  0.652565\n",
       " ...          ...            ...       ...\n",
       " 2835234   302409         296928  0.998084\n",
       " 2835235   302409          80930  0.998068\n",
       " 2835236   302409         230703  0.998036\n",
       " 2835237   302409         285234  0.998030\n",
       " 2835238   302409          99388  0.998026\n",
       " \n",
       " [2835239 rows x 3 columns],\n",
       " 'lmf':          user_id  other_user_id     score\n",
       " 0              0              0  1.000000\n",
       " 1              0          17090  0.817737\n",
       " 2              0           4959  0.788936\n",
       " 3              0           9486  0.762135\n",
       " 4              0           7274  0.758340\n",
       " ...          ...            ...       ...\n",
       " 2835234   302409          56897  0.710804\n",
       " 2835235   302409         253199  0.708471\n",
       " 2835236   302409         266614  0.706785\n",
       " 2835237   302409         272047  0.706571\n",
       " 2835238   302409         225487  0.704256\n",
       " \n",
       " [2835239 rows x 3 columns],\n",
       " 'bm25': Empty DataFrame\n",
       " Columns: [user_id, other_user_id, score]\n",
       " Index: [],\n",
       " 'ii': Empty DataFrame\n",
       " Columns: [user_id, other_user_id, score]\n",
       " Index: []}"
      ]
     },
     "execution_count": 15,
     "metadata": {},
     "output_type": "execute_result"
    }
   ],
   "source": [
    "similar_users"
   ]
  },
  {
   "cell_type": "markdown",
   "id": "f69bd880-3f93-497d-afbd-8e038b33763f",
   "metadata": {},
   "source": [
    "## RS - Recommender Lib"
   ]
  },
  {
   "cell_type": "code",
   "execution_count": 12,
   "id": "1c9a7b6c-2f44-4906-889b-fef057dfcf83",
   "metadata": {},
   "outputs": [],
   "source": [
    "reviews_df= pd.read_csv(dir+'/pp_reviews.csv')\n",
    "df_sorted = reviews_df.sort_values(by='new_member_id')\n"
   ]
  },
  {
   "cell_type": "code",
   "execution_count": 13,
   "id": "7ba12522-e465-450f-bd86-645e03acc225",
   "metadata": {},
   "outputs": [
    {
     "data": {
      "text/html": [
       "<div>\n",
       "<style scoped>\n",
       "    .dataframe tbody tr th:only-of-type {\n",
       "        vertical-align: middle;\n",
       "    }\n",
       "\n",
       "    .dataframe tbody tr th {\n",
       "        vertical-align: top;\n",
       "    }\n",
       "\n",
       "    .dataframe thead th {\n",
       "        text-align: right;\n",
       "    }\n",
       "</style>\n",
       "<table border=\"1\" class=\"dataframe\">\n",
       "  <thead>\n",
       "    <tr style=\"text-align: right;\">\n",
       "      <th></th>\n",
       "      <th>Unnamed: 0</th>\n",
       "      <th>member_id</th>\n",
       "      <th>recipe_id</th>\n",
       "      <th>rating</th>\n",
       "      <th>text</th>\n",
       "      <th>likes</th>\n",
       "      <th>last_modified_date</th>\n",
       "      <th>review_id</th>\n",
       "      <th>review_url</th>\n",
       "      <th>member_url</th>\n",
       "      <th>new_member_id</th>\n",
       "      <th>new_recipe_id</th>\n",
       "    </tr>\n",
       "  </thead>\n",
       "  <tbody>\n",
       "    <tr>\n",
       "      <th>0</th>\n",
       "      <td>0</td>\n",
       "      <td>192799</td>\n",
       "      <td>96347</td>\n",
       "      <td>5.0</td>\n",
       "      <td>I've never made ham &amp; beans before, but I've a...</td>\n",
       "      <td>0.0</td>\n",
       "      <td>2005-05-02</td>\n",
       "      <td>171462.0</td>\n",
       "      <td>https://www.food.com/recipe/crock-pot-ham-and-...</td>\n",
       "      <td>https://www.food.com/user/192799</td>\n",
       "      <td>0</td>\n",
       "      <td>274797</td>\n",
       "    </tr>\n",
       "    <tr>\n",
       "      <th>402710</th>\n",
       "      <td>402710</td>\n",
       "      <td>192799</td>\n",
       "      <td>38444</td>\n",
       "      <td>5.0</td>\n",
       "      <td>Excellent...can easily adjust for personal tas...</td>\n",
       "      <td>0.0</td>\n",
       "      <td>2014-03-21</td>\n",
       "      <td>1435206.0</td>\n",
       "      <td>https://www.food.com/recipe/thai-peanut-stir-f...</td>\n",
       "      <td>https://www.food.com/user/192799</td>\n",
       "      <td>0</td>\n",
       "      <td>423378</td>\n",
       "    </tr>\n",
       "    <tr>\n",
       "      <th>1846914</th>\n",
       "      <td>1846914</td>\n",
       "      <td>192799</td>\n",
       "      <td>281952</td>\n",
       "      <td>6.0</td>\n",
       "      <td>NaN</td>\n",
       "      <td>NaN</td>\n",
       "      <td>2014-03-11</td>\n",
       "      <td>NaN</td>\n",
       "      <td>NaN</td>\n",
       "      <td>NaN</td>\n",
       "      <td>0</td>\n",
       "      <td>437723</td>\n",
       "    </tr>\n",
       "    <tr>\n",
       "      <th>1738632</th>\n",
       "      <td>1738632</td>\n",
       "      <td>192799</td>\n",
       "      <td>315736</td>\n",
       "      <td>6.0</td>\n",
       "      <td>NaN</td>\n",
       "      <td>NaN</td>\n",
       "      <td>2008-07-25</td>\n",
       "      <td>NaN</td>\n",
       "      <td>NaN</td>\n",
       "      <td>NaN</td>\n",
       "      <td>0</td>\n",
       "      <td>329262</td>\n",
       "    </tr>\n",
       "    <tr>\n",
       "      <th>475078</th>\n",
       "      <td>475078</td>\n",
       "      <td>192799</td>\n",
       "      <td>81845</td>\n",
       "      <td>4.0</td>\n",
       "      <td>Made this tonight for dinner and thought it wa...</td>\n",
       "      <td>0.0</td>\n",
       "      <td>2009-10-12</td>\n",
       "      <td>967726.0</td>\n",
       "      <td>https://www.food.com/recipe/southwest-spaghett...</td>\n",
       "      <td>https://www.food.com/user/192799</td>\n",
       "      <td>0</td>\n",
       "      <td>450412</td>\n",
       "    </tr>\n",
       "    <tr>\n",
       "      <th>...</th>\n",
       "      <td>...</td>\n",
       "      <td>...</td>\n",
       "      <td>...</td>\n",
       "      <td>...</td>\n",
       "      <td>...</td>\n",
       "      <td>...</td>\n",
       "      <td>...</td>\n",
       "      <td>...</td>\n",
       "      <td>...</td>\n",
       "      <td>...</td>\n",
       "      <td>...</td>\n",
       "      <td>...</td>\n",
       "    </tr>\n",
       "    <tr>\n",
       "      <th>1916306</th>\n",
       "      <td>1916306</td>\n",
       "      <td>2000201833</td>\n",
       "      <td>522470</td>\n",
       "      <td>6.0</td>\n",
       "      <td>NaN</td>\n",
       "      <td>NaN</td>\n",
       "      <td>2015-06-24</td>\n",
       "      <td>NaN</td>\n",
       "      <td>NaN</td>\n",
       "      <td>NaN</td>\n",
       "      <td>302407</td>\n",
       "      <td>507217</td>\n",
       "    </tr>\n",
       "    <tr>\n",
       "      <th>1916336</th>\n",
       "      <td>1916336</td>\n",
       "      <td>290154</td>\n",
       "      <td>154450</td>\n",
       "      <td>6.0</td>\n",
       "      <td>NaN</td>\n",
       "      <td>NaN</td>\n",
       "      <td>2007-08-06</td>\n",
       "      <td>NaN</td>\n",
       "      <td>NaN</td>\n",
       "      <td>NaN</td>\n",
       "      <td>302408</td>\n",
       "      <td>507247</td>\n",
       "    </tr>\n",
       "    <tr>\n",
       "      <th>1916346</th>\n",
       "      <td>1916346</td>\n",
       "      <td>765711</td>\n",
       "      <td>287058</td>\n",
       "      <td>6.0</td>\n",
       "      <td>NaN</td>\n",
       "      <td>NaN</td>\n",
       "      <td>2008-02-20</td>\n",
       "      <td>NaN</td>\n",
       "      <td>NaN</td>\n",
       "      <td>NaN</td>\n",
       "      <td>302409</td>\n",
       "      <td>507257</td>\n",
       "    </tr>\n",
       "    <tr>\n",
       "      <th>1916372</th>\n",
       "      <td>1916372</td>\n",
       "      <td>2677408</td>\n",
       "      <td>494774</td>\n",
       "      <td>6.0</td>\n",
       "      <td>NaN</td>\n",
       "      <td>NaN</td>\n",
       "      <td>2013-02-05</td>\n",
       "      <td>NaN</td>\n",
       "      <td>NaN</td>\n",
       "      <td>NaN</td>\n",
       "      <td>302410</td>\n",
       "      <td>507283</td>\n",
       "    </tr>\n",
       "    <tr>\n",
       "      <th>1916390</th>\n",
       "      <td>1916390</td>\n",
       "      <td>269848</td>\n",
       "      <td>190686</td>\n",
       "      <td>6.0</td>\n",
       "      <td>NaN</td>\n",
       "      <td>NaN</td>\n",
       "      <td>2007-03-27</td>\n",
       "      <td>NaN</td>\n",
       "      <td>NaN</td>\n",
       "      <td>NaN</td>\n",
       "      <td>302411</td>\n",
       "      <td>507301</td>\n",
       "    </tr>\n",
       "  </tbody>\n",
       "</table>\n",
       "<p>1916424 rows × 12 columns</p>\n",
       "</div>"
      ],
      "text/plain": [
       "         Unnamed: 0   member_id  recipe_id  rating  \\\n",
       "0                 0      192799      96347     5.0   \n",
       "402710       402710      192799      38444     5.0   \n",
       "1846914     1846914      192799     281952     6.0   \n",
       "1738632     1738632      192799     315736     6.0   \n",
       "475078       475078      192799      81845     4.0   \n",
       "...             ...         ...        ...     ...   \n",
       "1916306     1916306  2000201833     522470     6.0   \n",
       "1916336     1916336      290154     154450     6.0   \n",
       "1916346     1916346      765711     287058     6.0   \n",
       "1916372     1916372     2677408     494774     6.0   \n",
       "1916390     1916390      269848     190686     6.0   \n",
       "\n",
       "                                                      text  likes  \\\n",
       "0        I've never made ham & beans before, but I've a...    0.0   \n",
       "402710   Excellent...can easily adjust for personal tas...    0.0   \n",
       "1846914                                                NaN    NaN   \n",
       "1738632                                                NaN    NaN   \n",
       "475078   Made this tonight for dinner and thought it wa...    0.0   \n",
       "...                                                    ...    ...   \n",
       "1916306                                                NaN    NaN   \n",
       "1916336                                                NaN    NaN   \n",
       "1916346                                                NaN    NaN   \n",
       "1916372                                                NaN    NaN   \n",
       "1916390                                                NaN    NaN   \n",
       "\n",
       "        last_modified_date  review_id  \\\n",
       "0               2005-05-02   171462.0   \n",
       "402710          2014-03-21  1435206.0   \n",
       "1846914         2014-03-11        NaN   \n",
       "1738632         2008-07-25        NaN   \n",
       "475078          2009-10-12   967726.0   \n",
       "...                    ...        ...   \n",
       "1916306         2015-06-24        NaN   \n",
       "1916336         2007-08-06        NaN   \n",
       "1916346         2008-02-20        NaN   \n",
       "1916372         2013-02-05        NaN   \n",
       "1916390         2007-03-27        NaN   \n",
       "\n",
       "                                                review_url  \\\n",
       "0        https://www.food.com/recipe/crock-pot-ham-and-...   \n",
       "402710   https://www.food.com/recipe/thai-peanut-stir-f...   \n",
       "1846914                                                NaN   \n",
       "1738632                                                NaN   \n",
       "475078   https://www.food.com/recipe/southwest-spaghett...   \n",
       "...                                                    ...   \n",
       "1916306                                                NaN   \n",
       "1916336                                                NaN   \n",
       "1916346                                                NaN   \n",
       "1916372                                                NaN   \n",
       "1916390                                                NaN   \n",
       "\n",
       "                               member_url  new_member_id  new_recipe_id  \n",
       "0        https://www.food.com/user/192799              0         274797  \n",
       "402710   https://www.food.com/user/192799              0         423378  \n",
       "1846914                               NaN              0         437723  \n",
       "1738632                               NaN              0         329262  \n",
       "475078   https://www.food.com/user/192799              0         450412  \n",
       "...                                   ...            ...            ...  \n",
       "1916306                               NaN         302407         507217  \n",
       "1916336                               NaN         302408         507247  \n",
       "1916346                               NaN         302409         507257  \n",
       "1916372                               NaN         302410         507283  \n",
       "1916390                               NaN         302411         507301  \n",
       "\n",
       "[1916424 rows x 12 columns]"
      ]
     },
     "execution_count": 13,
     "metadata": {},
     "output_type": "execute_result"
    }
   ],
   "source": [
    "df_sorted"
   ]
  },
  {
   "cell_type": "code",
   "execution_count": 126,
   "id": "b13d97ea-88c9-4f65-9310-04f448478ba6",
   "metadata": {},
   "outputs": [
    {
     "name": "stdout",
     "output_type": "stream",
     "text": [
      "Número de usuários únicos: 388\n"
     ]
    }
   ],
   "source": [
    "df_reduzido = df_sorted.head(200000)\n",
    "num_unique_users = df_reduzido['new_member_id'].nunique()\n",
    "\n",
    "print(f\"Número de usuários únicos: {num_unique_users}\")\n"
   ]
  },
  {
   "cell_type": "code",
   "execution_count": 127,
   "id": "fa2e63aa-8d20-463d-a156-d4d7de25a442",
   "metadata": {},
   "outputs": [],
   "source": [
    "pp_interactions = df_reduzido[['new_member_id', 'new_recipe_id', 'rating']]\n",
    "pp_interactions = pp_interactions.rename(columns={'new_member_id': 'userID', 'new_recipe_id': 'itemID'})"
   ]
  },
  {
   "cell_type": "code",
   "execution_count": 128,
   "id": "1556a267-eed2-4ab6-a705-f1240d9e1b7e",
   "metadata": {},
   "outputs": [
    {
     "data": {
      "text/html": [
       "<div>\n",
       "<style scoped>\n",
       "    .dataframe tbody tr th:only-of-type {\n",
       "        vertical-align: middle;\n",
       "    }\n",
       "\n",
       "    .dataframe tbody tr th {\n",
       "        vertical-align: top;\n",
       "    }\n",
       "\n",
       "    .dataframe thead th {\n",
       "        text-align: right;\n",
       "    }\n",
       "</style>\n",
       "<table border=\"1\" class=\"dataframe\">\n",
       "  <thead>\n",
       "    <tr style=\"text-align: right;\">\n",
       "      <th></th>\n",
       "      <th>userID</th>\n",
       "      <th>itemID</th>\n",
       "      <th>rating</th>\n",
       "    </tr>\n",
       "  </thead>\n",
       "  <tbody>\n",
       "    <tr>\n",
       "      <th>0</th>\n",
       "      <td>0</td>\n",
       "      <td>274797</td>\n",
       "      <td>5.0</td>\n",
       "    </tr>\n",
       "    <tr>\n",
       "      <th>402710</th>\n",
       "      <td>0</td>\n",
       "      <td>423378</td>\n",
       "      <td>5.0</td>\n",
       "    </tr>\n",
       "    <tr>\n",
       "      <th>1846914</th>\n",
       "      <td>0</td>\n",
       "      <td>437723</td>\n",
       "      <td>6.0</td>\n",
       "    </tr>\n",
       "    <tr>\n",
       "      <th>1738632</th>\n",
       "      <td>0</td>\n",
       "      <td>329262</td>\n",
       "      <td>6.0</td>\n",
       "    </tr>\n",
       "    <tr>\n",
       "      <th>475078</th>\n",
       "      <td>0</td>\n",
       "      <td>450412</td>\n",
       "      <td>4.0</td>\n",
       "    </tr>\n",
       "  </tbody>\n",
       "</table>\n",
       "</div>"
      ],
      "text/plain": [
       "         userID  itemID  rating\n",
       "0             0  274797     5.0\n",
       "402710        0  423378     5.0\n",
       "1846914       0  437723     6.0\n",
       "1738632       0  329262     6.0\n",
       "475078        0  450412     4.0"
      ]
     },
     "execution_count": 128,
     "metadata": {},
     "output_type": "execute_result"
    }
   ],
   "source": [
    "pp_interactions.head()"
   ]
  },
  {
   "cell_type": "code",
   "execution_count": 129,
   "id": "2d7d6668-768a-4c29-b3d4-f6748882eae9",
   "metadata": {},
   "outputs": [],
   "source": [
    "# Read & split data\n",
    "train, test = python_random_split(pp_interactions, 0.75)"
   ]
  },
  {
   "cell_type": "code",
   "execution_count": 130,
   "id": "59f11124-2085-4f37-a714-e897f08ae6bf",
   "metadata": {},
   "outputs": [],
   "source": [
    "train_set = cornac.data.Dataset.from_uir(train.itertuples(index=False), seed=SEED)"
   ]
  },
  {
   "cell_type": "code",
   "execution_count": 131,
   "id": "b47bbabf-c6d0-4131-997a-c37a780e3d09",
   "metadata": {},
   "outputs": [
    {
     "data": {
      "text/plain": [
       "<cornac.data.dataset.Dataset at 0x7f54190c3e50>"
      ]
     },
     "execution_count": 131,
     "metadata": {},
     "output_type": "execute_result"
    }
   ],
   "source": [
    "train_set"
   ]
  },
  {
   "cell_type": "markdown",
   "id": "df8619b5-307d-499f-88ea-ca93f49c570a",
   "metadata": {},
   "source": [
    "**Models & Params for tuning**"
   ]
  },
  {
   "cell_type": "code",
   "execution_count": 132,
   "id": "47e87993-e9fd-4c6f-a6a8-2ce7aab3bf6f",
   "metadata": {},
   "outputs": [],
   "source": [
    "# Set global model parameters\n",
    "## top k items to recommend\n",
    "TOP_K = [5, 10]"
   ]
  },
  {
   "cell_type": "code",
   "execution_count": 133,
   "id": "f7f736a9-7015-4524-a866-c1cd6324f3a5",
   "metadata": {},
   "outputs": [],
   "source": [
    "# BPR\n",
    "bpr = cornac.models.BPR(\n",
    "    k=10,  #200\n",
    "    max_iter= 10,  #100,\n",
    "    learning_rate=0.01,\n",
    "    lambda_reg=0.001,\n",
    "    verbose=True,\n",
    "    seed=SEED\n",
    ")"
   ]
  },
  {
   "cell_type": "code",
   "execution_count": 134,
   "id": "e60195f7-94e3-4883-b462-9ab5505f8b27",
   "metadata": {},
   "outputs": [],
   "source": [
    "from cornac.models import MF\n",
    "\n",
    "mf = MF(\n",
    "    k=10,  # Número de fatores latentes\n",
    "    max_iter=50,  # Número de iterações\n",
    "    learning_rate=0.01,\n",
    "    lambda_reg=0.001,\n",
    "    verbose=True,\n",
    "    seed=SEED\n",
    ")"
   ]
  },
  {
   "cell_type": "markdown",
   "id": "cd549384-0882-4b49-b631-74506654c691",
   "metadata": {},
   "source": [
    "**MF**"
   ]
  },
  {
   "cell_type": "code",
   "execution_count": 135,
   "id": "1b032ff6-453b-4e7f-80c3-493000e5a9ca",
   "metadata": {},
   "outputs": [],
   "source": [
    "from recommenders.evaluation.python_evaluation import map_at_k, ndcg_at_k, precision_at_k, recall_at_k\n",
    "from recommenders.models.cornac.cornac_utils import predict_ranking\n"
   ]
  },
  {
   "cell_type": "code",
   "execution_count": 136,
   "id": "ec1c9c54-c54d-4dc8-8ddb-efc3c633ed8b",
   "metadata": {},
   "outputs": [
    {
     "data": {
      "application/vnd.jupyter.widget-view+json": {
       "model_id": "cd2a17ba59a84f47965af6f232760cd5",
       "version_major": 2,
       "version_minor": 0
      },
      "text/plain": [
       "  0%|          | 0/50 [00:00<?, ?it/s]"
      ]
     },
     "metadata": {},
     "output_type": "display_data"
    },
    {
     "name": "stdout",
     "output_type": "stream",
     "text": [
      "Optimization finished!\n",
      "MF: Took 0.4797 seconds for training.\n"
     ]
    }
   ],
   "source": [
    "cornac_util.train(mf, train_set)"
   ]
  },
  {
   "cell_type": "code",
   "execution_count": 137,
   "id": "398cee03-b98f-4ea2-9c6c-388e4317a387",
   "metadata": {},
   "outputs": [],
   "source": [
    "mf_precitions = predict_ranking(mf,train,usercol='userID',itemcol='itemID',predcol='rating',remove_seen=False)"
   ]
  },
  {
   "cell_type": "code",
   "execution_count": 138,
   "id": "e4d1dd9c-3927-4e96-bb54-7ea89dccc4fa",
   "metadata": {},
   "outputs": [
    {
     "data": {
      "text/html": [
       "<div>\n",
       "<style scoped>\n",
       "    .dataframe tbody tr th:only-of-type {\n",
       "        vertical-align: middle;\n",
       "    }\n",
       "\n",
       "    .dataframe tbody tr th {\n",
       "        vertical-align: top;\n",
       "    }\n",
       "\n",
       "    .dataframe thead th {\n",
       "        text-align: right;\n",
       "    }\n",
       "</style>\n",
       "<table border=\"1\" class=\"dataframe\">\n",
       "  <thead>\n",
       "    <tr style=\"text-align: right;\">\n",
       "      <th></th>\n",
       "      <th>userID</th>\n",
       "      <th>itemID</th>\n",
       "      <th>rating</th>\n",
       "    </tr>\n",
       "  </thead>\n",
       "  <tbody>\n",
       "    <tr>\n",
       "      <th>0</th>\n",
       "      <td>51</td>\n",
       "      <td>362124</td>\n",
       "      <td>5.086865</td>\n",
       "    </tr>\n",
       "    <tr>\n",
       "      <th>1</th>\n",
       "      <td>51</td>\n",
       "      <td>433868</td>\n",
       "      <td>5.086634</td>\n",
       "    </tr>\n",
       "    <tr>\n",
       "      <th>2</th>\n",
       "      <td>51</td>\n",
       "      <td>301631</td>\n",
       "      <td>5.225636</td>\n",
       "    </tr>\n",
       "    <tr>\n",
       "      <th>3</th>\n",
       "      <td>51</td>\n",
       "      <td>446815</td>\n",
       "      <td>5.116749</td>\n",
       "    </tr>\n",
       "    <tr>\n",
       "      <th>4</th>\n",
       "      <td>51</td>\n",
       "      <td>378770</td>\n",
       "      <td>4.662318</td>\n",
       "    </tr>\n",
       "    <tr>\n",
       "      <th>...</th>\n",
       "      <td>...</td>\n",
       "      <td>...</td>\n",
       "      <td>...</td>\n",
       "    </tr>\n",
       "    <tr>\n",
       "      <th>39431945</th>\n",
       "      <td>7</td>\n",
       "      <td>399796</td>\n",
       "      <td>4.849616</td>\n",
       "    </tr>\n",
       "    <tr>\n",
       "      <th>39431946</th>\n",
       "      <td>7</td>\n",
       "      <td>437885</td>\n",
       "      <td>4.922428</td>\n",
       "    </tr>\n",
       "    <tr>\n",
       "      <th>39431947</th>\n",
       "      <td>7</td>\n",
       "      <td>326048</td>\n",
       "      <td>5.071570</td>\n",
       "    </tr>\n",
       "    <tr>\n",
       "      <th>39431948</th>\n",
       "      <td>7</td>\n",
       "      <td>228585</td>\n",
       "      <td>4.884533</td>\n",
       "    </tr>\n",
       "    <tr>\n",
       "      <th>39431949</th>\n",
       "      <td>7</td>\n",
       "      <td>455796</td>\n",
       "      <td>5.086269</td>\n",
       "    </tr>\n",
       "  </tbody>\n",
       "</table>\n",
       "<p>39431950 rows × 3 columns</p>\n",
       "</div>"
      ],
      "text/plain": [
       "          userID  itemID    rating\n",
       "0             51  362124  5.086865\n",
       "1             51  433868  5.086634\n",
       "2             51  301631  5.225636\n",
       "3             51  446815  5.116749\n",
       "4             51  378770  4.662318\n",
       "...          ...     ...       ...\n",
       "39431945       7  399796  4.849616\n",
       "39431946       7  437885  4.922428\n",
       "39431947       7  326048  5.071570\n",
       "39431948       7  228585  4.884533\n",
       "39431949       7  455796  5.086269\n",
       "\n",
       "[39431950 rows x 3 columns]"
      ]
     },
     "execution_count": 138,
     "metadata": {},
     "output_type": "execute_result"
    }
   ],
   "source": [
    "mf_precitions"
   ]
  },
  {
   "cell_type": "code",
   "execution_count": 139,
   "id": "57898a67-79eb-4ca7-a71d-30a983eb642c",
   "metadata": {},
   "outputs": [
    {
     "data": {
      "text/html": [
       "<div>\n",
       "<style scoped>\n",
       "    .dataframe tbody tr th:only-of-type {\n",
       "        vertical-align: middle;\n",
       "    }\n",
       "\n",
       "    .dataframe tbody tr th {\n",
       "        vertical-align: top;\n",
       "    }\n",
       "\n",
       "    .dataframe thead th {\n",
       "        text-align: right;\n",
       "    }\n",
       "</style>\n",
       "<table border=\"1\" class=\"dataframe\">\n",
       "  <thead>\n",
       "    <tr style=\"text-align: right;\">\n",
       "      <th></th>\n",
       "      <th>userID</th>\n",
       "      <th>itemID</th>\n",
       "      <th>rating</th>\n",
       "    </tr>\n",
       "  </thead>\n",
       "  <tbody>\n",
       "    <tr>\n",
       "      <th>430932</th>\n",
       "      <td>223</td>\n",
       "      <td>433750</td>\n",
       "      <td>4.0</td>\n",
       "    </tr>\n",
       "    <tr>\n",
       "      <th>107055</th>\n",
       "      <td>106</td>\n",
       "      <td>313330</td>\n",
       "      <td>5.0</td>\n",
       "    </tr>\n",
       "    <tr>\n",
       "      <th>1303222</th>\n",
       "      <td>301</td>\n",
       "      <td>238955</td>\n",
       "      <td>5.0</td>\n",
       "    </tr>\n",
       "    <tr>\n",
       "      <th>1681721</th>\n",
       "      <td>105</td>\n",
       "      <td>272253</td>\n",
       "      <td>6.0</td>\n",
       "    </tr>\n",
       "    <tr>\n",
       "      <th>1504196</th>\n",
       "      <td>53</td>\n",
       "      <td>94418</td>\n",
       "      <td>6.0</td>\n",
       "    </tr>\n",
       "    <tr>\n",
       "      <th>...</th>\n",
       "      <td>...</td>\n",
       "      <td>...</td>\n",
       "      <td>...</td>\n",
       "    </tr>\n",
       "    <tr>\n",
       "      <th>1755881</th>\n",
       "      <td>218</td>\n",
       "      <td>346536</td>\n",
       "      <td>6.0</td>\n",
       "    </tr>\n",
       "    <tr>\n",
       "      <th>188998</th>\n",
       "      <td>330</td>\n",
       "      <td>342808</td>\n",
       "      <td>5.0</td>\n",
       "    </tr>\n",
       "    <tr>\n",
       "      <th>107839</th>\n",
       "      <td>260</td>\n",
       "      <td>313763</td>\n",
       "      <td>5.0</td>\n",
       "    </tr>\n",
       "    <tr>\n",
       "      <th>222086</th>\n",
       "      <td>284</td>\n",
       "      <td>354750</td>\n",
       "      <td>5.0</td>\n",
       "    </tr>\n",
       "    <tr>\n",
       "      <th>1886660</th>\n",
       "      <td>11</td>\n",
       "      <td>477525</td>\n",
       "      <td>6.0</td>\n",
       "    </tr>\n",
       "  </tbody>\n",
       "</table>\n",
       "<p>50000 rows × 3 columns</p>\n",
       "</div>"
      ],
      "text/plain": [
       "         userID  itemID  rating\n",
       "430932      223  433750     4.0\n",
       "107055      106  313330     5.0\n",
       "1303222     301  238955     5.0\n",
       "1681721     105  272253     6.0\n",
       "1504196      53   94418     6.0\n",
       "...         ...     ...     ...\n",
       "1755881     218  346536     6.0\n",
       "188998      330  342808     5.0\n",
       "107839      260  313763     5.0\n",
       "222086      284  354750     5.0\n",
       "1886660      11  477525     6.0\n",
       "\n",
       "[50000 rows x 3 columns]"
      ]
     },
     "execution_count": 139,
     "metadata": {},
     "output_type": "execute_result"
    }
   ],
   "source": [
    "test"
   ]
  },
  {
   "cell_type": "code",
   "execution_count": 140,
   "id": "1c432236-54cf-4d68-8458-a9388656f3e7",
   "metadata": {},
   "outputs": [
    {
     "name": "stdout",
     "output_type": "stream",
     "text": [
      "MAP@10: 0.001002\n"
     ]
    }
   ],
   "source": [
    "from recommenders.evaluation.python_evaluation import map_at_k, ndcg_at_k, precision_at_k, recall_at_k\n",
    "\n",
    "# Exemplo com k=10\n",
    "k = 10\n",
    "\n",
    "# Calcular MAP@k\n",
    "map_value = map_at_k(test, mf_precitions, col_user='userID', col_item='itemID', col_prediction='rating', k=k)\n",
    "print(f\"MAP@{k}: {map_value:.6f}\")"
   ]
  },
  {
   "cell_type": "code",
   "execution_count": 141,
   "id": "d6e38cdd-b33d-48a5-bfea-2ef71105537b",
   "metadata": {},
   "outputs": [
    {
     "name": "stdout",
     "output_type": "stream",
     "text": [
      "NDCG@10: 0.002996\n"
     ]
    }
   ],
   "source": [
    "ndcg_value = ndcg_at_k(test, mf_precitions, col_user='userID', col_item='itemID', col_prediction='rating', k=k)\n",
    "print(f\"NDCG@{k}: {ndcg_value:.6f}\")"
   ]
  },
  {
   "cell_type": "code",
   "execution_count": 142,
   "id": "d2916c48-a5f7-4044-a951-d02de23294f9",
   "metadata": {},
   "outputs": [
    {
     "name": "stdout",
     "output_type": "stream",
     "text": [
      "Precision@10: 0.002671\n"
     ]
    }
   ],
   "source": [
    "precision_value = precision_at_k(test, mf_precitions, col_user='userID', col_item='itemID', col_prediction='rating', k=k)\n",
    "print(f\"Precision@{k}: {precision_value:.6f}\")"
   ]
  },
  {
   "cell_type": "code",
   "execution_count": 143,
   "id": "0b9ccc68-b9a9-4ddd-bc4c-5605da1e1bc6",
   "metadata": {},
   "outputs": [
    {
     "name": "stdout",
     "output_type": "stream",
     "text": [
      "Recall@10: 0.000152\n"
     ]
    }
   ],
   "source": [
    "recall_value = recall_at_k(test, mf_precitions, col_user='userID', col_item='itemID', col_prediction='rating', k=k)\n",
    "print(f\"Recall@{k}: {recall_value:.6f}\")"
   ]
  },
  {
   "cell_type": "code",
   "execution_count": 144,
   "id": "ec9d8a0b-c2fb-4574-ac69-a05da7da0ed7",
   "metadata": {},
   "outputs": [
    {
     "name": "stdout",
     "output_type": "stream",
     "text": [
      "Catalog Coverage: 0.4095\n"
     ]
    }
   ],
   "source": [
    "from recommenders.evaluation.python_evaluation import catalog_coverage\n",
    "col_user = 'userID'\n",
    "col_item = 'itemID'\n",
    "\n",
    "coverage = catalog_coverage(train, test, col_user=col_user, col_item=col_item)\n",
    "print(f\"Catalog Coverage: {coverage:.4f}\")"
   ]
  },
  {
   "cell_type": "markdown",
   "id": "c86e3865-2914-42cf-82ed-fe96eacd4cee",
   "metadata": {},
   "source": [
    "**BPR**"
   ]
  },
  {
   "cell_type": "code",
   "execution_count": 145,
   "id": "9a5ae786-2fc7-425a-a9c9-eba6499c5deb",
   "metadata": {},
   "outputs": [
    {
     "data": {
      "application/vnd.jupyter.widget-view+json": {
       "model_id": "2b10a039ade9492db498d711fe417518",
       "version_major": 2,
       "version_minor": 0
      },
      "text/plain": [
       "  0%|          | 0/10 [00:00<?, ?it/s]"
      ]
     },
     "metadata": {},
     "output_type": "display_data"
    },
    {
     "name": "stdout",
     "output_type": "stream",
     "text": [
      "Optimization finished!\n",
      "BPR: Took 0.6425 seconds for training.\n"
     ]
    }
   ],
   "source": [
    "cornac_util.train(bpr, train_set)"
   ]
  },
  {
   "cell_type": "code",
   "execution_count": 146,
   "id": "81a26ef1-8a5a-46f0-94da-e7be3793820b",
   "metadata": {},
   "outputs": [],
   "source": [
    "bpr_precitions = predict_ranking(bpr,train,usercol='userID',itemcol='itemID',predcol='rating',remove_seen=False)"
   ]
  },
  {
   "cell_type": "code",
   "execution_count": 147,
   "id": "110f7917-fb81-439f-9357-be491a3d2f9f",
   "metadata": {},
   "outputs": [
    {
     "data": {
      "text/html": [
       "<div>\n",
       "<style scoped>\n",
       "    .dataframe tbody tr th:only-of-type {\n",
       "        vertical-align: middle;\n",
       "    }\n",
       "\n",
       "    .dataframe tbody tr th {\n",
       "        vertical-align: top;\n",
       "    }\n",
       "\n",
       "    .dataframe thead th {\n",
       "        text-align: right;\n",
       "    }\n",
       "</style>\n",
       "<table border=\"1\" class=\"dataframe\">\n",
       "  <thead>\n",
       "    <tr style=\"text-align: right;\">\n",
       "      <th></th>\n",
       "      <th>userID</th>\n",
       "      <th>itemID</th>\n",
       "      <th>rating</th>\n",
       "    </tr>\n",
       "  </thead>\n",
       "  <tbody>\n",
       "    <tr>\n",
       "      <th>0</th>\n",
       "      <td>51</td>\n",
       "      <td>362124</td>\n",
       "      <td>0.167458</td>\n",
       "    </tr>\n",
       "    <tr>\n",
       "      <th>1</th>\n",
       "      <td>51</td>\n",
       "      <td>433868</td>\n",
       "      <td>-0.079354</td>\n",
       "    </tr>\n",
       "    <tr>\n",
       "      <th>2</th>\n",
       "      <td>51</td>\n",
       "      <td>301631</td>\n",
       "      <td>-0.016910</td>\n",
       "    </tr>\n",
       "    <tr>\n",
       "      <th>3</th>\n",
       "      <td>51</td>\n",
       "      <td>446815</td>\n",
       "      <td>0.049615</td>\n",
       "    </tr>\n",
       "    <tr>\n",
       "      <th>4</th>\n",
       "      <td>51</td>\n",
       "      <td>378770</td>\n",
       "      <td>0.819738</td>\n",
       "    </tr>\n",
       "    <tr>\n",
       "      <th>...</th>\n",
       "      <td>...</td>\n",
       "      <td>...</td>\n",
       "      <td>...</td>\n",
       "    </tr>\n",
       "    <tr>\n",
       "      <th>39431945</th>\n",
       "      <td>7</td>\n",
       "      <td>399796</td>\n",
       "      <td>-0.023967</td>\n",
       "    </tr>\n",
       "    <tr>\n",
       "      <th>39431946</th>\n",
       "      <td>7</td>\n",
       "      <td>437885</td>\n",
       "      <td>-0.032421</td>\n",
       "    </tr>\n",
       "    <tr>\n",
       "      <th>39431947</th>\n",
       "      <td>7</td>\n",
       "      <td>326048</td>\n",
       "      <td>-0.009430</td>\n",
       "    </tr>\n",
       "    <tr>\n",
       "      <th>39431948</th>\n",
       "      <td>7</td>\n",
       "      <td>228585</td>\n",
       "      <td>-0.028359</td>\n",
       "    </tr>\n",
       "    <tr>\n",
       "      <th>39431949</th>\n",
       "      <td>7</td>\n",
       "      <td>455796</td>\n",
       "      <td>-0.020838</td>\n",
       "    </tr>\n",
       "  </tbody>\n",
       "</table>\n",
       "<p>39431950 rows × 3 columns</p>\n",
       "</div>"
      ],
      "text/plain": [
       "          userID  itemID    rating\n",
       "0             51  362124  0.167458\n",
       "1             51  433868 -0.079354\n",
       "2             51  301631 -0.016910\n",
       "3             51  446815  0.049615\n",
       "4             51  378770  0.819738\n",
       "...          ...     ...       ...\n",
       "39431945       7  399796 -0.023967\n",
       "39431946       7  437885 -0.032421\n",
       "39431947       7  326048 -0.009430\n",
       "39431948       7  228585 -0.028359\n",
       "39431949       7  455796 -0.020838\n",
       "\n",
       "[39431950 rows x 3 columns]"
      ]
     },
     "execution_count": 147,
     "metadata": {},
     "output_type": "execute_result"
    }
   ],
   "source": [
    "bpr_precitions"
   ]
  },
  {
   "cell_type": "code",
   "execution_count": 148,
   "id": "2ac98d45-7f70-47fa-9e1f-18c53bc70f93",
   "metadata": {},
   "outputs": [
    {
     "name": "stdout",
     "output_type": "stream",
     "text": [
      "MAP@10: 0.018364\n",
      "NDCG@10: 0.043565\n",
      "Precision@10: 0.032938\n",
      "Recall@10: 0.026156\n",
      "Catalog Coverage: 0.409533\n"
     ]
    }
   ],
   "source": [
    "from recommenders.evaluation.python_evaluation import map_at_k, ndcg_at_k, precision_at_k, recall_at_k\n",
    "\n",
    "# Exemplo com k=10\n",
    "k = 10\n",
    "\n",
    "# Calcular MAP@k\n",
    "map_value = map_at_k(test, bpr_precitions, col_user='userID', col_item='itemID', col_prediction='rating', k=k)\n",
    "ndcg_value = ndcg_at_k(test, bpr_precitions, col_user='userID', col_item='itemID', col_prediction='rating', k=k)\n",
    "precision_value = precision_at_k(test, bpr_precitions, col_user='userID', col_item='itemID', col_prediction='rating', k=k)\n",
    "recall_value = recall_at_k(test, bpr_precitions, col_user='userID', col_item='itemID', col_prediction='rating', k=k)\n",
    "col_user = 'userID'\n",
    "col_item = 'itemID'\n",
    "\n",
    "coverage = catalog_coverage(train, test, col_user=col_user, col_item=col_item)\n",
    "\n",
    "print(f\"MAP@{k}: {map_value:.6f}\")\n",
    "print(f\"NDCG@{k}: {ndcg_value:.6f}\")\n",
    "print(f\"Precision@{k}: {precision_value:.6f}\")\n",
    "print(f\"Recall@{k}: {recall_value:.6f}\")\n",
    "print(f\"Catalog Coverage: {coverage:.6f}\")"
   ]
  },
  {
   "cell_type": "code",
   "execution_count": null,
   "id": "df8dd61a-8932-4c62-886a-6feb20116d54",
   "metadata": {},
   "outputs": [],
   "source": []
  },
  {
   "cell_type": "code",
   "execution_count": null,
   "id": "3f5972c2-aed6-4131-aca0-ac0fc80d6f11",
   "metadata": {},
   "outputs": [],
   "source": []
  },
  {
   "cell_type": "code",
   "execution_count": null,
   "id": "08d1e210-4e0c-4087-a196-0c8460ce0b89",
   "metadata": {},
   "outputs": [],
   "source": []
  },
  {
   "cell_type": "code",
   "execution_count": null,
   "id": "45d39dc9-b754-43ff-82e5-8eb4f420dd11",
   "metadata": {},
   "outputs": [],
   "source": []
  },
  {
   "cell_type": "code",
   "execution_count": null,
   "id": "3d75518d-1f64-4392-90f8-8eee9511ba6b",
   "metadata": {},
   "outputs": [],
   "source": []
  },
  {
   "cell_type": "code",
   "execution_count": null,
   "id": "5dbeb5ad-96aa-4403-8c74-fca9f1afac93",
   "metadata": {},
   "outputs": [],
   "source": []
  },
  {
   "cell_type": "code",
   "execution_count": null,
   "id": "093ff904-5124-4957-a60a-f8c1b4033704",
   "metadata": {},
   "outputs": [],
   "source": []
  },
  {
   "cell_type": "code",
   "execution_count": null,
   "id": "0bfbc57a-8ca0-42b4-a2e3-f2edd6dfc835",
   "metadata": {},
   "outputs": [],
   "source": []
  },
  {
   "cell_type": "code",
   "execution_count": null,
   "id": "f04f04e1-7b18-40cc-a503-f1cf59ed8570",
   "metadata": {},
   "outputs": [],
   "source": []
  },
  {
   "cell_type": "code",
   "execution_count": null,
   "id": "06f9fa4d-18f9-4ede-890a-3986eeee4ce6",
   "metadata": {},
   "outputs": [],
   "source": []
  },
  {
   "cell_type": "code",
   "execution_count": null,
   "id": "4249c782-dcf2-439b-9185-55af74dcddea",
   "metadata": {},
   "outputs": [],
   "source": []
  },
  {
   "cell_type": "code",
   "execution_count": null,
   "id": "26832667-5395-4527-965f-26583f48f30a",
   "metadata": {},
   "outputs": [],
   "source": []
  },
  {
   "cell_type": "code",
   "execution_count": null,
   "id": "8859ec3f-a7a3-4dd8-8aa8-4d724626f370",
   "metadata": {},
   "outputs": [],
   "source": []
  }
 ],
 "metadata": {
  "kernelspec": {
   "display_name": "Python 3 (ipykernel)",
   "language": "python",
   "name": "python3"
  },
  "language_info": {
   "codemirror_mode": {
    "name": "ipython",
    "version": 3
   },
   "file_extension": ".py",
   "mimetype": "text/x-python",
   "name": "python",
   "nbconvert_exporter": "python",
   "pygments_lexer": "ipython3",
   "version": "3.8.19"
  }
 },
 "nbformat": 4,
 "nbformat_minor": 5
}
