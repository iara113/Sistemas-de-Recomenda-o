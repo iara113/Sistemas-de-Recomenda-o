{
 "cells": [
  {
   "cell_type": "code",
   "execution_count": null,
   "metadata": {
    "ExecuteTime": {
     "end_time": "2023-04-18T14:52:54.214912Z",
     "start_time": "2023-04-18T14:52:54.163877Z"
    },
    "collapsed": true,
    "jupyter": {
     "outputs_hidden": true
    }
   },
   "outputs": [],
   "source": [
    "# enables auto-reload of files (%...function MUST BE WITHOUT SPACE!)\n",
    "%load_ext autoreload\n",
    "%autoreload 2"
   ]
  },
  {
   "cell_type": "code",
   "execution_count": null,
   "metadata": {
    "ExecuteTime": {
     "end_time": "2023-04-18T14:52:58.927273Z",
     "start_time": "2023-04-18T14:52:55.413169Z"
    },
    "collapsed": false,
    "jupyter": {
     "outputs_hidden": false
    }
   },
   "outputs": [],
   "source": [
    "import warnings\n",
    "import cornac\n",
    "import utils\n",
    "import pickle\n",
    "import recommenders.tuning.parameter_sweep\n",
    "from recommendation import healthy_recommender_util\n",
    "from nutrition_scores import score_util\n",
    "from nutrition_scores import filtering_util\n",
    "from nutrition_scores import tfidf_util\n",
    "\n",
    "warnings.filterwarnings(\"ignore\")"
   ]
  },
  {
   "cell_type": "markdown",
   "metadata": {
    "collapsed": false,
    "jupyter": {
     "outputs_hidden": false
    }
   },
   "source": [
    "-----------------------------------------------------------\n",
    "# Preprocess Dataset\n",
    "-----------------------------------------------------------"
   ]
  },
  {
   "cell_type": "code",
   "execution_count": null,
   "metadata": {
    "collapsed": false,
    "jupyter": {
     "outputs_hidden": false
    }
   },
   "outputs": [],
   "source": [
    "# Define data locations\n",
    "data_location = '../../data/hummus_data/'\n",
    "graph_location = '../../data/food_kg/'\n",
    "additional_location = '../../data/hummus_data/' # if not present set recipe_tags=False"
   ]
  },
  {
   "cell_type": "code",
   "execution_count": null,
   "metadata": {
    "ExecuteTime": {
     "end_time": "2023-04-18T14:17:48.629452Z",
     "start_time": "2023-04-18T14:15:42.204678Z"
    },
    "collapsed": false,
    "jupyter": {
     "outputs_hidden": false
    }
   },
   "outputs": [],
   "source": [
    "recipes_df, reviews_df, users_df, recipes_dict, user_dict, food_locator_dict, food_com_dict, data = utils.load_and_clean_data(\n",
    "    data_location, additional_location, comment_relations=2.5, authorship_relations=6, recipe_tags=True, k_user=10,\n",
    "    k_recipe=10, debug=True)"
   ]
  },
  {
   "cell_type": "code",
   "execution_count": null,
   "metadata": {
    "ExecuteTime": {
     "end_time": "2023-04-18T14:18:20.912638Z",
     "start_time": "2023-04-18T14:18:17.924527Z"
    },
    "collapsed": false,
    "jupyter": {
     "outputs_hidden": false
    }
   },
   "outputs": [],
   "source": [
    "# Compute a dataframe consisting of nutrients normalized on 100g\n",
    "normalized_ingredients = utils.normalize_ingredients(recipes_df)"
   ]
  },
  {
   "cell_type": "code",
   "execution_count": null,
   "metadata": {
    "ExecuteTime": {
     "end_time": "2023-04-18T14:18:21.158639Z",
     "start_time": "2023-04-18T14:18:20.914639Z"
    },
    "collapsed": false,
    "jupyter": {
     "outputs_hidden": false
    }
   },
   "outputs": [],
   "source": [
    "# Calculate food scores.\n",
    "pp_recipes = score_util.calculate_food_scores(recipes_df, normalized_ingredients, score_names=['who', 'fsa', 'nutri'])"
   ]
  },
  {
   "cell_type": "code",
   "execution_count": null,
   "metadata": {
    "ExecuteTime": {
     "end_time": "2023-04-18T14:18:21.787639Z",
     "start_time": "2023-04-18T14:18:21.131637Z"
    },
    "collapsed": false,
    "jupyter": {
     "outputs_hidden": false
    }
   },
   "outputs": [],
   "source": [
    "# Update recipe dict to map the scores\n",
    "who_dict = {}\n",
    "fsa_dict = {}\n",
    "nutri_dict = {}\n",
    "\n",
    "for recipe_id in recipes_dict.keys():\n",
    "    who_dict[recipe_id] = pp_recipes.iloc[recipe_id]['who_score']\n",
    "    fsa_dict[recipe_id] = pp_recipes.iloc[recipe_id]['fsa_score']\n",
    "    nutri_dict[recipe_id] = pp_recipes.iloc[recipe_id]['nutri_score']"
   ]
  },
  {
   "cell_type": "code",
   "execution_count": null,
   "metadata": {
    "ExecuteTime": {
     "end_time": "2023-04-18T14:18:23.991934Z",
     "start_time": "2023-04-18T14:18:23.830899Z"
    },
    "collapsed": false,
    "jupyter": {
     "outputs_hidden": false
    }
   },
   "outputs": [],
   "source": [
    "# Build feature matrix\n",
    "pp_interactions = reviews_df[['new_member_id', 'new_recipe_id', 'rating']]\n",
    "pp_interactions = pp_interactions.rename(columns={'new_member_id': 'userID', 'new_recipe_id': 'itemID'})"
   ]
  },
  {
   "cell_type": "code",
   "execution_count": null,
   "metadata": {
    "ExecuteTime": {
     "end_time": "2023-04-18T14:18:25.066897Z",
     "start_time": "2023-04-18T14:18:24.725897Z"
    },
    "collapsed": false,
    "jupyter": {
     "outputs_hidden": false
    }
   },
   "outputs": [],
   "source": [
    "# Store preprocessed data\n",
    "output_path = './data/cornac/'\n",
    "utils.ensure_dir(output_path)\n",
    "pp_interactions.to_csv(output_path + 'foodData.csv', sep=',', index=False)\n",
    "pp_recipes.to_csv(output_path + 'foodRecipes.csv', sep=',', index=False)\n",
    "\n",
    "# Store the dicts\n",
    "with open(output_path + 'who_dict.pkl', 'wb') as file:\n",
    "    pickle.dump(who_dict, file)\n",
    "with open(output_path + 'fsa_dict.pkl', 'wb') as file:\n",
    "    pickle.dump(fsa_dict, file)\n",
    "with open(output_path + 'nutri_dict.pkl', 'wb') as file:\n",
    "    pickle.dump(nutri_dict, file)"
   ]
  },
  {
   "cell_type": "markdown",
   "metadata": {
    "collapsed": false,
    "jupyter": {
     "outputs_hidden": false
    }
   },
   "source": [
    "-----------------------------------------------------------\n",
    "# Split dataset, transform models, set-up parameters\n",
    "-----------------------------------------------------------"
   ]
  },
  {
   "cell_type": "code",
   "execution_count": null,
   "metadata": {
    "ExecuteTime": {
     "end_time": "2023-04-18T14:53:06.155878Z",
     "start_time": "2023-04-18T14:53:05.846847Z"
    },
    "collapsed": false,
    "jupyter": {
     "outputs_hidden": false
    }
   },
   "outputs": [],
   "source": [
    "# Read & split data\n",
    "pp_interactions, pp_recipes, train, test, train_set, who_dict, fsa_dict, nutri_dict = healthy_recommender_util.load_and_split()\n",
    "pp_interactions.head()"
   ]
  },
  {
   "cell_type": "code",
   "execution_count": null,
   "metadata": {
    "ExecuteTime": {
     "end_time": "2023-04-18T14:53:07.988199Z",
     "start_time": "2023-04-18T14:53:07.853380Z"
    },
    "collapsed": false,
    "jupyter": {
     "outputs_hidden": false
    }
   },
   "outputs": [],
   "source": [
    "# Global model parameters\n",
    "TOP_K = 10 # top k items to recommend\n",
    "NUM_THREADS = 0 # use all cores\n",
    "VERBOSE = False # if logs are shown"
   ]
  },
  {
   "cell_type": "markdown",
   "metadata": {
    "collapsed": false,
    "jupyter": {
     "outputs_hidden": false
    }
   },
   "source": [
    "## Models & Params for tuning"
   ]
  },
  {
   "cell_type": "code",
   "execution_count": null,
   "metadata": {
    "ExecuteTime": {
     "end_time": "2023-04-18T14:53:09.347607Z",
     "start_time": "2023-04-18T14:53:09.202344Z"
    },
    "collapsed": false,
    "jupyter": {
     "outputs_hidden": false
    }
   },
   "outputs": [],
   "source": [
    "# Hyperparams for tuning for testing\n",
    "hyperparams = {\n",
    "    \"k\": [50, 100, 200],\n",
    "    \"max_iter\": [50, 100, 200],\n",
    "    \"learning_rate\": [0.005, 0.01, 0.02],\n",
    "    \"lambda_reg\": [0.002, 0.005, 0.01]\n",
    "}\n",
    "param_grid = recommenders.tuning.parameter_sweep.generate_param_grid(hyperparams)"
   ]
  },
  {
   "cell_type": "code",
   "execution_count": null,
   "metadata": {
    "ExecuteTime": {
     "end_time": "2023-04-18T14:53:10.307233Z",
     "start_time": "2023-04-18T14:53:10.161200Z"
    },
    "collapsed": false,
    "jupyter": {
     "outputs_hidden": false
    }
   },
   "outputs": [],
   "source": [
    "# Define BPR models\n",
    "models = [cornac.models.BPR(k=params[\"k\"], max_iter=params[\"max_iter\"], learning_rate=params[\"learning_rate\"], lambda_reg=params[\"lambda_reg\"], num_threads=NUM_THREADS, verbose=VERBOSE) for params in param_grid]"
   ]
  },
  {
   "cell_type": "markdown",
   "metadata": {
    "collapsed": false,
    "jupyter": {
     "outputs_hidden": false
    }
   },
   "source": [
    "-----------------------------------------------------------\n",
    "# Training, Prediction, Evaluation\n",
    "-----------------------------------------------------------"
   ]
  },
  {
   "cell_type": "code",
   "execution_count": null,
   "metadata": {
    "ExecuteTime": {
     "end_time": "2023-04-18T14:53:11.893760Z",
     "start_time": "2023-04-18T14:53:11.130763Z"
    },
    "collapsed": false,
    "jupyter": {
     "outputs_hidden": false
    }
   },
   "outputs": [],
   "source": [
    "# Training\n",
    "healthy_recommender_util.train_multiple(models, train_set)"
   ]
  },
  {
   "cell_type": "code",
   "execution_count": null,
   "metadata": {
    "ExecuteTime": {
     "end_time": "2023-04-18T14:53:15.021659Z",
     "start_time": "2023-04-18T14:53:12.653479Z"
    },
    "collapsed": false,
    "jupyter": {
     "outputs_hidden": false
    }
   },
   "outputs": [],
   "source": [
    "# Prediction\n",
    "model_predictions = healthy_recommender_util.predict_multiple(models, train, store_results=False)"
   ]
  },
  {
   "cell_type": "code",
   "execution_count": null,
   "metadata": {
    "ExecuteTime": {
     "end_time": "2023-04-18T15:05:21.821152Z",
     "start_time": "2023-04-18T15:05:06.613134Z"
    },
    "collapsed": false,
    "jupyter": {
     "outputs_hidden": false
    }
   },
   "outputs": [],
   "source": [
    "# Evaluation\n",
    "evaluation = healthy_recommender_util.calc_scores(who_dict, fsa_dict, nutri_dict, test, model_predictions, TOP_K, store_results=False, normalize=True)"
   ]
  },
  {
   "cell_type": "code",
   "execution_count": null,
   "metadata": {
    "ExecuteTime": {
     "end_time": "2023-04-18T13:39:18.252974Z",
     "start_time": "2023-04-18T13:39:18.093579Z"
    },
    "collapsed": false,
    "jupyter": {
     "outputs_hidden": false
    }
   },
   "outputs": [],
   "source": [
    "# Sort results\n",
    "top_results = evaluation.sort_values(by=['map'], ascending=False)"
   ]
  },
  {
   "cell_type": "code",
   "execution_count": null,
   "metadata": {
    "ExecuteTime": {
     "end_time": "2023-04-18T13:39:19.820548Z",
     "start_time": "2023-04-18T13:39:19.657592Z"
    },
    "collapsed": false,
    "jupyter": {
     "outputs_hidden": false
    }
   },
   "outputs": [],
   "source": [
    "# Display results\n",
    "display(top_results)"
   ]
  },
  {
   "cell_type": "markdown",
   "metadata": {
    "collapsed": false,
    "jupyter": {
     "outputs_hidden": false
    }
   },
   "source": [
    "--> Best MAP: k=100, max_iter=100, learning_rate= 0.01, lambda_reg= 0.005:\n",
    "\n",
    "MAP: 0.023954677521471082,\n",
    "NDCG: 0.06299806652128082,\n",
    "P: 0.04356243949661181,\n",
    "R: 0.05964687305096144\n"
   ]
  },
  {
   "cell_type": "markdown",
   "metadata": {
    "collapsed": false,
    "jupyter": {
     "outputs_hidden": false
    }
   },
   "source": [
    "-----------------------------------------------------------\n",
    "# Filtering & Post-Evaluation\n",
    "-----------------------------------------------------------"
   ]
  },
  {
   "cell_type": "markdown",
   "metadata": {
    "collapsed": false,
    "jupyter": {
     "outputs_hidden": false
    }
   },
   "source": [
    "## Filter by threshold"
   ]
  },
  {
   "cell_type": "code",
   "execution_count": null,
   "metadata": {
    "collapsed": false,
    "jupyter": {
     "outputs_hidden": false
    }
   },
   "outputs": [],
   "source": [
    "# Configs\n",
    "configs = {\n",
    "    \"score_config\": [(score_util.WHO_SCORE, who_dict), (score_util.FSA_SCORE, fsa_dict), (score_util.NUTRI_SCORE, nutri_dict)],\n",
    "    \"threshold\": [0.25, 0.5, 0.75]\n",
    "}\n",
    "config_grid = recommenders.tuning.parameter_sweep.generate_param_grid(configs)"
   ]
  },
  {
   "cell_type": "code",
   "execution_count": null,
   "metadata": {
    "ExecuteTime": {
     "end_time": "2023-04-18T13:43:09.166270Z",
     "start_time": "2023-04-18T13:39:59.707059Z"
    },
    "collapsed": false,
    "jupyter": {
     "outputs_hidden": false
    }
   },
   "outputs": [],
   "source": [
    "# Filtering\n",
    "healthy_model_predictions = filtering_util.multi_filter_recipes_by_threshold(config_grid, model_predictions, normalized_threshold=True)"
   ]
  },
  {
   "cell_type": "code",
   "execution_count": null,
   "metadata": {
    "ExecuteTime": {
     "end_time": "2023-04-18T13:45:13.785782Z",
     "start_time": "2023-04-18T13:44:41.394309Z"
    },
    "collapsed": false,
    "jupyter": {
     "outputs_hidden": false
    }
   },
   "outputs": [],
   "source": [
    "# Post-Evaluation\n",
    "healthy_evaluation = healthy_recommender_util.calc_scores(who_dict, fsa_dict, nutri_dict, test, healthy_model_predictions, TOP_K, store_results=False, normalize=True)\n",
    "healthy_top_results = healthy_evaluation.sort_values(by=['map'], ascending=False)\n",
    "display(healthy_top_results)"
   ]
  },
  {
   "cell_type": "markdown",
   "metadata": {
    "collapsed": false,
    "jupyter": {
     "outputs_hidden": false
    }
   },
   "source": [
    "## Filter by percentage"
   ]
  },
  {
   "cell_type": "code",
   "execution_count": null,
   "metadata": {
    "collapsed": false,
    "jupyter": {
     "outputs_hidden": false
    }
   },
   "outputs": [],
   "source": [
    "# Configs\n",
    "configs = {\n",
    "    \"score_config\": [(score_util.WHO_SCORE, who_dict), (score_util.FSA_SCORE, fsa_dict), (score_util.NUTRI_SCORE, nutri_dict)],\n",
    "    \"percentage\": [0.25, 0.5, 0.75]\n",
    "}\n",
    "config_grid = recommenders.tuning.parameter_sweep.generate_param_grid(configs)"
   ]
  },
  {
   "cell_type": "code",
   "execution_count": null,
   "metadata": {
    "ExecuteTime": {
     "end_time": "2023-04-11T09:42:11.201908Z",
     "start_time": "2023-04-11T09:40:02.876980Z"
    },
    "collapsed": false,
    "jupyter": {
     "outputs_hidden": false
    }
   },
   "outputs": [],
   "source": [
    "# Filtering\n",
    "healthy_model_predictions = filtering_util.multi_filter_recipes_by_percentage(config_grid, model_predictions)"
   ]
  },
  {
   "cell_type": "code",
   "execution_count": null,
   "metadata": {
    "ExecuteTime": {
     "end_time": "2023-04-11T09:42:25.774252Z",
     "start_time": "2023-04-11T09:42:15.702339Z"
    },
    "collapsed": false,
    "jupyter": {
     "outputs_hidden": false
    }
   },
   "outputs": [],
   "source": [
    "# Post-Evaluation\n",
    "healthy_evaluation = healthy_recommender_util.calc_scores(who_dict, fsa_dict, nutri_dict, test, healthy_model_predictions, TOP_K, store_results=False, normalize=True)\n",
    "healthy_top_results = healthy_evaluation.sort_values(by=['map'], ascending=False)\n",
    "display(healthy_top_results)"
   ]
  },
  {
   "cell_type": "markdown",
   "metadata": {
    "collapsed": false,
    "jupyter": {
     "outputs_hidden": false
    }
   },
   "source": [
    "## Replace unhealthy recipes"
   ]
  },
  {
   "cell_type": "code",
   "execution_count": null,
   "metadata": {
    "collapsed": false,
    "jupyter": {
     "outputs_hidden": false
    }
   },
   "outputs": [],
   "source": [
    "# Configs\n",
    "configs = {\n",
    "    \"score_config\": [(score_util.WHO_SCORE, who_dict), (score_util.FSA_SCORE, fsa_dict), (score_util.NUTRI_SCORE, nutri_dict)],\n",
    "    \"substitution_threshold\": [0.03, 0.05, 0.07]\n",
    "}\n",
    "config_grid = recommenders.tuning.parameter_sweep.generate_param_grid(configs)"
   ]
  },
  {
   "cell_type": "code",
   "execution_count": null,
   "metadata": {
    "ExecuteTime": {
     "end_time": "2023-04-12T09:11:19.427369Z",
     "start_time": "2023-04-12T09:11:18.174369Z"
    },
    "collapsed": false,
    "jupyter": {
     "outputs_hidden": false
    }
   },
   "outputs": [],
   "source": [
    "# Calculate tf-idf similarities of all recipes\n",
    "cosine_similarities = tfidf_util.calc_tfidf_similarities(pp_recipes)"
   ]
  },
  {
   "cell_type": "code",
   "execution_count": null,
   "metadata": {
    "ExecuteTime": {
     "end_time": "2023-04-12T09:45:21.776876Z",
     "start_time": "2023-04-12T09:45:19.319586Z"
    },
    "collapsed": false,
    "jupyter": {
     "outputs_hidden": false
    }
   },
   "outputs": [],
   "source": [
    "# Get healthy substitutions for each recipe\n",
    "healthy_substitution_pairs = tfidf_util.get_healthy_substitutions(config_grid, cosine_similarities)"
   ]
  },
  {
   "cell_type": "code",
   "execution_count": null,
   "metadata": {
    "ExecuteTime": {
     "end_time": "2023-04-12T09:52:39.527138Z",
     "start_time": "2023-04-12T09:52:27.289037Z"
    },
    "collapsed": false,
    "jupyter": {
     "outputs_hidden": false
    }
   },
   "outputs": [],
   "source": [
    "# Filtering\n",
    "healthy_model_predictions = filtering_util.multi_exchange_recipes(model_predictions, healthy_substitution_pairs, TOP_K)"
   ]
  },
  {
   "cell_type": "code",
   "execution_count": null,
   "metadata": {
    "ExecuteTime": {
     "end_time": "2023-04-12T09:54:07.564035Z",
     "start_time": "2023-04-12T09:53:58.505810Z"
    },
    "collapsed": false,
    "jupyter": {
     "outputs_hidden": false
    }
   },
   "outputs": [],
   "source": [
    "# Post-Evaluation\n",
    "healthy_evaluation = healthy_recommender_util.calc_scores(who_dict, fsa_dict, nutri_dict, test, healthy_model_predictions, TOP_K, store_results=False, normalize=True)\n",
    "healthy_top_results = healthy_evaluation.sort_values(by=['map'], ascending=False)\n",
    "display(healthy_top_results)"
   ]
  },
  {
   "cell_type": "code",
   "execution_count": null,
   "metadata": {
    "collapsed": false,
    "jupyter": {
     "outputs_hidden": false
    }
   },
   "outputs": [],
   "source": []
  }
 ],
 "metadata": {
  "kernelspec": {
   "display_name": "Python 3 (ipykernel)",
   "language": "python",
   "name": "python3"
  },
  "language_info": {
   "codemirror_mode": {
    "name": "ipython",
    "version": 3
   },
   "file_extension": ".py",
   "mimetype": "text/x-python",
   "name": "python",
   "nbconvert_exporter": "python",
   "pygments_lexer": "ipython3",
   "version": "3.8.19"
  }
 },
 "nbformat": 4,
 "nbformat_minor": 4
}
